{
 "cells": [
  {
   "attachments": {},
   "cell_type": "markdown",
   "metadata": {},
   "source": [
    "# Kichstarter Challenge\n",
    "\n"
   ]
  },
  {
   "cell_type": "markdown",
   "metadata": {
    "id": "ozsULGIG5Wlt"
   },
   "source": [
    "## Set-up and Import"
   ]
  },
  {
   "cell_type": "code",
   "execution_count": 192,
   "metadata": {
    "id": "vklPgSsF2ZHH"
   },
   "outputs": [],
   "source": [
    "# Import necessary libraries\n",
    "import numpy as np\n",
    "import pandas as pd\n",
    "import matplotlib.pyplot as plt\n",
    "import seaborn as sns\n",
    "#import missingno as msno\n",
    "import warnings\n",
    "warnings.filterwarnings(\"ignore\")\n",
    "from datetime import datetime, timezone\n",
    "import json\n",
    "\n",
    "# Libraries for data import\n",
    "import os\n",
    "import glob\n",
    "\n",
    "# Preprocessing\n",
    "#from imblearn.over_sampling import RandomOverSampler\n",
    "from sklearn.preprocessing import MinMaxScaler\n",
    "from sklearn.preprocessing import OneHotEncoder, StandardScaler\n",
    "\n",
    "from sklearn.model_selection import train_test_split, GridSearchCV, cross_validate, cross_val_predict\n",
    "from sklearn.linear_model import LogisticRegression\n",
    "from sklearn.svm import SVC\n",
    "from sklearn.neighbors import KNeighborsClassifier\n",
    "from sklearn.tree import DecisionTreeClassifier\n",
    "\n",
    "from sklearn.metrics import plot_confusion_matrix, recall_score, accuracy_score, precision_score\n",
    "from sklearn.metrics import classification_report, confusion_matrix, roc_curve\n",
    "from sklearn.metrics import fbeta_score, make_scorer\n",
    "\n",
    "\n",
    "# Define a plotting style to be used for all plots in this notebook\n",
    "plt.style.use('tableau-colorblind10')"
   ]
  },
  {
   "cell_type": "markdown",
   "metadata": {},
   "source": [
    "We will import the data from the database using sqlalchemy. After we imported the data we can directly save it as a .csv file so we don't have to run the query every time we want to execute the notebook."
   ]
  },
  {
   "cell_type": "code",
   "execution_count": 193,
   "metadata": {},
   "outputs": [],
   "source": [
    "df = pd.read_csv('data/df_cleaned_for_ML.csv')"
   ]
  },
  {
   "cell_type": "code",
   "execution_count": 194,
   "metadata": {},
   "outputs": [
    {
     "data": {
      "text/html": [
       "<div>\n",
       "<style scoped>\n",
       "    .dataframe tbody tr th:only-of-type {\n",
       "        vertical-align: middle;\n",
       "    }\n",
       "\n",
       "    .dataframe tbody tr th {\n",
       "        vertical-align: top;\n",
       "    }\n",
       "\n",
       "    .dataframe thead th {\n",
       "        text-align: right;\n",
       "    }\n",
       "</style>\n",
       "<table border=\"1\" class=\"dataframe\">\n",
       "  <thead>\n",
       "    <tr style=\"text-align: right;\">\n",
       "      <th></th>\n",
       "      <th>backers_count</th>\n",
       "      <th>category</th>\n",
       "      <th>country</th>\n",
       "      <th>created_at</th>\n",
       "      <th>deadline</th>\n",
       "      <th>id</th>\n",
       "      <th>is_starrable</th>\n",
       "      <th>launched_at</th>\n",
       "      <th>staff_pick</th>\n",
       "      <th>state</th>\n",
       "      <th>...</th>\n",
       "      <th>creation_to_launch_days</th>\n",
       "      <th>campaign_days</th>\n",
       "      <th>launch_day</th>\n",
       "      <th>deadline_day</th>\n",
       "      <th>launch_month</th>\n",
       "      <th>deadline_month</th>\n",
       "      <th>launch_time</th>\n",
       "      <th>deadline_time</th>\n",
       "      <th>pledge_per_backer</th>\n",
       "      <th>percent_pledged</th>\n",
       "    </tr>\n",
       "  </thead>\n",
       "  <tbody>\n",
       "    <tr>\n",
       "      <th>0</th>\n",
       "      <td>47</td>\n",
       "      <td>games</td>\n",
       "      <td>US</td>\n",
       "      <td>2017-08-02 16:28:13</td>\n",
       "      <td>2017-09-09 19:00:59</td>\n",
       "      <td>928751314</td>\n",
       "      <td>False</td>\n",
       "      <td>2017-08-10 19:00:59</td>\n",
       "      <td>False</td>\n",
       "      <td>successful</td>\n",
       "      <td>...</td>\n",
       "      <td>8</td>\n",
       "      <td>1</td>\n",
       "      <td>10</td>\n",
       "      <td>9</td>\n",
       "      <td>8</td>\n",
       "      <td>9</td>\n",
       "      <td>19</td>\n",
       "      <td>19</td>\n",
       "      <td>41.49</td>\n",
       "      <td>195.00</td>\n",
       "    </tr>\n",
       "    <tr>\n",
       "      <th>1</th>\n",
       "      <td>271</td>\n",
       "      <td>music</td>\n",
       "      <td>US</td>\n",
       "      <td>2012-09-30 08:45:33</td>\n",
       "      <td>2013-06-12 07:03:15</td>\n",
       "      <td>928014092</td>\n",
       "      <td>False</td>\n",
       "      <td>2013-05-13 07:03:15</td>\n",
       "      <td>False</td>\n",
       "      <td>successful</td>\n",
       "      <td>...</td>\n",
       "      <td>17</td>\n",
       "      <td>1</td>\n",
       "      <td>13</td>\n",
       "      <td>12</td>\n",
       "      <td>5</td>\n",
       "      <td>6</td>\n",
       "      <td>7</td>\n",
       "      <td>7</td>\n",
       "      <td>82.67</td>\n",
       "      <td>149.36</td>\n",
       "    </tr>\n",
       "    <tr>\n",
       "      <th>2</th>\n",
       "      <td>3</td>\n",
       "      <td>games</td>\n",
       "      <td>GB</td>\n",
       "      <td>2017-01-07 10:11:11</td>\n",
       "      <td>2017-03-13 18:22:56</td>\n",
       "      <td>596091328</td>\n",
       "      <td>False</td>\n",
       "      <td>2017-01-12 19:22:56</td>\n",
       "      <td>False</td>\n",
       "      <td>failed</td>\n",
       "      <td>...</td>\n",
       "      <td>5</td>\n",
       "      <td>1</td>\n",
       "      <td>12</td>\n",
       "      <td>13</td>\n",
       "      <td>1</td>\n",
       "      <td>3</td>\n",
       "      <td>19</td>\n",
       "      <td>18</td>\n",
       "      <td>55.13</td>\n",
       "      <td>1.36</td>\n",
       "    </tr>\n",
       "    <tr>\n",
       "      <th>3</th>\n",
       "      <td>3</td>\n",
       "      <td>publishing</td>\n",
       "      <td>US</td>\n",
       "      <td>2012-12-06 19:04:31</td>\n",
       "      <td>2013-01-09 21:32:07</td>\n",
       "      <td>998516049</td>\n",
       "      <td>False</td>\n",
       "      <td>2012-12-10 21:32:07</td>\n",
       "      <td>False</td>\n",
       "      <td>successful</td>\n",
       "      <td>...</td>\n",
       "      <td>4</td>\n",
       "      <td>1</td>\n",
       "      <td>10</td>\n",
       "      <td>9</td>\n",
       "      <td>12</td>\n",
       "      <td>1</td>\n",
       "      <td>21</td>\n",
       "      <td>21</td>\n",
       "      <td>940.00</td>\n",
       "      <td>100.71</td>\n",
       "    </tr>\n",
       "    <tr>\n",
       "      <th>4</th>\n",
       "      <td>35</td>\n",
       "      <td>music</td>\n",
       "      <td>US</td>\n",
       "      <td>2014-10-24 19:35:50</td>\n",
       "      <td>2015-05-02 04:25:46</td>\n",
       "      <td>1224600291</td>\n",
       "      <td>False</td>\n",
       "      <td>2015-04-02 04:25:46</td>\n",
       "      <td>False</td>\n",
       "      <td>successful</td>\n",
       "      <td>...</td>\n",
       "      <td>22</td>\n",
       "      <td>0</td>\n",
       "      <td>2</td>\n",
       "      <td>2</td>\n",
       "      <td>4</td>\n",
       "      <td>5</td>\n",
       "      <td>4</td>\n",
       "      <td>4</td>\n",
       "      <td>106.43</td>\n",
       "      <td>106.43</td>\n",
       "    </tr>\n",
       "  </tbody>\n",
       "</table>\n",
       "<p>5 rows × 25 columns</p>\n",
       "</div>"
      ],
      "text/plain": [
       "   backers_count    category country           created_at  \\\n",
       "0             47       games      US  2017-08-02 16:28:13   \n",
       "1            271       music      US  2012-09-30 08:45:33   \n",
       "2              3       games      GB  2017-01-07 10:11:11   \n",
       "3              3  publishing      US  2012-12-06 19:04:31   \n",
       "4             35       music      US  2014-10-24 19:35:50   \n",
       "\n",
       "              deadline          id  is_starrable          launched_at  \\\n",
       "0  2017-09-09 19:00:59   928751314         False  2017-08-10 19:00:59   \n",
       "1  2013-06-12 07:03:15   928014092         False  2013-05-13 07:03:15   \n",
       "2  2017-03-13 18:22:56   596091328         False  2017-01-12 19:22:56   \n",
       "3  2013-01-09 21:32:07   998516049         False  2012-12-10 21:32:07   \n",
       "4  2015-05-02 04:25:46  1224600291         False  2015-04-02 04:25:46   \n",
       "\n",
       "   staff_pick       state  ...  creation_to_launch_days  campaign_days  \\\n",
       "0       False  successful  ...                        8              1   \n",
       "1       False  successful  ...                       17              1   \n",
       "2       False      failed  ...                        5              1   \n",
       "3       False  successful  ...                        4              1   \n",
       "4       False  successful  ...                       22              0   \n",
       "\n",
       "  launch_day  deadline_day  launch_month  deadline_month  launch_time  \\\n",
       "0         10             9             8               9           19   \n",
       "1         13            12             5               6            7   \n",
       "2         12            13             1               3           19   \n",
       "3         10             9            12               1           21   \n",
       "4          2             2             4               5            4   \n",
       "\n",
       "   deadline_time  pledge_per_backer  percent_pledged  \n",
       "0             19              41.49           195.00  \n",
       "1              7              82.67           149.36  \n",
       "2             18              55.13             1.36  \n",
       "3             21             940.00           100.71  \n",
       "4              4             106.43           106.43  \n",
       "\n",
       "[5 rows x 25 columns]"
      ]
     },
     "execution_count": 194,
     "metadata": {},
     "output_type": "execute_result"
    }
   ],
   "source": [
    "df.head()"
   ]
  },
  {
   "cell_type": "code",
   "execution_count": 178,
   "metadata": {},
   "outputs": [
    {
     "data": {
      "text/plain": [
       "backers_count                int64\n",
       "category                    object\n",
       "country                     object\n",
       "created_at                  object\n",
       "deadline                    object\n",
       "id                           int64\n",
       "is_starrable                  bool\n",
       "launched_at                 object\n",
       "staff_pick                    bool\n",
       "state                       object\n",
       "usd_pledged                float64\n",
       "blurb_length                 int64\n",
       "sub_category                object\n",
       "usd_goal                   float64\n",
       "name_length                  int64\n",
       "creation_to_launch_days      int64\n",
       "campaign_days                int64\n",
       "launch_day                   int64\n",
       "deadline_day                 int64\n",
       "launch_month                 int64\n",
       "deadline_month               int64\n",
       "launch_time                  int64\n",
       "deadline_time                int64\n",
       "pledge_per_backer          float64\n",
       "percent_pledged            float64\n",
       "dtype: object"
      ]
     },
     "execution_count": 178,
     "metadata": {},
     "output_type": "execute_result"
    }
   ],
   "source": [
    "df.dtypes"
   ]
  },
  {
   "cell_type": "markdown",
   "metadata": {
    "id": "9mWtOyY96pDc"
   },
   "source": [
    "## The Data\n",
    "Before starting to build and train a model we have to explore and maybe also clean the data. "
   ]
  },
  {
   "cell_type": "code",
   "execution_count": 195,
   "metadata": {
    "colab": {
     "base_uri": "https://localhost:8080/",
     "height": 85
    },
    "id": "3T7NCX_82yDc",
    "outputId": "19691026-fa97-4891-c574-60563597c369"
   },
   "outputs": [
    {
     "name": "stdout",
     "output_type": "stream",
     "text": [
      "Kickstarter dataset\n",
      "==================\n",
      "# observations: 192664\n",
      "# features:     24\n"
     ]
    }
   ],
   "source": [
    "#Print the shape of the data\n",
    "print('Kickstarter dataset')\n",
    "print('==================')\n",
    "print('# observations: {}'.format(df.shape[0]))\n",
    "print('# features:     {}'.format(df.shape[1]-1))"
   ]
  },
  {
   "cell_type": "markdown",
   "metadata": {
    "id": "_YX1QCGc9e2_"
   },
   "source": [
    "As we can see, the dataset contains 768 observations and 9 columns from which the last column defines the label, i.e. the test result. \n",
    "Thus, we have 8 independent features.\n",
    "\n",
    "Let us take a look at the single variables included in the dataset:"
   ]
  },
  {
   "cell_type": "code",
   "execution_count": 180,
   "metadata": {
    "colab": {
     "base_uri": "https://localhost:8080/",
     "height": 289
    },
    "id": "8rEjxUTP6d-f",
    "outputId": "201b5141-d18e-47a7-b904-ee1ff9a623b4"
   },
   "outputs": [
    {
     "name": "stdout",
     "output_type": "stream",
     "text": [
      "<class 'pandas.core.frame.DataFrame'>\n",
      "RangeIndex: 192664 entries, 0 to 192663\n",
      "Data columns (total 25 columns):\n",
      " #   Column                   Non-Null Count   Dtype  \n",
      "---  ------                   --------------   -----  \n",
      " 0   backers_count            192664 non-null  int64  \n",
      " 1   category                 192664 non-null  object \n",
      " 2   country                  192664 non-null  object \n",
      " 3   created_at               192664 non-null  object \n",
      " 4   deadline                 192664 non-null  object \n",
      " 5   id                       192664 non-null  int64  \n",
      " 6   is_starrable             192664 non-null  bool   \n",
      " 7   launched_at              192664 non-null  object \n",
      " 8   staff_pick               192664 non-null  bool   \n",
      " 9   state                    192664 non-null  object \n",
      " 10  usd_pledged              192664 non-null  float64\n",
      " 11  blurb_length             192664 non-null  int64  \n",
      " 12  sub_category             192664 non-null  object \n",
      " 13  usd_goal                 192664 non-null  float64\n",
      " 14  name_length              192664 non-null  int64  \n",
      " 15  creation_to_launch_days  192664 non-null  int64  \n",
      " 16  campaign_days            192664 non-null  int64  \n",
      " 17  launch_day               192664 non-null  int64  \n",
      " 18  deadline_day             192664 non-null  int64  \n",
      " 19  launch_month             192664 non-null  int64  \n",
      " 20  deadline_month           192664 non-null  int64  \n",
      " 21  launch_time              192664 non-null  int64  \n",
      " 22  deadline_time            192664 non-null  int64  \n",
      " 23  pledge_per_backer        192664 non-null  float64\n",
      " 24  percent_pledged          192664 non-null  float64\n",
      "dtypes: bool(2), float64(4), int64(12), object(7)\n",
      "memory usage: 34.2+ MB\n"
     ]
    }
   ],
   "source": [
    "df.info()"
   ]
  },
  {
   "cell_type": "code",
   "execution_count": 181,
   "metadata": {},
   "outputs": [
    {
     "data": {
      "text/html": [
       "<div>\n",
       "<style scoped>\n",
       "    .dataframe tbody tr th:only-of-type {\n",
       "        vertical-align: middle;\n",
       "    }\n",
       "\n",
       "    .dataframe tbody tr th {\n",
       "        vertical-align: top;\n",
       "    }\n",
       "\n",
       "    .dataframe thead th {\n",
       "        text-align: right;\n",
       "    }\n",
       "</style>\n",
       "<table border=\"1\" class=\"dataframe\">\n",
       "  <thead>\n",
       "    <tr style=\"text-align: right;\">\n",
       "      <th></th>\n",
       "      <th>backers_count</th>\n",
       "      <th>id</th>\n",
       "      <th>usd_pledged</th>\n",
       "      <th>blurb_length</th>\n",
       "      <th>usd_goal</th>\n",
       "      <th>name_length</th>\n",
       "      <th>creation_to_launch_days</th>\n",
       "      <th>campaign_days</th>\n",
       "      <th>launch_day</th>\n",
       "      <th>deadline_day</th>\n",
       "      <th>launch_month</th>\n",
       "      <th>deadline_month</th>\n",
       "      <th>launch_time</th>\n",
       "      <th>deadline_time</th>\n",
       "      <th>pledge_per_backer</th>\n",
       "      <th>percent_pledged</th>\n",
       "    </tr>\n",
       "  </thead>\n",
       "  <tbody>\n",
       "    <tr>\n",
       "      <th>count</th>\n",
       "      <td>192664.000000</td>\n",
       "      <td>1.926640e+05</td>\n",
       "      <td>1.926640e+05</td>\n",
       "      <td>192664.000000</td>\n",
       "      <td>1.926640e+05</td>\n",
       "      <td>192664.000000</td>\n",
       "      <td>192664.000000</td>\n",
       "      <td>192664.000000</td>\n",
       "      <td>192664.000000</td>\n",
       "      <td>192664.000000</td>\n",
       "      <td>192664.000000</td>\n",
       "      <td>192664.000000</td>\n",
       "      <td>192664.000000</td>\n",
       "      <td>192664.000000</td>\n",
       "      <td>192664.000000</td>\n",
       "      <td>1.926640e+05</td>\n",
       "    </tr>\n",
       "    <tr>\n",
       "      <th>mean</th>\n",
       "      <td>152.563463</td>\n",
       "      <td>1.072715e+09</td>\n",
       "      <td>1.351672e+04</td>\n",
       "      <td>18.894781</td>\n",
       "      <td>3.778767e+04</td>\n",
       "      <td>5.767502</td>\n",
       "      <td>8.513988</td>\n",
       "      <td>5.835730</td>\n",
       "      <td>15.207781</td>\n",
       "      <td>15.205731</td>\n",
       "      <td>6.442667</td>\n",
       "      <td>6.734569</td>\n",
       "      <td>13.313167</td>\n",
       "      <td>12.238363</td>\n",
       "      <td>74.424624</td>\n",
       "      <td>5.131338e+02</td>\n",
       "    </tr>\n",
       "    <tr>\n",
       "      <th>std</th>\n",
       "      <td>898.347455</td>\n",
       "      <td>6.195476e+08</td>\n",
       "      <td>8.918397e+04</td>\n",
       "      <td>5.011409</td>\n",
       "      <td>1.065709e+06</td>\n",
       "      <td>2.705023</td>\n",
       "      <td>7.658024</td>\n",
       "      <td>7.772306</td>\n",
       "      <td>8.870334</td>\n",
       "      <td>9.072131</td>\n",
       "      <td>3.358092</td>\n",
       "      <td>3.373498</td>\n",
       "      <td>7.384585</td>\n",
       "      <td>7.593188</td>\n",
       "      <td>136.621628</td>\n",
       "      <td>2.531355e+04</td>\n",
       "    </tr>\n",
       "    <tr>\n",
       "      <th>min</th>\n",
       "      <td>0.000000</td>\n",
       "      <td>8.624000e+03</td>\n",
       "      <td>0.000000e+00</td>\n",
       "      <td>0.000000</td>\n",
       "      <td>1.000000e-02</td>\n",
       "      <td>1.000000</td>\n",
       "      <td>0.000000</td>\n",
       "      <td>0.000000</td>\n",
       "      <td>1.000000</td>\n",
       "      <td>1.000000</td>\n",
       "      <td>1.000000</td>\n",
       "      <td>1.000000</td>\n",
       "      <td>0.000000</td>\n",
       "      <td>0.000000</td>\n",
       "      <td>0.000000</td>\n",
       "      <td>0.000000e+00</td>\n",
       "    </tr>\n",
       "    <tr>\n",
       "      <th>25%</th>\n",
       "      <td>4.000000</td>\n",
       "      <td>5.347017e+08</td>\n",
       "      <td>1.500000e+02</td>\n",
       "      <td>16.000000</td>\n",
       "      <td>1.500000e+03</td>\n",
       "      <td>4.000000</td>\n",
       "      <td>2.000000</td>\n",
       "      <td>1.000000</td>\n",
       "      <td>8.000000</td>\n",
       "      <td>7.000000</td>\n",
       "      <td>4.000000</td>\n",
       "      <td>4.000000</td>\n",
       "      <td>6.000000</td>\n",
       "      <td>5.000000</td>\n",
       "      <td>22.750000</td>\n",
       "      <td>3.640000e+00</td>\n",
       "    </tr>\n",
       "    <tr>\n",
       "      <th>50%</th>\n",
       "      <td>30.000000</td>\n",
       "      <td>1.074132e+09</td>\n",
       "      <td>1.772000e+03</td>\n",
       "      <td>20.000000</td>\n",
       "      <td>5.000000e+03</td>\n",
       "      <td>6.000000</td>\n",
       "      <td>6.000000</td>\n",
       "      <td>1.000000</td>\n",
       "      <td>15.000000</td>\n",
       "      <td>15.000000</td>\n",
       "      <td>7.000000</td>\n",
       "      <td>7.000000</td>\n",
       "      <td>16.000000</td>\n",
       "      <td>14.000000</td>\n",
       "      <td>47.710000</td>\n",
       "      <td>1.030000e+02</td>\n",
       "    </tr>\n",
       "    <tr>\n",
       "      <th>75%</th>\n",
       "      <td>94.250000</td>\n",
       "      <td>1.608192e+09</td>\n",
       "      <td>7.096622e+03</td>\n",
       "      <td>22.000000</td>\n",
       "      <td>1.244704e+04</td>\n",
       "      <td>8.000000</td>\n",
       "      <td>13.000000</td>\n",
       "      <td>10.000000</td>\n",
       "      <td>23.000000</td>\n",
       "      <td>23.000000</td>\n",
       "      <td>9.000000</td>\n",
       "      <td>10.000000</td>\n",
       "      <td>19.000000</td>\n",
       "      <td>19.000000</td>\n",
       "      <td>86.200000</td>\n",
       "      <td>1.288000e+02</td>\n",
       "    </tr>\n",
       "    <tr>\n",
       "      <th>max</th>\n",
       "      <td>105857.000000</td>\n",
       "      <td>2.147476e+09</td>\n",
       "      <td>8.596475e+06</td>\n",
       "      <td>35.000000</td>\n",
       "      <td>1.523501e+08</td>\n",
       "      <td>27.000000</td>\n",
       "      <td>30.000000</td>\n",
       "      <td>30.000000</td>\n",
       "      <td>31.000000</td>\n",
       "      <td>31.000000</td>\n",
       "      <td>12.000000</td>\n",
       "      <td>12.000000</td>\n",
       "      <td>23.000000</td>\n",
       "      <td>23.000000</td>\n",
       "      <td>10000.000000</td>\n",
       "      <td>6.876410e+06</td>\n",
       "    </tr>\n",
       "  </tbody>\n",
       "</table>\n",
       "</div>"
      ],
      "text/plain": [
       "       backers_count            id   usd_pledged   blurb_length      usd_goal  \\\n",
       "count  192664.000000  1.926640e+05  1.926640e+05  192664.000000  1.926640e+05   \n",
       "mean      152.563463  1.072715e+09  1.351672e+04      18.894781  3.778767e+04   \n",
       "std       898.347455  6.195476e+08  8.918397e+04       5.011409  1.065709e+06   \n",
       "min         0.000000  8.624000e+03  0.000000e+00       0.000000  1.000000e-02   \n",
       "25%         4.000000  5.347017e+08  1.500000e+02      16.000000  1.500000e+03   \n",
       "50%        30.000000  1.074132e+09  1.772000e+03      20.000000  5.000000e+03   \n",
       "75%        94.250000  1.608192e+09  7.096622e+03      22.000000  1.244704e+04   \n",
       "max    105857.000000  2.147476e+09  8.596475e+06      35.000000  1.523501e+08   \n",
       "\n",
       "         name_length  creation_to_launch_days  campaign_days     launch_day  \\\n",
       "count  192664.000000            192664.000000  192664.000000  192664.000000   \n",
       "mean        5.767502                 8.513988       5.835730      15.207781   \n",
       "std         2.705023                 7.658024       7.772306       8.870334   \n",
       "min         1.000000                 0.000000       0.000000       1.000000   \n",
       "25%         4.000000                 2.000000       1.000000       8.000000   \n",
       "50%         6.000000                 6.000000       1.000000      15.000000   \n",
       "75%         8.000000                13.000000      10.000000      23.000000   \n",
       "max        27.000000                30.000000      30.000000      31.000000   \n",
       "\n",
       "        deadline_day   launch_month  deadline_month    launch_time  \\\n",
       "count  192664.000000  192664.000000   192664.000000  192664.000000   \n",
       "mean       15.205731       6.442667        6.734569      13.313167   \n",
       "std         9.072131       3.358092        3.373498       7.384585   \n",
       "min         1.000000       1.000000        1.000000       0.000000   \n",
       "25%         7.000000       4.000000        4.000000       6.000000   \n",
       "50%        15.000000       7.000000        7.000000      16.000000   \n",
       "75%        23.000000       9.000000       10.000000      19.000000   \n",
       "max        31.000000      12.000000       12.000000      23.000000   \n",
       "\n",
       "       deadline_time  pledge_per_backer  percent_pledged  \n",
       "count  192664.000000      192664.000000     1.926640e+05  \n",
       "mean       12.238363          74.424624     5.131338e+02  \n",
       "std         7.593188         136.621628     2.531355e+04  \n",
       "min         0.000000           0.000000     0.000000e+00  \n",
       "25%         5.000000          22.750000     3.640000e+00  \n",
       "50%        14.000000          47.710000     1.030000e+02  \n",
       "75%        19.000000          86.200000     1.288000e+02  \n",
       "max        23.000000       10000.000000     6.876410e+06  "
      ]
     },
     "execution_count": 181,
     "metadata": {},
     "output_type": "execute_result"
    }
   ],
   "source": [
    "df.describe()"
   ]
  },
  {
   "cell_type": "code",
   "execution_count": 182,
   "metadata": {},
   "outputs": [
    {
     "data": {
      "text/plain": [
       "backers_count              0\n",
       "category                   0\n",
       "country                    0\n",
       "created_at                 0\n",
       "deadline                   0\n",
       "id                         0\n",
       "is_starrable               0\n",
       "launched_at                0\n",
       "staff_pick                 0\n",
       "state                      0\n",
       "usd_pledged                0\n",
       "blurb_length               0\n",
       "sub_category               0\n",
       "usd_goal                   0\n",
       "name_length                0\n",
       "creation_to_launch_days    0\n",
       "campaign_days              0\n",
       "launch_day                 0\n",
       "deadline_day               0\n",
       "launch_month               0\n",
       "deadline_month             0\n",
       "launch_time                0\n",
       "deadline_time              0\n",
       "pledge_per_backer          0\n",
       "percent_pledged            0\n",
       "dtype: int64"
      ]
     },
     "execution_count": 182,
     "metadata": {},
     "output_type": "execute_result"
    }
   ],
   "source": [
    "df.isnull().sum()"
   ]
  },
  {
   "cell_type": "markdown",
   "metadata": {
    "id": "O5NCIVat7Pfl"
   },
   "source": [
    "From the output above we could assume that the data is already rather clean with no missing values, but the summary we get with `.describe()` should make us wonder... We definitely have to check if in our case maybe missing values are represented by zeros. Before we have a closer look at the data and try to impute values, we will split our data into train and test set to make sure our test data will be not \"contaminated\" by information from the train data and vice versa."
   ]
  },
  {
   "cell_type": "code",
   "execution_count": 196,
   "metadata": {},
   "outputs": [
    {
     "data": {
      "text/html": [
       "<div>\n",
       "<style scoped>\n",
       "    .dataframe tbody tr th:only-of-type {\n",
       "        vertical-align: middle;\n",
       "    }\n",
       "\n",
       "    .dataframe tbody tr th {\n",
       "        vertical-align: top;\n",
       "    }\n",
       "\n",
       "    .dataframe thead th {\n",
       "        text-align: right;\n",
       "    }\n",
       "</style>\n",
       "<table border=\"1\" class=\"dataframe\">\n",
       "  <thead>\n",
       "    <tr style=\"text-align: right;\">\n",
       "      <th></th>\n",
       "      <th>category</th>\n",
       "      <th>country</th>\n",
       "      <th>is_starrable</th>\n",
       "      <th>staff_pick</th>\n",
       "      <th>state</th>\n",
       "      <th>blurb_length</th>\n",
       "      <th>usd_goal</th>\n",
       "      <th>name_length</th>\n",
       "      <th>creation_to_launch_days</th>\n",
       "      <th>campaign_days</th>\n",
       "      <th>launch_day</th>\n",
       "      <th>deadline_day</th>\n",
       "      <th>launch_month</th>\n",
       "      <th>deadline_month</th>\n",
       "      <th>launch_time</th>\n",
       "      <th>deadline_time</th>\n",
       "    </tr>\n",
       "  </thead>\n",
       "  <tbody>\n",
       "    <tr>\n",
       "      <th>0</th>\n",
       "      <td>games</td>\n",
       "      <td>US</td>\n",
       "      <td>False</td>\n",
       "      <td>False</td>\n",
       "      <td>successful</td>\n",
       "      <td>22</td>\n",
       "      <td>1000.00</td>\n",
       "      <td>4</td>\n",
       "      <td>8</td>\n",
       "      <td>1</td>\n",
       "      <td>10</td>\n",
       "      <td>9</td>\n",
       "      <td>8</td>\n",
       "      <td>9</td>\n",
       "      <td>19</td>\n",
       "      <td>19</td>\n",
       "    </tr>\n",
       "    <tr>\n",
       "      <th>1</th>\n",
       "      <td>music</td>\n",
       "      <td>US</td>\n",
       "      <td>False</td>\n",
       "      <td>False</td>\n",
       "      <td>successful</td>\n",
       "      <td>15</td>\n",
       "      <td>15000.00</td>\n",
       "      <td>7</td>\n",
       "      <td>17</td>\n",
       "      <td>1</td>\n",
       "      <td>13</td>\n",
       "      <td>12</td>\n",
       "      <td>5</td>\n",
       "      <td>6</td>\n",
       "      <td>7</td>\n",
       "      <td>7</td>\n",
       "    </tr>\n",
       "    <tr>\n",
       "      <th>2</th>\n",
       "      <td>games</td>\n",
       "      <td>GB</td>\n",
       "      <td>False</td>\n",
       "      <td>False</td>\n",
       "      <td>failed</td>\n",
       "      <td>23</td>\n",
       "      <td>12160.66</td>\n",
       "      <td>8</td>\n",
       "      <td>5</td>\n",
       "      <td>1</td>\n",
       "      <td>12</td>\n",
       "      <td>13</td>\n",
       "      <td>1</td>\n",
       "      <td>3</td>\n",
       "      <td>19</td>\n",
       "      <td>18</td>\n",
       "    </tr>\n",
       "    <tr>\n",
       "      <th>3</th>\n",
       "      <td>publishing</td>\n",
       "      <td>US</td>\n",
       "      <td>False</td>\n",
       "      <td>False</td>\n",
       "      <td>successful</td>\n",
       "      <td>24</td>\n",
       "      <td>2800.00</td>\n",
       "      <td>7</td>\n",
       "      <td>4</td>\n",
       "      <td>1</td>\n",
       "      <td>10</td>\n",
       "      <td>9</td>\n",
       "      <td>12</td>\n",
       "      <td>1</td>\n",
       "      <td>21</td>\n",
       "      <td>21</td>\n",
       "    </tr>\n",
       "    <tr>\n",
       "      <th>4</th>\n",
       "      <td>music</td>\n",
       "      <td>US</td>\n",
       "      <td>False</td>\n",
       "      <td>False</td>\n",
       "      <td>successful</td>\n",
       "      <td>18</td>\n",
       "      <td>3500.00</td>\n",
       "      <td>4</td>\n",
       "      <td>22</td>\n",
       "      <td>0</td>\n",
       "      <td>2</td>\n",
       "      <td>2</td>\n",
       "      <td>4</td>\n",
       "      <td>5</td>\n",
       "      <td>4</td>\n",
       "      <td>4</td>\n",
       "    </tr>\n",
       "  </tbody>\n",
       "</table>\n",
       "</div>"
      ],
      "text/plain": [
       "     category country  is_starrable  staff_pick       state  blurb_length  \\\n",
       "0       games      US         False       False  successful            22   \n",
       "1       music      US         False       False  successful            15   \n",
       "2       games      GB         False       False      failed            23   \n",
       "3  publishing      US         False       False  successful            24   \n",
       "4       music      US         False       False  successful            18   \n",
       "\n",
       "   usd_goal  name_length  creation_to_launch_days  campaign_days  launch_day  \\\n",
       "0   1000.00            4                        8              1          10   \n",
       "1  15000.00            7                       17              1          13   \n",
       "2  12160.66            8                        5              1          12   \n",
       "3   2800.00            7                        4              1          10   \n",
       "4   3500.00            4                       22              0           2   \n",
       "\n",
       "   deadline_day  launch_month  deadline_month  launch_time  deadline_time  \n",
       "0             9             8               9           19             19  \n",
       "1            12             5               6            7              7  \n",
       "2            13             1               3           19             18  \n",
       "3             9            12               1           21             21  \n",
       "4             2             4               5            4              4  "
      ]
     },
     "execution_count": 196,
     "metadata": {},
     "output_type": "execute_result"
    }
   ],
   "source": [
    "# Dropping columns and creating new dataframe\n",
    "df = df.drop(['id', 'backers_count', 'created_at', 'deadline', 'launched_at', 'usd_pledged', 'pledge_per_backer', 'percent_pledged', 'sub_category'], axis=1)\n",
    "df.head()"
   ]
  },
  {
   "cell_type": "code",
   "execution_count": 197,
   "metadata": {},
   "outputs": [
    {
     "data": {
      "image/png": "[encoded data removed]",
      "text/plain": [
       "<Figure size 1100x900 with 2 Axes>"
      ]
     },
     "metadata": {},
     "output_type": "display_data"
    }
   ],
   "source": [
    "# Set the style of the visualization\n",
    "sns.set(style=\"white\")\n",
    "\n",
    "# Create a covariance matrix\n",
    "corr = df_transformed.corr()\n",
    "\n",
    "# Generate a mask the size of our covariance matrix\n",
    "mask = np.zeros_like(corr, dtype=np.bool)\n",
    "mask[np.triu_indices_from(mask)] = True\n",
    "\n",
    "# Set up the matplotlib figure\n",
    "f, ax = plt.subplots(figsize = (11,9))\n",
    "\n",
    "# Generate a custom diverging colormap\n",
    "cmap = sns.diverging_palette(220, 10, as_cmap=True)\n",
    "\n",
    "# Draw the heatmap with the mask and correct aspect ratio\n",
    "sns.heatmap(corr, mask=mask, cmap=cmap, center=0, square=True, linewidths=.5, cbar_kws={\"shrink\": .5});\n"
   ]
  },
  {
   "attachments": {},
   "cell_type": "markdown",
   "metadata": {},
   "source": [
    "The dependent variable will now be converted into 1s (successful) and 0s (failure):"
   ]
  },
  {
   "cell_type": "code",
   "execution_count": 203,
   "metadata": {},
   "outputs": [],
   "source": [
    "df['state'] = df['state'].replace({'failed': 0, 'successful': 1})"
   ]
  },
  {
   "cell_type": "code",
   "execution_count": 204,
   "metadata": {},
   "outputs": [
    {
     "data": {
      "text/plain": [
       "category                    object\n",
       "country                     object\n",
       "is_starrable                object\n",
       "staff_pick                  object\n",
       "state                        int64\n",
       "blurb_length                 int64\n",
       "usd_goal                   float64\n",
       "name_length                  int64\n",
       "creation_to_launch_days      int64\n",
       "campaign_days                int64\n",
       "launch_day                   int64\n",
       "deadline_day                 int64\n",
       "launch_month                 int64\n",
       "deadline_month               int64\n",
       "launch_time                  int64\n",
       "deadline_time                int64\n",
       "dtype: object"
      ]
     },
     "execution_count": 204,
     "metadata": {},
     "output_type": "execute_result"
    }
   ],
   "source": [
    "df.dtypes"
   ]
  },
  {
   "cell_type": "code",
   "execution_count": 205,
   "metadata": {},
   "outputs": [],
   "source": [
    "df['staff_pick'] = df['staff_pick'].astype(str)\n",
    "df['is_starrable'] = df['is_starrable'].astype(str)\n"
   ]
  },
  {
   "cell_type": "code",
   "execution_count": 209,
   "metadata": {},
   "outputs": [
    {
     "data": {
      "text/html": [
       "<div>\n",
       "<style scoped>\n",
       "    .dataframe tbody tr th:only-of-type {\n",
       "        vertical-align: middle;\n",
       "    }\n",
       "\n",
       "    .dataframe tbody tr th {\n",
       "        vertical-align: top;\n",
       "    }\n",
       "\n",
       "    .dataframe thead th {\n",
       "        text-align: right;\n",
       "    }\n",
       "</style>\n",
       "<table border=\"1\" class=\"dataframe\">\n",
       "  <thead>\n",
       "    <tr style=\"text-align: right;\">\n",
       "      <th></th>\n",
       "      <th>category</th>\n",
       "      <th>country</th>\n",
       "      <th>is_starrable</th>\n",
       "      <th>staff_pick</th>\n",
       "      <th>state</th>\n",
       "      <th>blurb_length</th>\n",
       "      <th>usd_goal</th>\n",
       "      <th>name_length</th>\n",
       "      <th>creation_to_launch_days</th>\n",
       "      <th>campaign_days</th>\n",
       "      <th>launch_day</th>\n",
       "      <th>deadline_day</th>\n",
       "      <th>launch_month</th>\n",
       "      <th>deadline_month</th>\n",
       "      <th>launch_time</th>\n",
       "      <th>deadline_time</th>\n",
       "    </tr>\n",
       "  </thead>\n",
       "  <tbody>\n",
       "    <tr>\n",
       "      <th>0</th>\n",
       "      <td>games</td>\n",
       "      <td>US</td>\n",
       "      <td>False</td>\n",
       "      <td>False</td>\n",
       "      <td>1</td>\n",
       "      <td>22</td>\n",
       "      <td>1000.00</td>\n",
       "      <td>4</td>\n",
       "      <td>8</td>\n",
       "      <td>1</td>\n",
       "      <td>10</td>\n",
       "      <td>9</td>\n",
       "      <td>8</td>\n",
       "      <td>9</td>\n",
       "      <td>19</td>\n",
       "      <td>19</td>\n",
       "    </tr>\n",
       "    <tr>\n",
       "      <th>1</th>\n",
       "      <td>music</td>\n",
       "      <td>US</td>\n",
       "      <td>False</td>\n",
       "      <td>False</td>\n",
       "      <td>1</td>\n",
       "      <td>15</td>\n",
       "      <td>15000.00</td>\n",
       "      <td>7</td>\n",
       "      <td>17</td>\n",
       "      <td>1</td>\n",
       "      <td>13</td>\n",
       "      <td>12</td>\n",
       "      <td>5</td>\n",
       "      <td>6</td>\n",
       "      <td>7</td>\n",
       "      <td>7</td>\n",
       "    </tr>\n",
       "    <tr>\n",
       "      <th>2</th>\n",
       "      <td>games</td>\n",
       "      <td>GB</td>\n",
       "      <td>False</td>\n",
       "      <td>False</td>\n",
       "      <td>0</td>\n",
       "      <td>23</td>\n",
       "      <td>12160.66</td>\n",
       "      <td>8</td>\n",
       "      <td>5</td>\n",
       "      <td>1</td>\n",
       "      <td>12</td>\n",
       "      <td>13</td>\n",
       "      <td>1</td>\n",
       "      <td>3</td>\n",
       "      <td>19</td>\n",
       "      <td>18</td>\n",
       "    </tr>\n",
       "    <tr>\n",
       "      <th>3</th>\n",
       "      <td>publishing</td>\n",
       "      <td>US</td>\n",
       "      <td>False</td>\n",
       "      <td>False</td>\n",
       "      <td>1</td>\n",
       "      <td>24</td>\n",
       "      <td>2800.00</td>\n",
       "      <td>7</td>\n",
       "      <td>4</td>\n",
       "      <td>1</td>\n",
       "      <td>10</td>\n",
       "      <td>9</td>\n",
       "      <td>12</td>\n",
       "      <td>1</td>\n",
       "      <td>21</td>\n",
       "      <td>21</td>\n",
       "    </tr>\n",
       "    <tr>\n",
       "      <th>4</th>\n",
       "      <td>music</td>\n",
       "      <td>US</td>\n",
       "      <td>False</td>\n",
       "      <td>False</td>\n",
       "      <td>1</td>\n",
       "      <td>18</td>\n",
       "      <td>3500.00</td>\n",
       "      <td>4</td>\n",
       "      <td>22</td>\n",
       "      <td>0</td>\n",
       "      <td>2</td>\n",
       "      <td>2</td>\n",
       "      <td>4</td>\n",
       "      <td>5</td>\n",
       "      <td>4</td>\n",
       "      <td>4</td>\n",
       "    </tr>\n",
       "  </tbody>\n",
       "</table>\n",
       "</div>"
      ],
      "text/plain": [
       "     category country is_starrable staff_pick  state  blurb_length  usd_goal  \\\n",
       "0       games      US        False      False      1            22   1000.00   \n",
       "1       music      US        False      False      1            15  15000.00   \n",
       "2       games      GB        False      False      0            23  12160.66   \n",
       "3  publishing      US        False      False      1            24   2800.00   \n",
       "4       music      US        False      False      1            18   3500.00   \n",
       "\n",
       "   name_length  creation_to_launch_days  campaign_days  launch_day  \\\n",
       "0            4                        8              1          10   \n",
       "1            7                       17              1          13   \n",
       "2            8                        5              1          12   \n",
       "3            7                        4              1          10   \n",
       "4            4                       22              0           2   \n",
       "\n",
       "   deadline_day  launch_month  deadline_month  launch_time  deadline_time  \n",
       "0             9             8               9           19             19  \n",
       "1            12             5               6            7              7  \n",
       "2            13             1               3           19             18  \n",
       "3             9            12               1           21             21  \n",
       "4             2             4               5            4              4  "
      ]
     },
     "execution_count": 209,
     "metadata": {},
     "output_type": "execute_result"
    }
   ],
   "source": [
    "df.head(5)"
   ]
  },
  {
   "cell_type": "code",
   "execution_count": 210,
   "metadata": {},
   "outputs": [
    {
     "data": {
      "text/plain": [
       "['category', 'country', 'is_starrable', 'staff_pick']"
      ]
     },
     "execution_count": 210,
     "metadata": {},
     "output_type": "execute_result"
    }
   ],
   "source": [
    "# Creating list for categorical predictors/features \n",
    "# (dates are also objects so if you have them in your data you would deal with them first)\n",
    "cat_features = list(df.columns[df.dtypes==object])\n",
    "cat_features"
   ]
  },
  {
   "cell_type": "code",
   "execution_count": 211,
   "metadata": {},
   "outputs": [
    {
     "data": {
      "text/plain": [
       "['blurb_length',\n",
       " 'usd_goal',\n",
       " 'name_length',\n",
       " 'creation_to_launch_days',\n",
       " 'campaign_days',\n",
       " 'launch_day',\n",
       " 'deadline_day',\n",
       " 'launch_month',\n",
       " 'deadline_month',\n",
       " 'launch_time',\n",
       " 'deadline_time']"
      ]
     },
     "execution_count": 211,
     "metadata": {},
     "output_type": "execute_result"
    }
   ],
   "source": [
    "# Creating list for numerical predictors/features\n",
    "# Since 'Survived' is our target variable we will exclude this feature from this list of numerical predictors \n",
    "num_features = list(df.columns[df.dtypes!=object])\n",
    "num_features.remove('state')\n",
    "num_features\n"
   ]
  },
  {
   "attachments": {},
   "cell_type": "markdown",
   "metadata": {},
   "source": [
    " # stop here"
   ]
  },
  {
   "cell_type": "code",
   "execution_count": 123,
   "metadata": {},
   "outputs": [],
   "source": [
    "# df_transformed_features = df_transformed.drop(['state'], axis=1)"
   ]
  },
  {
   "cell_type": "code",
   "execution_count": 124,
   "metadata": {},
   "outputs": [
    {
     "data": {
      "text/plain": [
       "array([1, 0])"
      ]
     },
     "execution_count": 124,
     "metadata": {},
     "output_type": "execute_result"
    }
   ],
   "source": [
    "# df_transformed['state'].unique()"
   ]
  },
  {
   "attachments": {},
   "cell_type": "markdown",
   "metadata": {},
   "source": [
    "Categorical features will now be one-hot encoded:"
   ]
  },
  {
   "cell_type": "code",
   "execution_count": 125,
   "metadata": {},
   "outputs": [],
   "source": [
    "# Converting boolean features to string to include them in one-hot encoding\n",
    "# df_transformed_features['staff_pick'] = df_transformed_features['staff_pick'].astype(str)"
   ]
  },
  {
   "cell_type": "code",
   "execution_count": 126,
   "metadata": {},
   "outputs": [],
   "source": [
    "# Creating dummy variables\n",
    "# df_transformed_features = pd.get_dummies(df_transformed_features, drop_first=True)"
   ]
  },
  {
   "cell_type": "code",
   "execution_count": 127,
   "metadata": {},
   "outputs": [
    {
     "data": {
      "text/plain": [
       "['is_starrable',\n",
       " 'blurb_length',\n",
       " 'usd_goal',\n",
       " 'name_length',\n",
       " 'creation_to_launch_days',\n",
       " 'campaign_days',\n",
       " 'launch_day',\n",
       " 'deadline_day',\n",
       " 'launch_month',\n",
       " 'deadline_month',\n",
       " 'launch_time',\n",
       " 'deadline_time',\n",
       " 'category_comics',\n",
       " 'category_crafts',\n",
       " 'category_dance',\n",
       " 'category_design',\n",
       " 'category_fashion',\n",
       " 'category_film & video',\n",
       " 'category_food',\n",
       " 'category_games',\n",
       " 'category_journalism',\n",
       " 'category_music',\n",
       " 'category_photography',\n",
       " 'category_publishing',\n",
       " 'category_technology',\n",
       " 'category_theater',\n",
       " 'country_AU',\n",
       " 'country_BE',\n",
       " 'country_CA',\n",
       " 'country_CH',\n",
       " 'country_DE',\n",
       " 'country_DK',\n",
       " 'country_ES',\n",
       " 'country_FR',\n",
       " 'country_GB',\n",
       " 'country_HK',\n",
       " 'country_IE',\n",
       " 'country_IT',\n",
       " 'country_JP',\n",
       " 'country_LU',\n",
       " 'country_MX',\n",
       " 'country_NL',\n",
       " 'country_NO',\n",
       " 'country_NZ',\n",
       " 'country_SE',\n",
       " 'country_SG',\n",
       " 'country_US',\n",
       " 'staff_pick_True']"
      ]
     },
     "execution_count": 127,
     "metadata": {},
     "output_type": "execute_result"
    }
   ],
   "source": [
    "# list(df_transformed_features.head(0))"
   ]
  },
  {
   "attachments": {},
   "cell_type": "markdown",
   "metadata": {},
   "source": [
    "Train-Test-Split\n",
    "\n",
    "Let's split the data set into a training and test set. Using the training set and cross validation we will train our model and find the best hyperparameter combination. In the end the test set will be used for the final evaluation of our best model."
   ]
  },
  {
   "cell_type": "code",
   "execution_count": 212,
   "metadata": {},
   "outputs": [
    {
     "name": "stdout",
     "output_type": "stream",
     "text": [
      "We have 192664 observations in our dataset and 15 features\n",
      "Our target vector has also 192664 values\n"
     ]
    }
   ],
   "source": [
    "# Define predictors and target variable\n",
    "X = df.drop('state', axis=1)\n",
    "y = df['state']\n",
    "print(f\"We have {X.shape[0]} observations in our dataset and {X.shape[1]} features\")\n",
    "print(f\"Our target vector has also {y.shape[0]} values\")"
   ]
  },
  {
   "cell_type": "code",
   "execution_count": 216,
   "metadata": {},
   "outputs": [],
   "source": [
    "# Split into train and test set \n",
    "RSEED =42\n",
    "X_train, X_test, y_train, y_test = train_test_split(X, y, test_size=0.25, random_state=RSEED, stratify=y)"
   ]
  },
  {
   "cell_type": "code",
   "execution_count": 217,
   "metadata": {},
   "outputs": [
    {
     "name": "stdout",
     "output_type": "stream",
     "text": [
      "X_train shape: (144498, 15)\n",
      "X_test shape: (48166, 15)\n",
      "y_train shape: (144498,)\n",
      "y_test shape: (48166,)\n"
     ]
    }
   ],
   "source": [
    "print('X_train shape:', X_train.shape)\n",
    "print('X_test shape:', X_test.shape)\n",
    "print('y_train shape:', y_train.shape)\n",
    "print('y_test shape:', y_test.shape)"
   ]
  },
  {
   "attachments": {},
   "cell_type": "markdown",
   "metadata": {},
   "source": [
    "# Preprocessing Pipeline\n",
    "\n",
    "\n",
    "Building a Pipeline always follows the same syntax. In our case we create one pipeline for our numerical features and one for our categorical features.\n",
    "\n",
    "The missing values of the numerical features should be filled with the median value of the features and in the end, each feature should be scaled using the StandardScaler.\n",
    "\n",
    "The missing values of the categorical features should be changed to \"missing\". In the end, we encode all categorical features as a one-hot numeric array.\n",
    "\n",
    "In the end both pipelines are combined into one pipeline called \"preprocessor\" using ColumnTransformer from scikit-learn."
   ]
  },
  {
   "cell_type": "code",
   "execution_count": 253,
   "metadata": {},
   "outputs": [],
   "source": [
    "# Import of relevant packages\n",
    "import numpy as np\n",
    "import pandas as pd\n",
    "import warnings\n",
    "import matplotlib.pyplot as plt\n",
    "import seaborn as sns\n",
    "\n",
    "from sklearn.pipeline import Pipeline\n",
    "from sklearn.compose import ColumnTransformer\n",
    "from sklearn.preprocessing import OneHotEncoder, StandardScaler\n",
    "from sklearn.impute import SimpleImputer\n",
    "from sklearn.model_selection import train_test_split\n",
    "from sklearn.model_selection import GridSearchCV, RandomizedSearchCV\n",
    "from sklearn.model_selection import cross_val_predict, cross_val_score, cross_validate\n",
    "from sklearn.metrics import roc_curve, confusion_matrix, accuracy_score, recall_score, precision_score, f1_score\n",
    "\n",
    "from sklearn.linear_model import LogisticRegression\n",
    "from sklearn.ensemble import RandomForestClassifier\n",
    "import xgboost as xgb\n",
    "from xgboost import XGBClassifier\n",
    "\n",
    "# Set random seed \n",
    "RSEED = 42\n",
    "warnings.filterwarnings(\"ignore\")"
   ]
  },
  {
   "cell_type": "code",
   "execution_count": 245,
   "metadata": {},
   "outputs": [],
   "source": [
    "\n",
    "\n",
    "# Pipline for numerical features\n",
    "# Initiating Pipeline and calling one step after another\n",
    "# each step is built as a list of (key, value)\n",
    "# key is the name of the processing step\n",
    "# value is an estimator object (processing step)\n",
    "num_pipeline = Pipeline([\n",
    "    ('imputer_num', SimpleImputer(strategy='median')),\n",
    "    ('std_scaler', StandardScaler())\n",
    "])\n",
    "\n",
    "# Pipeline for categorical features \n",
    "cat_pipeline = Pipeline([\n",
    "    ('imputer_cat', SimpleImputer(strategy='constant', fill_value='missing')),\n",
    "    ('1hot', OneHotEncoder(handle_unknown='ignore'))\n",
    "])"
   ]
  },
  {
   "cell_type": "code",
   "execution_count": 246,
   "metadata": {},
   "outputs": [],
   "source": [
    "#from sklearn.compose import ColumnTransformer\n",
    "\n",
    "# Complete pipeline for numerical and categorical features\n",
    "# 'ColumnTranformer' applies transformers (num_pipeline/ cat_pipeline)\n",
    "# to specific columns of an array or DataFrame (num_features/cat_features)\n",
    "preprocessor = ColumnTransformer([\n",
    "    ('num', num_pipeline, num_features),\n",
    "    ('cat', cat_pipeline, cat_features)\n",
    "])"
   ]
  },
  {
   "attachments": {},
   "cell_type": "markdown",
   "metadata": {},
   "source": [
    "# Predictive Modelling using Pipelines and Grid Search\n",
    "Logistic Regression\n",
    "\n",
    "Now that we have a preprocessing pipeline we can add a model on top (this sequence will also be handled by a Pipeline) and see how it performs using cross validation.\n",
    "In [ ]:\n"
   ]
  },
  {
   "cell_type": "code",
   "execution_count": 247,
   "metadata": {},
   "outputs": [],
   "source": [
    "# Building a full pipeline with our preprocessor and a LogisticRegression Classifier\n",
    "pipe_logreg = Pipeline([\n",
    "    ('preprocessor', preprocessor),\n",
    "    ('logreg', LogisticRegression(max_iter=1000))\n",
    "])"
   ]
  },
  {
   "cell_type": "code",
   "execution_count": 248,
   "metadata": {},
   "outputs": [
    {
     "name": "stdout",
     "output_type": "stream",
     "text": [
      "Score: 0.7748\n"
     ]
    }
   ],
   "source": [
    "# Random Forests with default settings\n",
    "pipe_rf = Pipeline([\n",
    "    ('preprocessor', preprocessor),\n",
    "                    ('pipe_rf', RandomForestClassifier())])\n",
    "pipe_rf.fit(X_train, y_train)\n",
    "print(\"Score:\", round(pipe_rf.score(X_test, y_test),5))"
   ]
  },
  {
   "cell_type": "code",
   "execution_count": 254,
   "metadata": {},
   "outputs": [
    {
     "name": "stdout",
     "output_type": "stream",
     "text": [
      "Score: 0.75427\n"
     ]
    }
   ],
   "source": [
    "# XGBoost with default settings\n",
    "pipe_xgb = Pipeline([\n",
    "    ('preprocessor', preprocessor),\n",
    "                    ('pipe_xgb', xgb.XGBClassifier())])\n",
    "pipe_xgb.fit(X_train, y_train)\n",
    "print(\"Score:\", round(pipe_xgb.score(X_test, y_test),5))"
   ]
  },
  {
   "cell_type": "code",
   "execution_count": 255,
   "metadata": {},
   "outputs": [],
   "source": [
    "# Making predictions on the training set using cross validation as well as calculating the probabilities\n",
    "# cross_val_predict expects an estimator (model), X, y and nr of cv-splits (cv)\n",
    "y_train_predicted_logreg = cross_val_predict(pipe_logreg, X_train, y_train, cv=5)\n",
    "y_train_predicted_rf = cross_val_predict(pipe_rf, X_train, y_train, cv=5)\n",
    "y_train_predicted_xgb = cross_val_predict(pipe_xgb, X_train, y_train, cv=5)\n"
   ]
  },
  {
   "cell_type": "code",
   "execution_count": 256,
   "metadata": {},
   "outputs": [
    {
     "name": "stdout",
     "output_type": "stream",
     "text": [
      "Cross validation scores:\n",
      "-------------------------\n",
      "Accuracy: 0.72\n",
      "Recall: 0.86\n",
      "Precision: 0.73\n",
      "f1: 0.79\n"
     ]
    }
   ],
   "source": [
    "# Calculating the accuracy for the LogisticRegression Classifier \n",
    "print('Cross validation scores:')\n",
    "print('-------------------------')\n",
    "print(\"Accuracy: {:.2f}\".format(accuracy_score(y_train, y_train_predicted)))\n",
    "print(\"Recall: {:.2f}\".format(recall_score(y_train, y_train_predicted)))\n",
    "print(\"Precision: {:.2f}\".format(precision_score(y_train, y_train_predicted)))\n",
    "print(\"f1: {:.2f}\".format(f1_score(y_train, y_train_predicted)))\n"
   ]
  },
  {
   "cell_type": "code",
   "execution_count": 259,
   "metadata": {},
   "outputs": [],
   "source": [
    "accuracy_logreg = accuracy_score(y_train, y_train_predicted_logreg)\n",
    "recall_logreg = recall_score(y_train, y_train_predicted_logreg)\n",
    "precision_logreg = precision_score(y_train, y_train_predicted_logreg)\n",
    "f1_logreg = f1_score(y_train, y_train_predicted_logreg)\n",
    "\n",
    "accuracy_rf = accuracy_score(y_train, y_train_predicted_rf)\n",
    "recall_rf = recall_score(y_train, y_train_predicted_rf)\n",
    "precision_rf = precision_score(y_train, y_train_predicted_rf)\n",
    "f1_rf = f1_score(y_train, y_train_predicted_rf)\n",
    "\n",
    "accuracy_xgb = accuracy_score(y_train, y_train_predicted_xgb)\n",
    "recall_xgb = recall_score(y_train, y_train_predicted_xgb)\n",
    "precision_xgb = precision_score(y_train, y_train_predicted_xgb)\n",
    "f1_xgb = f1_score(y_train, y_train_predicted_xgb)\n"
   ]
  },
  {
   "cell_type": "code",
   "execution_count": 260,
   "metadata": {},
   "outputs": [],
   "source": [
    "validation_scores = pd.DataFrame([['model','accuracy','recall','precision','f1'],['logreg',accuracy_logreg, recall_logreg,precision_logreg,f1_logreg],['random_forest',accuracy_rf,recall_rf,precision_rf ,f1_rf],['xgboost',accuracy_xgb,recall_xgb,precision_xgb ,f1_xgb]])"
   ]
  },
  {
   "cell_type": "code",
   "execution_count": 261,
   "metadata": {},
   "outputs": [
    {
     "data": {
      "text/html": [
       "<div>\n",
       "<style scoped>\n",
       "    .dataframe tbody tr th:only-of-type {\n",
       "        vertical-align: middle;\n",
       "    }\n",
       "\n",
       "    .dataframe tbody tr th {\n",
       "        vertical-align: top;\n",
       "    }\n",
       "\n",
       "    .dataframe thead th {\n",
       "        text-align: right;\n",
       "    }\n",
       "</style>\n",
       "<table border=\"1\" class=\"dataframe\">\n",
       "  <thead>\n",
       "    <tr style=\"text-align: right;\">\n",
       "      <th></th>\n",
       "      <th>0</th>\n",
       "      <th>1</th>\n",
       "      <th>2</th>\n",
       "      <th>3</th>\n",
       "      <th>4</th>\n",
       "    </tr>\n",
       "  </thead>\n",
       "  <tbody>\n",
       "    <tr>\n",
       "      <th>0</th>\n",
       "      <td>model</td>\n",
       "      <td>accuracy</td>\n",
       "      <td>recall</td>\n",
       "      <td>precision</td>\n",
       "      <td>f1</td>\n",
       "    </tr>\n",
       "    <tr>\n",
       "      <th>1</th>\n",
       "      <td>logreg</td>\n",
       "      <td>0.717837</td>\n",
       "      <td>0.85682</td>\n",
       "      <td>0.728317</td>\n",
       "      <td>0.78736</td>\n",
       "    </tr>\n",
       "    <tr>\n",
       "      <th>2</th>\n",
       "      <td>random_forest</td>\n",
       "      <td>0.766917</td>\n",
       "      <td>0.875572</td>\n",
       "      <td>0.77249</td>\n",
       "      <td>0.820807</td>\n",
       "    </tr>\n",
       "    <tr>\n",
       "      <th>3</th>\n",
       "      <td>xgboost</td>\n",
       "      <td>0.752834</td>\n",
       "      <td>0.858114</td>\n",
       "      <td>0.765064</td>\n",
       "      <td>0.808922</td>\n",
       "    </tr>\n",
       "  </tbody>\n",
       "</table>\n",
       "</div>"
      ],
      "text/plain": [
       "               0         1         2          3         4\n",
       "0          model  accuracy    recall  precision        f1\n",
       "1         logreg  0.717837   0.85682   0.728317   0.78736\n",
       "2  random_forest  0.766917  0.875572    0.77249  0.820807\n",
       "3        xgboost  0.752834  0.858114   0.765064  0.808922"
      ]
     },
     "execution_count": 261,
     "metadata": {},
     "output_type": "execute_result"
    }
   ],
   "source": [
    "validation_scores"
   ]
  },
  {
   "attachments": {},
   "cell_type": "markdown",
   "metadata": {},
   "source": [
    "# Optimizing via Grid Search & Cross Validation\n",
    "In order to optimize our model we will use gird search. At first we have to define a parameter space we want to search for the best parameter combination. Then we have to initiate our grid search via GridSearchCV. The last step is to use the fit method providing our training data as input."
   ]
  },
  {
   "cell_type": "code",
   "execution_count": 273,
   "metadata": {},
   "outputs": [],
   "source": [
    "# Defining parameter space for grid-search. Since we want to access the classifier step (called 'logreg') in our pipeline \n",
    "# we have to add 'logreg__' infront of the corresponding hyperparameters. \n",
    "param_logreg = {'logreg__penalty':('l1','l2'),\n",
    "                'logreg__C': [0.001, 0.01, 0.1, 1, 10],\n",
    "                'logreg__solver': ['liblinear', 'lbfgs', 'sag']\n",
    "               }\n",
    "\n",
    "grid_logreg = GridSearchCV(pipe_logreg, param_grid=param_logreg, cv=5, scoring='f1', \n",
    "                           verbose=5, n_jobs=-1)"
   ]
  },
  {
   "cell_type": "code",
   "execution_count": 274,
   "metadata": {},
   "outputs": [
    {
     "name": "stdout",
     "output_type": "stream",
     "text": [
      "Fitting 5 folds for each of 30 candidates, totalling 150 fits\n",
      "[CV 2/5] END logreg__C=0.001, logreg__penalty=l1, logreg__solver=lbfgs;, score=nan total time=   0.7s\n",
      "[CV 1/5] END logreg__C=0.001, logreg__penalty=l1, logreg__solver=lbfgs;, score=nan total time=   0.7s\n",
      "[CV 3/5] END logreg__C=0.001, logreg__penalty=l1, logreg__solver=lbfgs;, score=nan total time=   0.7s\n",
      "[CV 1/5] END logreg__C=0.001, logreg__penalty=l1, logreg__solver=liblinear;, score=0.767 total time=   1.2s\n",
      "[CV 4/5] END logreg__C=0.001, logreg__penalty=l1, logreg__solver=liblinear;, score=0.769 total time=   1.2s\n",
      "[CV 2/5] END logreg__C=0.001, logreg__penalty=l1, logreg__solver=liblinear;, score=0.768 total time=   1.4s\n",
      "[CV 5/5] END logreg__C=0.001, logreg__penalty=l1, logreg__solver=liblinear;, score=0.766 total time=   1.4s\n",
      "[CV 3/5] END logreg__C=0.001, logreg__penalty=l1, logreg__solver=liblinear;, score=0.768 total time=   1.4s\n",
      "[CV 5/5] END logreg__C=0.001, logreg__penalty=l1, logreg__solver=lbfgs;, score=nan total time=   0.7s\n",
      "[CV 4/5] END logreg__C=0.001, logreg__penalty=l1, logreg__solver=lbfgs;, score=nan total time=   0.9s\n",
      "[CV 1/5] END logreg__C=0.001, logreg__penalty=l1, logreg__solver=sag;, score=nan total time=   0.8s\n",
      "[CV 4/5] END logreg__C=0.001, logreg__penalty=l1, logreg__solver=sag;, score=nan total time=   0.6s\n",
      "[CV 2/5] END logreg__C=0.001, logreg__penalty=l1, logreg__solver=sag;, score=nan total time=   0.8s\n",
      "[CV 3/5] END logreg__C=0.001, logreg__penalty=l1, logreg__solver=sag;, score=nan total time=   0.8s\n",
      "[CV 5/5] END logreg__C=0.001, logreg__penalty=l1, logreg__solver=sag;, score=nan total time=   0.7s\n",
      "[CV 1/5] END logreg__C=0.001, logreg__penalty=l2, logreg__solver=liblinear;, score=0.776 total time=   1.6s\n",
      "[CV 2/5] END logreg__C=0.001, logreg__penalty=l2, logreg__solver=liblinear;, score=0.775 total time=   1.7s\n",
      "[CV 1/5] END logreg__C=0.001, logreg__penalty=l2, logreg__solver=lbfgs;, score=0.777 total time=   1.5s\n",
      "[CV 2/5] END logreg__C=0.001, logreg__penalty=l2, logreg__solver=lbfgs;, score=0.776 total time=   1.5s\n",
      "[CV 3/5] END logreg__C=0.001, logreg__penalty=l2, logreg__solver=liblinear;, score=0.773 total time=   1.9s\n",
      "[CV 4/5] END logreg__C=0.001, logreg__penalty=l2, logreg__solver=liblinear;, score=0.775 total time=   1.8s\n",
      "[CV 5/5] END logreg__C=0.001, logreg__penalty=l2, logreg__solver=liblinear;, score=0.773 total time=   1.9s\n",
      "[CV 3/5] END logreg__C=0.001, logreg__penalty=l2, logreg__solver=lbfgs;, score=0.773 total time=   1.7s\n",
      "[CV 4/5] END logreg__C=0.001, logreg__penalty=l2, logreg__solver=lbfgs;, score=0.776 total time=   1.5s\n",
      "[CV 5/5] END logreg__C=0.001, logreg__penalty=l2, logreg__solver=lbfgs;, score=0.773 total time=   1.4s\n",
      "[CV 2/5] END logreg__C=0.01, logreg__penalty=l1, logreg__solver=liblinear;, score=0.786 total time=   1.1s\n",
      "[CV 1/5] END logreg__C=0.01, logreg__penalty=l1, logreg__solver=liblinear;, score=0.785 total time=   1.8s\n",
      "[CV 3/5] END logreg__C=0.01, logreg__penalty=l1, logreg__solver=liblinear;, score=0.783 total time=   1.8s\n",
      "[CV 4/5] END logreg__C=0.01, logreg__penalty=l1, logreg__solver=liblinear;, score=0.787 total time=   1.1s\n",
      "[CV 5/5] END logreg__C=0.01, logreg__penalty=l1, logreg__solver=liblinear;, score=0.783 total time=   1.1s\n",
      "[CV 1/5] END logreg__C=0.01, logreg__penalty=l1, logreg__solver=lbfgs;, score=nan total time=   0.4s\n",
      "[CV 2/5] END logreg__C=0.01, logreg__penalty=l1, logreg__solver=lbfgs;, score=nan total time=   0.4s\n",
      "[CV 3/5] END logreg__C=0.01, logreg__penalty=l1, logreg__solver=lbfgs;, score=nan total time=   0.4s\n",
      "[CV 4/5] END logreg__C=0.01, logreg__penalty=l1, logreg__solver=lbfgs;, score=nan total time=   0.5s\n",
      "[CV 5/5] END logreg__C=0.01, logreg__penalty=l1, logreg__solver=lbfgs;, score=nan total time=   0.4s\n",
      "[CV 1/5] END logreg__C=0.01, logreg__penalty=l1, logreg__solver=sag;, score=nan total time=   0.4s\n",
      "[CV 2/5] END logreg__C=0.01, logreg__penalty=l1, logreg__solver=sag;, score=nan total time=   0.4s\n",
      "[CV 3/5] END logreg__C=0.01, logreg__penalty=l1, logreg__solver=sag;, score=nan total time=   0.5s\n",
      "[CV 4/5] END logreg__C=0.01, logreg__penalty=l1, logreg__solver=sag;, score=nan total time=   0.5s\n",
      "[CV 5/5] END logreg__C=0.01, logreg__penalty=l1, logreg__solver=sag;, score=nan total time=   0.4s\n",
      "[CV 1/5] END logreg__C=0.01, logreg__penalty=l2, logreg__solver=liblinear;, score=0.777 total time=   1.3s\n",
      "[CV 2/5] END logreg__C=0.01, logreg__penalty=l2, logreg__solver=liblinear;, score=0.778 total time=   1.4s\n",
      "[CV 3/5] END logreg__C=0.01, logreg__penalty=l2, logreg__solver=liblinear;, score=0.774 total time=   1.4s\n",
      "[CV 4/5] END logreg__C=0.01, logreg__penalty=l2, logreg__solver=liblinear;, score=0.777 total time=   1.3s\n",
      "[CV 5/5] END logreg__C=0.01, logreg__penalty=l2, logreg__solver=liblinear;, score=0.774 total time=   1.5s\n",
      "[CV 1/5] END logreg__C=0.01, logreg__penalty=l2, logreg__solver=lbfgs;, score=0.777 total time=   1.4s\n",
      "[CV 2/5] END logreg__C=0.01, logreg__penalty=l2, logreg__solver=lbfgs;, score=0.778 total time=   1.5s\n",
      "[CV 3/5] END logreg__C=0.01, logreg__penalty=l2, logreg__solver=lbfgs;, score=0.774 total time=   1.5s\n",
      "[CV 4/5] END logreg__C=0.01, logreg__penalty=l2, logreg__solver=lbfgs;, score=0.777 total time=   1.6s\n",
      "[CV 5/5] END logreg__C=0.01, logreg__penalty=l2, logreg__solver=lbfgs;, score=0.774 total time=   1.4s\n",
      "[CV 1/5] END logreg__C=0.01, logreg__penalty=l2, logreg__solver=sag;, score=0.777 total time=  13.9s\n",
      "[CV 2/5] END logreg__C=0.01, logreg__penalty=l2, logreg__solver=sag;, score=0.778 total time=  15.4s\n",
      "[CV 3/5] END logreg__C=0.01, logreg__penalty=l2, logreg__solver=sag;, score=0.774 total time=  16.5s\n",
      "[CV 1/5] END logreg__C=0.1, logreg__penalty=l1, logreg__solver=liblinear;, score=0.788 total time=   4.6s\n",
      "[CV 5/5] END logreg__C=0.01, logreg__penalty=l2, logreg__solver=sag;, score=0.774 total time=   9.3s\n",
      "[CV 2/5] END logreg__C=0.1, logreg__penalty=l1, logreg__solver=liblinear;, score=0.790 total time=   4.1s\n",
      "[CV 3/5] END logreg__C=0.1, logreg__penalty=l1, logreg__solver=liblinear;, score=0.787 total time=   3.6s\n",
      "[CV 4/5] END logreg__C=0.01, logreg__penalty=l2, logreg__solver=sag;, score=0.777 total time=  16.8s\n",
      "[CV 1/5] END logreg__C=0.1, logreg__penalty=l1, logreg__solver=lbfgs;, score=nan total time=   0.5s\n",
      "[CV 2/5] END logreg__C=0.1, logreg__penalty=l1, logreg__solver=lbfgs;, score=nan total time=   0.4s\n",
      "[CV 3/5] END logreg__C=0.1, logreg__penalty=l1, logreg__solver=lbfgs;, score=nan total time=   0.4s\n",
      "[CV 4/5] END logreg__C=0.1, logreg__penalty=l1, logreg__solver=liblinear;, score=0.790 total time=   5.9s\n",
      "[CV 4/5] END logreg__C=0.1, logreg__penalty=l1, logreg__solver=lbfgs;, score=nan total time=   0.4s\n",
      "[CV 5/5] END logreg__C=0.1, logreg__penalty=l1, logreg__solver=lbfgs;, score=nan total time=   0.5s\n",
      "[CV 1/5] END logreg__C=0.1, logreg__penalty=l1, logreg__solver=sag;, score=nan total time=   0.4s\n",
      "[CV 2/5] END logreg__C=0.1, logreg__penalty=l1, logreg__solver=sag;, score=nan total time=   0.4s\n",
      "[CV 3/5] END logreg__C=0.1, logreg__penalty=l1, logreg__solver=sag;, score=nan total time=   0.4s\n",
      "[CV 4/5] END logreg__C=0.1, logreg__penalty=l1, logreg__solver=sag;, score=nan total time=   0.4s\n",
      "[CV 5/5] END logreg__C=0.1, logreg__penalty=l1, logreg__solver=sag;, score=nan total time=   0.4s\n",
      "[CV 5/5] END logreg__C=0.1, logreg__penalty=l1, logreg__solver=liblinear;, score=0.787 total time=   5.5s\n",
      "[CV 1/5] END logreg__C=0.1, logreg__penalty=l2, logreg__solver=liblinear;, score=0.782 total time=   1.9s\n",
      "[CV 2/5] END logreg__C=0.1, logreg__penalty=l2, logreg__solver=liblinear;, score=0.784 total time=   1.9s\n",
      "[CV 3/5] END logreg__C=0.1, logreg__penalty=l2, logreg__solver=liblinear;, score=0.781 total time=   1.9s\n",
      "[CV 4/5] END logreg__C=0.1, logreg__penalty=l2, logreg__solver=liblinear;, score=0.784 total time=   2.0s\n",
      "[CV 5/5] END logreg__C=0.1, logreg__penalty=l2, logreg__solver=liblinear;, score=0.780 total time=   1.9s\n",
      "[CV 1/5] END logreg__C=0.1, logreg__penalty=l2, logreg__solver=lbfgs;, score=0.782 total time=   2.9s\n",
      "[CV 2/5] END logreg__C=0.1, logreg__penalty=l2, logreg__solver=lbfgs;, score=0.784 total time=   2.6s\n",
      "[CV 3/5] END logreg__C=0.1, logreg__penalty=l2, logreg__solver=lbfgs;, score=0.781 total time=   2.6s\n",
      "[CV 4/5] END logreg__C=0.1, logreg__penalty=l2, logreg__solver=lbfgs;, score=0.784 total time=   2.8s\n",
      "[CV 5/5] END logreg__C=0.1, logreg__penalty=l2, logreg__solver=lbfgs;, score=0.781 total time=   2.6s\n"
     ]
    },
    {
     "name": "stderr",
     "output_type": "stream",
     "text": [
      "/Users/jensbimberg/NeueFische/ml_project_kickstarter/.venv/lib/python3.9/site-packages/sklearn/linear_model/_sag.py:352: ConvergenceWarning: The max_iter was reached which means the coef_ did not converge\n",
      "  warnings.warn(\n",
      "/Users/jensbimberg/NeueFische/ml_project_kickstarter/.venv/lib/python3.9/site-packages/sklearn/linear_model/_sag.py:352: ConvergenceWarning: The max_iter was reached which means the coef_ did not converge\n",
      "  warnings.warn(\n"
     ]
    },
    {
     "name": "stdout",
     "output_type": "stream",
     "text": [
      "[CV 1/5] END logreg__C=0.001, logreg__penalty=l2, logreg__solver=sag;, score=0.776 total time= 1.4min\n",
      "[CV 5/5] END logreg__C=0.001, logreg__penalty=l2, logreg__solver=sag;, score=0.773 total time= 1.4min\n"
     ]
    },
    {
     "name": "stderr",
     "output_type": "stream",
     "text": [
      "/Users/jensbimberg/NeueFische/ml_project_kickstarter/.venv/lib/python3.9/site-packages/sklearn/linear_model/_sag.py:352: ConvergenceWarning: The max_iter was reached which means the coef_ did not converge\n",
      "  warnings.warn(\n"
     ]
    },
    {
     "name": "stdout",
     "output_type": "stream",
     "text": [
      "[CV 2/5] END logreg__C=0.001, logreg__penalty=l2, logreg__solver=sag;, score=0.776 total time= 1.4min\n"
     ]
    },
    {
     "name": "stderr",
     "output_type": "stream",
     "text": [
      "/Users/jensbimberg/NeueFische/ml_project_kickstarter/.venv/lib/python3.9/site-packages/sklearn/linear_model/_sag.py:352: ConvergenceWarning: The max_iter was reached which means the coef_ did not converge\n",
      "  warnings.warn(\n",
      "/Users/jensbimberg/NeueFische/ml_project_kickstarter/.venv/lib/python3.9/site-packages/sklearn/linear_model/_sag.py:352: ConvergenceWarning: The max_iter was reached which means the coef_ did not converge\n",
      "  warnings.warn(\n"
     ]
    },
    {
     "name": "stdout",
     "output_type": "stream",
     "text": [
      "[CV 4/5] END logreg__C=0.001, logreg__penalty=l2, logreg__solver=sag;, score=0.776 total time= 1.4min\n",
      "[CV 3/5] END logreg__C=0.001, logreg__penalty=l2, logreg__solver=sag;, score=0.773 total time= 1.4min\n",
      "[CV 2/5] END logreg__C=1, logreg__penalty=l1, logreg__solver=liblinear;, score=0.789 total time=  10.7s\n",
      "[CV 3/5] END logreg__C=1, logreg__penalty=l1, logreg__solver=liblinear;, score=0.787 total time=  11.4s\n",
      "[CV 1/5] END logreg__C=1, logreg__penalty=l1, logreg__solver=liblinear;, score=0.788 total time=  16.0s\n",
      "[CV 1/5] END logreg__C=1, logreg__penalty=l1, logreg__solver=lbfgs;, score=nan total time=   0.5s\n",
      "[CV 2/5] END logreg__C=1, logreg__penalty=l1, logreg__solver=lbfgs;, score=nan total time=   0.4s\n",
      "[CV 5/5] END logreg__C=1, logreg__penalty=l1, logreg__solver=liblinear;, score=0.787 total time=   5.3s\n",
      "[CV 3/5] END logreg__C=1, logreg__penalty=l1, logreg__solver=lbfgs;, score=nan total time=   0.4s\n",
      "[CV 4/5] END logreg__C=1, logreg__penalty=l1, logreg__solver=lbfgs;, score=nan total time=   0.5s\n",
      "[CV 5/5] END logreg__C=1, logreg__penalty=l1, logreg__solver=lbfgs;, score=nan total time=   0.4s\n",
      "[CV 1/5] END logreg__C=1, logreg__penalty=l1, logreg__solver=sag;, score=nan total time=   0.4s\n",
      "[CV 2/5] END logreg__C=1, logreg__penalty=l1, logreg__solver=sag;, score=nan total time=   0.5s\n",
      "[CV 3/5] END logreg__C=1, logreg__penalty=l1, logreg__solver=sag;, score=nan total time=   0.5s\n",
      "[CV 4/5] END logreg__C=1, logreg__penalty=l1, logreg__solver=sag;, score=nan total time=   0.5s\n",
      "[CV 5/5] END logreg__C=1, logreg__penalty=l1, logreg__solver=sag;, score=nan total time=   0.4s\n",
      "[CV 1/5] END logreg__C=1, logreg__penalty=l2, logreg__solver=liblinear;, score=0.787 total time=   2.2s\n",
      "[CV 2/5] END logreg__C=1, logreg__penalty=l2, logreg__solver=liblinear;, score=0.789 total time=   2.2s\n",
      "[CV 3/5] END logreg__C=1, logreg__penalty=l2, logreg__solver=liblinear;, score=0.786 total time=   2.0s\n",
      "[CV 4/5] END logreg__C=1, logreg__penalty=l2, logreg__solver=liblinear;, score=0.790 total time=   2.1s\n",
      "[CV 5/5] END logreg__C=1, logreg__penalty=l2, logreg__solver=liblinear;, score=0.785 total time=   2.0s\n",
      "[CV 1/5] END logreg__C=0.1, logreg__penalty=l2, logreg__solver=sag;, score=0.782 total time= 1.0min\n",
      "[CV 4/5] END logreg__C=1, logreg__penalty=l1, logreg__solver=liblinear;, score=0.790 total time=  15.6s\n",
      "[CV 1/5] END logreg__C=1, logreg__penalty=l2, logreg__solver=lbfgs;, score=0.787 total time=   2.7s\n",
      "[CV 3/5] END logreg__C=1, logreg__penalty=l2, logreg__solver=lbfgs;, score=0.786 total time=   2.9s\n",
      "[CV 2/5] END logreg__C=1, logreg__penalty=l2, logreg__solver=lbfgs;, score=0.789 total time=   3.2s\n",
      "[CV 4/5] END logreg__C=1, logreg__penalty=l2, logreg__solver=lbfgs;, score=0.790 total time=   2.7s\n",
      "[CV 5/5] END logreg__C=1, logreg__penalty=l2, logreg__solver=lbfgs;, score=0.785 total time=   2.9s\n",
      "[CV 2/5] END logreg__C=0.1, logreg__penalty=l2, logreg__solver=sag;, score=0.784 total time= 1.1min\n",
      "[CV 3/5] END logreg__C=0.1, logreg__penalty=l2, logreg__solver=sag;, score=0.781 total time= 1.1min\n",
      "[CV 1/5] END logreg__C=10, logreg__penalty=l1, logreg__solver=liblinear;, score=0.788 total time=   0.8s\n",
      "[CV 2/5] END logreg__C=10, logreg__penalty=l1, logreg__solver=liblinear;, score=0.789 total time=   0.8s\n",
      "[CV 3/5] END logreg__C=10, logreg__penalty=l1, logreg__solver=liblinear;, score=0.787 total time=   0.8s\n",
      "[CV 4/5] END logreg__C=10, logreg__penalty=l1, logreg__solver=liblinear;, score=0.791 total time=   0.8s\n",
      "[CV 5/5] END logreg__C=10, logreg__penalty=l1, logreg__solver=liblinear;, score=0.787 total time=   0.7s\n",
      "[CV 1/5] END logreg__C=10, logreg__penalty=l1, logreg__solver=lbfgs;, score=nan total time=   0.4s\n",
      "[CV 2/5] END logreg__C=10, logreg__penalty=l1, logreg__solver=lbfgs;, score=nan total time=   0.4s\n",
      "[CV 3/5] END logreg__C=10, logreg__penalty=l1, logreg__solver=lbfgs;, score=nan total time=   0.4s\n",
      "[CV 4/5] END logreg__C=10, logreg__penalty=l1, logreg__solver=lbfgs;, score=nan total time=   0.3s\n",
      "[CV 5/5] END logreg__C=10, logreg__penalty=l1, logreg__solver=lbfgs;, score=nan total time=   0.4s\n",
      "[CV 5/5] END logreg__C=0.1, logreg__penalty=l2, logreg__solver=sag;, score=0.780 total time=  41.8s\n",
      "[CV 1/5] END logreg__C=10, logreg__penalty=l1, logreg__solver=sag;, score=nan total time=   0.3s\n",
      "[CV 2/5] END logreg__C=10, logreg__penalty=l1, logreg__solver=sag;, score=nan total time=   0.4s\n",
      "[CV 3/5] END logreg__C=10, logreg__penalty=l1, logreg__solver=sag;, score=nan total time=   0.4s\n",
      "[CV 5/5] END logreg__C=10, logreg__penalty=l1, logreg__solver=sag;, score=nan total time=   0.3s\n",
      "[CV 4/5] END logreg__C=10, logreg__penalty=l1, logreg__solver=sag;, score=nan total time=   0.5s\n",
      "[CV 1/5] END logreg__C=10, logreg__penalty=l2, logreg__solver=liblinear;, score=0.788 total time=   2.2s\n",
      "[CV 2/5] END logreg__C=10, logreg__penalty=l2, logreg__solver=liblinear;, score=0.789 total time=   2.1s\n",
      "[CV 3/5] END logreg__C=10, logreg__penalty=l2, logreg__solver=liblinear;, score=0.787 total time=   2.0s\n",
      "[CV 4/5] END logreg__C=10, logreg__penalty=l2, logreg__solver=liblinear;, score=0.791 total time=   2.2s\n",
      "[CV 5/5] END logreg__C=10, logreg__penalty=l2, logreg__solver=liblinear;, score=0.787 total time=   2.4s\n",
      "[CV 1/5] END logreg__C=10, logreg__penalty=l2, logreg__solver=lbfgs;, score=0.788 total time=   3.0s\n",
      "[CV 2/5] END logreg__C=10, logreg__penalty=l2, logreg__solver=lbfgs;, score=0.789 total time=   2.7s\n",
      "[CV 3/5] END logreg__C=10, logreg__penalty=l2, logreg__solver=lbfgs;, score=0.787 total time=   2.9s\n",
      "[CV 4/5] END logreg__C=10, logreg__penalty=l2, logreg__solver=lbfgs;, score=0.790 total time=   3.1s\n",
      "[CV 5/5] END logreg__C=10, logreg__penalty=l2, logreg__solver=lbfgs;, score=0.787 total time=   2.4s\n",
      "[CV 4/5] END logreg__C=0.1, logreg__penalty=l2, logreg__solver=sag;, score=0.784 total time= 1.2min\n",
      "[CV 5/5] END logreg__C=1, logreg__penalty=l2, logreg__solver=sag;, score=0.785 total time= 1.3min\n"
     ]
    },
    {
     "name": "stderr",
     "output_type": "stream",
     "text": [
      "/Users/jensbimberg/NeueFische/ml_project_kickstarter/.venv/lib/python3.9/site-packages/sklearn/linear_model/_sag.py:352: ConvergenceWarning: The max_iter was reached which means the coef_ did not converge\n",
      "  warnings.warn(\n"
     ]
    },
    {
     "name": "stdout",
     "output_type": "stream",
     "text": [
      "[CV 1/5] END logreg__C=1, logreg__penalty=l2, logreg__solver=sag;, score=0.786 total time= 1.4min\n"
     ]
    },
    {
     "name": "stderr",
     "output_type": "stream",
     "text": [
      "/Users/jensbimberg/NeueFische/ml_project_kickstarter/.venv/lib/python3.9/site-packages/sklearn/linear_model/_sag.py:352: ConvergenceWarning: The max_iter was reached which means the coef_ did not converge\n",
      "  warnings.warn(\n"
     ]
    },
    {
     "name": "stdout",
     "output_type": "stream",
     "text": [
      "[CV 2/5] END logreg__C=1, logreg__penalty=l2, logreg__solver=sag;, score=0.788 total time= 1.4min\n"
     ]
    },
    {
     "name": "stderr",
     "output_type": "stream",
     "text": [
      "/Users/jensbimberg/NeueFische/ml_project_kickstarter/.venv/lib/python3.9/site-packages/sklearn/linear_model/_sag.py:352: ConvergenceWarning: The max_iter was reached which means the coef_ did not converge\n",
      "  warnings.warn(\n",
      "/Users/jensbimberg/NeueFische/ml_project_kickstarter/.venv/lib/python3.9/site-packages/sklearn/linear_model/_sag.py:352: ConvergenceWarning: The max_iter was reached which means the coef_ did not converge\n",
      "  warnings.warn(\n"
     ]
    },
    {
     "name": "stdout",
     "output_type": "stream",
     "text": [
      "[CV 3/5] END logreg__C=1, logreg__penalty=l2, logreg__solver=sag;, score=0.785 total time= 1.4min\n",
      "[CV 4/5] END logreg__C=1, logreg__penalty=l2, logreg__solver=sag;, score=0.788 total time= 1.4min\n"
     ]
    },
    {
     "name": "stderr",
     "output_type": "stream",
     "text": [
      "/Users/jensbimberg/NeueFische/ml_project_kickstarter/.venv/lib/python3.9/site-packages/sklearn/linear_model/_sag.py:352: ConvergenceWarning: The max_iter was reached which means the coef_ did not converge\n",
      "  warnings.warn(\n"
     ]
    },
    {
     "name": "stdout",
     "output_type": "stream",
     "text": [
      "[CV 1/5] END logreg__C=10, logreg__penalty=l2, logreg__solver=sag;, score=0.786 total time= 1.3min\n"
     ]
    },
    {
     "name": "stderr",
     "output_type": "stream",
     "text": [
      "/Users/jensbimberg/NeueFische/ml_project_kickstarter/.venv/lib/python3.9/site-packages/sklearn/linear_model/_sag.py:352: ConvergenceWarning: The max_iter was reached which means the coef_ did not converge\n",
      "  warnings.warn(\n"
     ]
    },
    {
     "name": "stdout",
     "output_type": "stream",
     "text": [
      "[CV 2/5] END logreg__C=10, logreg__penalty=l2, logreg__solver=sag;, score=0.788 total time= 1.3min\n"
     ]
    },
    {
     "name": "stderr",
     "output_type": "stream",
     "text": [
      "/Users/jensbimberg/NeueFische/ml_project_kickstarter/.venv/lib/python3.9/site-packages/sklearn/linear_model/_sag.py:352: ConvergenceWarning: The max_iter was reached which means the coef_ did not converge\n",
      "  warnings.warn(\n"
     ]
    },
    {
     "name": "stdout",
     "output_type": "stream",
     "text": [
      "[CV 3/5] END logreg__C=10, logreg__penalty=l2, logreg__solver=sag;, score=0.785 total time= 1.2min\n"
     ]
    },
    {
     "name": "stderr",
     "output_type": "stream",
     "text": [
      "/Users/jensbimberg/NeueFische/ml_project_kickstarter/.venv/lib/python3.9/site-packages/sklearn/linear_model/_sag.py:352: ConvergenceWarning: The max_iter was reached which means the coef_ did not converge\n",
      "  warnings.warn(\n"
     ]
    },
    {
     "name": "stdout",
     "output_type": "stream",
     "text": [
      "[CV 4/5] END logreg__C=10, logreg__penalty=l2, logreg__solver=sag;, score=0.789 total time=  53.4s\n"
     ]
    },
    {
     "name": "stderr",
     "output_type": "stream",
     "text": [
      "/Users/jensbimberg/NeueFische/ml_project_kickstarter/.venv/lib/python3.9/site-packages/sklearn/linear_model/_sag.py:352: ConvergenceWarning: The max_iter was reached which means the coef_ did not converge\n",
      "  warnings.warn(\n"
     ]
    },
    {
     "name": "stdout",
     "output_type": "stream",
     "text": [
      "[CV 5/5] END logreg__C=10, logreg__penalty=l2, logreg__solver=sag;, score=0.787 total time=  50.7s\n"
     ]
    },
    {
     "data": {
      "text/plain": [
       "GridSearchCV(cv=5,\n",
       "             estimator=Pipeline(steps=[('preprocessor',\n",
       "                                        ColumnTransformer(transformers=[('num',\n",
       "                                                                         Pipeline(steps=[('imputer_num',\n",
       "                                                                                          SimpleImputer(strategy='median')),\n",
       "                                                                                         ('std_scaler',\n",
       "                                                                                          StandardScaler())]),\n",
       "                                                                         ['blurb_length',\n",
       "                                                                          'usd_goal',\n",
       "                                                                          'name_length',\n",
       "                                                                          'creation_to_launch_days',\n",
       "                                                                          'campaign_days',\n",
       "                                                                          'launch_day',\n",
       "                                                                          'deadline_day',\n",
       "                                                                          'launch_month',\n",
       "                                                                          'deadline_month',\n",
       "                                                                          'launch_t...\n",
       "                                                                                          SimpleImputer(fill_value='missing',\n",
       "                                                                                                        strategy='constant')),\n",
       "                                                                                         ('1hot',\n",
       "                                                                                          OneHotEncoder(handle_unknown='ignore'))]),\n",
       "                                                                         ['category',\n",
       "                                                                          'country',\n",
       "                                                                          'is_starrable',\n",
       "                                                                          'staff_pick'])])),\n",
       "                                       ('logreg',\n",
       "                                        LogisticRegression(max_iter=1000))]),\n",
       "             n_jobs=-1,\n",
       "             param_grid={'logreg__C': [0.001, 0.01, 0.1, 1, 10],\n",
       "                         'logreg__penalty': ('l1', 'l2'),\n",
       "                         'logreg__solver': ['liblinear', 'lbfgs', 'sag']},\n",
       "             scoring='f1', verbose=5)"
      ]
     },
     "execution_count": 274,
     "metadata": {},
     "output_type": "execute_result"
    }
   ],
   "source": [
    "grid_logreg.fit(X_train, y_train)"
   ]
  },
  {
   "cell_type": "code",
   "execution_count": 275,
   "metadata": {},
   "outputs": [
    {
     "name": "stdout",
     "output_type": "stream",
     "text": [
      "Best score:\n",
      "0.79\n",
      "Best parameters:\n",
      "{'logreg__C': 10, 'logreg__penalty': 'l1', 'logreg__solver': 'liblinear'}\n"
     ]
    }
   ],
   "source": [
    "# Show best parameters\n",
    "print('Best score:\\n{:.2f}'.format(grid_logreg.best_score_))\n",
    "print(\"Best parameters:\\n{}\".format(grid_logreg.best_params_))"
   ]
  },
  {
   "cell_type": "code",
   "execution_count": 276,
   "metadata": {},
   "outputs": [
    {
     "data": {
      "text/plain": [
       "Pipeline(steps=[('preprocessor',\n",
       "                 ColumnTransformer(transformers=[('num',\n",
       "                                                  Pipeline(steps=[('imputer_num',\n",
       "                                                                   SimpleImputer(strategy='median')),\n",
       "                                                                  ('std_scaler',\n",
       "                                                                   StandardScaler())]),\n",
       "                                                  ['blurb_length', 'usd_goal',\n",
       "                                                   'name_length',\n",
       "                                                   'creation_to_launch_days',\n",
       "                                                   'campaign_days',\n",
       "                                                   'launch_day', 'deadline_day',\n",
       "                                                   'launch_month',\n",
       "                                                   'deadline_month',\n",
       "                                                   'launch_time',\n",
       "                                                   'deadline_time']),\n",
       "                                                 ('cat',\n",
       "                                                  Pipeline(steps=[('imputer_cat',\n",
       "                                                                   SimpleImputer(fill_value='missing',\n",
       "                                                                                 strategy='constant')),\n",
       "                                                                  ('1hot',\n",
       "                                                                   OneHotEncoder(handle_unknown='ignore'))]),\n",
       "                                                  ['category', 'country',\n",
       "                                                   'is_starrable',\n",
       "                                                   'staff_pick'])])),\n",
       "                ('logreg',\n",
       "                 LogisticRegression(C=10, max_iter=1000, penalty='l1',\n",
       "                                    solver='liblinear'))])"
      ]
     },
     "execution_count": 276,
     "metadata": {},
     "output_type": "execute_result"
    }
   ],
   "source": [
    "# Save best model (including fitted preprocessing steps) as best_model \n",
    "best_model = grid_logreg.best_estimator_\n",
    "best_model"
   ]
  },
  {
   "attachments": {},
   "cell_type": "markdown",
   "metadata": {},
   "source": [
    "# Final Evaluation\n",
    "\n",
    "Finally we have a good model. Let's see if it also passes the final evaluation on the test data. Therefore we have to prepare the test set in the same way we did with the training data. Thanks to our pipeline it's done in a blink and we can be sure no data-leakage happened at any step through the whole data preprocessing.\n",
    "\n",
    "When we saved the best model in the cell above, we did not only save the trained model but also the fitted preprocessing pipeline. Thus, transforming the test data the same way as the train data happens also when calling the .predict method on the best_model."
   ]
  },
  {
   "cell_type": "code",
   "execution_count": 277,
   "metadata": {},
   "outputs": [
    {
     "name": "stdout",
     "output_type": "stream",
     "text": [
      "Accuracy: 0.72\n",
      "Recall: 0.86\n",
      "Precision: 0.73\n",
      "f1: 0.79\n"
     ]
    }
   ],
   "source": [
    "# Calculating the accuracy, recall and precision for the test set with the optimized model\n",
    "y_test_predicted = best_model.predict(X_test)\n",
    "\n",
    "print(\"Accuracy: {:.2f}\".format(accuracy_score(y_test, y_test_predicted)))\n",
    "print(\"Recall: {:.2f}\".format(recall_score(y_test, y_test_predicted)))\n",
    "print(\"Precision: {:.2f}\".format(precision_score(y_test, y_test_predicted)))\n",
    "print(\"f1: {:.2f}\".format(f1_score(y_test, y_test_predicted)))"
   ]
  },
  {
   "cell_type": "code",
   "execution_count": 278,
   "metadata": {},
   "outputs": [],
   "source": [
    "y_train_predicted = best_model.predict(X_train)\n",
    "\n",
    "accuracy_cvgridsearch = accuracy_score(y_train, y_train_predicted)\n",
    "recall_cvgridsearch = recall_score(y_train, y_train_predicted)\n",
    "precision_cvgridsearch = precision_score(y_train, y_train_predicted)\n",
    "f1_cvgridsearch = f1_score(y_train, y_train_predicted)"
   ]
  },
  {
   "cell_type": "code",
   "execution_count": 279,
   "metadata": {},
   "outputs": [
    {
     "data": {
      "text/html": [
       "<div>\n",
       "<style scoped>\n",
       "    .dataframe tbody tr th:only-of-type {\n",
       "        vertical-align: middle;\n",
       "    }\n",
       "\n",
       "    .dataframe tbody tr th {\n",
       "        vertical-align: top;\n",
       "    }\n",
       "\n",
       "    .dataframe thead th {\n",
       "        text-align: right;\n",
       "    }\n",
       "</style>\n",
       "<table border=\"1\" class=\"dataframe\">\n",
       "  <thead>\n",
       "    <tr style=\"text-align: right;\">\n",
       "      <th></th>\n",
       "      <th>accuracy</th>\n",
       "      <th>recall</th>\n",
       "      <th>precision</th>\n",
       "      <th>f1</th>\n",
       "    </tr>\n",
       "  </thead>\n",
       "  <tbody>\n",
       "    <tr>\n",
       "      <th>logreg</th>\n",
       "      <td>0.716896</td>\n",
       "      <td>0.857012</td>\n",
       "      <td>0.727286</td>\n",
       "      <td>0.786838</td>\n",
       "    </tr>\n",
       "    <tr>\n",
       "      <th>gridsearchCV_logreg</th>\n",
       "      <td>0.719408</td>\n",
       "      <td>0.858296</td>\n",
       "      <td>0.729339</td>\n",
       "      <td>0.788580</td>\n",
       "    </tr>\n",
       "    <tr>\n",
       "      <th>random_forest</th>\n",
       "      <td>0.746024</td>\n",
       "      <td>0.857080</td>\n",
       "      <td>0.757988</td>\n",
       "      <td>0.804494</td>\n",
       "    </tr>\n",
       "    <tr>\n",
       "      <th>xgboost</th>\n",
       "      <td>0.745920</td>\n",
       "      <td>0.847749</td>\n",
       "      <td>0.762201</td>\n",
       "      <td>0.802702</td>\n",
       "    </tr>\n",
       "  </tbody>\n",
       "</table>\n",
       "</div>"
      ],
      "text/plain": [
       "                     accuracy    recall  precision        f1\n",
       "logreg               0.716896  0.857012   0.727286  0.786838\n",
       "gridsearchCV_logreg  0.719408  0.858296   0.729339  0.788580\n",
       "random_forest        0.746024  0.857080   0.757988  0.804494\n",
       "xgboost              0.745920  0.847749   0.762201  0.802702"
      ]
     },
     "execution_count": 279,
     "metadata": {},
     "output_type": "execute_result"
    }
   ],
   "source": [
    "validation_scores_X_train = pd.DataFrame([\n",
    "                                  [accuracy_logreg, recall_logreg,precision_logreg,f1_logreg],\n",
    "                                  [accuracy_cvgridsearch, recall_cvgridsearch,precision_cvgridsearch,f1_cvgridsearch],\n",
    "                                  [accuracy_rf,recall_rf,precision_rf ,f1_rf],\n",
    "                                  [accuracy_xgb,recall_xgb,precision_xgb ,f1_xgb]],\n",
    "                                        columns= ['accuracy','recall','precision','f1']\n",
    "                                        )\n",
    "validation_scores_X_train.index = ['logreg','gridsearchCV_logreg','random_forest','xgboost']\n",
    "validation_scores_X_train"
   ]
  },
  {
   "cell_type": "code",
   "execution_count": 280,
   "metadata": {},
   "outputs": [],
   "source": [
    "y_test_predicted = best_model.predict(X_test)\n",
    "y_test_predicted_logreg = cross_val_predict(pipe_logreg, X_test, y_test, cv=5)\n",
    "y_test_predicted_rf = cross_val_predict(pipe_rf, X_test, y_test, cv=5)\n",
    "y_test_predicted_xgb = cross_val_predict(pipe_xgb, X_test, y_test, cv=5)"
   ]
  },
  {
   "cell_type": "code",
   "execution_count": 285,
   "metadata": {},
   "outputs": [],
   "source": [
    "accuracy_logreg = accuracy_score(y_test, y_test_predicted_logreg)\n",
    "recall_logreg = recall_score(y_test, y_test_predicted_logreg)\n",
    "precision_logreg = precision_score(y_test, y_test_predicted_logreg)\n",
    "f1_logreg = f1_score(y_test, y_test_predicted_logreg)\n",
    "\n",
    "accuracy_rf = accuracy_score(y_test, y_test_predicted_rf)\n",
    "recall_rf = recall_score(y_test, y_test_predicted_rf)\n",
    "precision_rf = precision_score(y_test, y_test_predicted_rf)\n",
    "f1_rf = f1_score(y_test, y_test_predicted_rf)\n",
    "\n",
    "accuracy_xgb = accuracy_score(y_test, y_test_predicted_xgb)\n",
    "recall_xgb = recall_score(y_test, y_test_predicted_xgb)\n",
    "precision_xgb = precision_score(y_test, y_test_predicted_xgb)\n",
    "f1_xgb = f1_score(y_test, y_test_predicted_xgb)\n",
    "\n",
    "accuracy_cvgridsearch = accuracy_score(y_test, y_test_predicted)\n",
    "recall_cvgridsearch = recall_score(y_test, y_test_predicted)\n",
    "precision_cvgridsearch = precision_score(y_test, y_test_predicted)\n",
    "f1_cvgridsearch = f1_score(y_test, y_test_predicted)"
   ]
  },
  {
   "cell_type": "code",
   "execution_count": 286,
   "metadata": {},
   "outputs": [
    {
     "data": {
      "text/html": [
       "<div>\n",
       "<style scoped>\n",
       "    .dataframe tbody tr th:only-of-type {\n",
       "        vertical-align: middle;\n",
       "    }\n",
       "\n",
       "    .dataframe tbody tr th {\n",
       "        vertical-align: top;\n",
       "    }\n",
       "\n",
       "    .dataframe thead th {\n",
       "        text-align: right;\n",
       "    }\n",
       "</style>\n",
       "<table border=\"1\" class=\"dataframe\">\n",
       "  <thead>\n",
       "    <tr style=\"text-align: right;\">\n",
       "      <th></th>\n",
       "      <th>accuracy</th>\n",
       "      <th>recall</th>\n",
       "      <th>precision</th>\n",
       "      <th>f1</th>\n",
       "    </tr>\n",
       "  </thead>\n",
       "  <tbody>\n",
       "    <tr>\n",
       "      <th>logreg</th>\n",
       "      <td>0.716896</td>\n",
       "      <td>0.857012</td>\n",
       "      <td>0.727286</td>\n",
       "      <td>0.786838</td>\n",
       "    </tr>\n",
       "    <tr>\n",
       "      <th>gridsearchCV_logreg</th>\n",
       "      <td>0.719906</td>\n",
       "      <td>0.861336</td>\n",
       "      <td>0.728661</td>\n",
       "      <td>0.789463</td>\n",
       "    </tr>\n",
       "    <tr>\n",
       "      <th>random_forest</th>\n",
       "      <td>0.745505</td>\n",
       "      <td>0.855820</td>\n",
       "      <td>0.757993</td>\n",
       "      <td>0.803941</td>\n",
       "    </tr>\n",
       "    <tr>\n",
       "      <th>xgboost</th>\n",
       "      <td>0.745920</td>\n",
       "      <td>0.847749</td>\n",
       "      <td>0.762201</td>\n",
       "      <td>0.802702</td>\n",
       "    </tr>\n",
       "  </tbody>\n",
       "</table>\n",
       "</div>"
      ],
      "text/plain": [
       "                     accuracy    recall  precision        f1\n",
       "logreg               0.716896  0.857012   0.727286  0.786838\n",
       "gridsearchCV_logreg  0.719906  0.861336   0.728661  0.789463\n",
       "random_forest        0.745505  0.855820   0.757993  0.803941\n",
       "xgboost              0.745920  0.847749   0.762201  0.802702"
      ]
     },
     "execution_count": 286,
     "metadata": {},
     "output_type": "execute_result"
    }
   ],
   "source": [
    "validation_scores_X_train = pd.DataFrame([\n",
    "                                  [accuracy_logreg, recall_logreg,precision_logreg,f1_logreg],\n",
    "                                  [accuracy_cvgridsearch, recall_cvgridsearch,precision_cvgridsearch,f1_cvgridsearch],\n",
    "                                  [accuracy_rf,recall_rf,precision_rf ,f1_rf],\n",
    "                                  [accuracy_xgb,recall_xgb,precision_xgb ,f1_xgb]],\n",
    "                                        columns= ['accuracy','recall','precision','f1']\n",
    "                                        )\n",
    "validation_scores_X_train.index = ['logreg','gridsearchCV_logreg','random_forest','xgboost']\n",
    "validation_scores_X_train"
   ]
  },
  {
   "cell_type": "code",
   "execution_count": 271,
   "metadata": {},
   "outputs": [
    {
     "data": {
      "image/png": "[encoded data removed]",
      "text/plain": [
       "<Figure size 640x480 with 2 Axes>"
      ]
     },
     "metadata": {},
     "output_type": "display_data"
    }
   ],
   "source": [
    "cm = confusion_matrix(y_test, y_test_predicted)\n",
    "sns.heatmap(cm, cmap=\"YlGnBu_r\", annot=True, fmt=\".0f\");"
   ]
  },
  {
   "cell_type": "code",
   "execution_count": 272,
   "metadata": {},
   "outputs": [
    {
     "data": {
      "image/png": "[encoded data removed]",
      "text/plain": [
       "<Figure size 640x480 with 2 Axes>"
      ]
     },
     "metadata": {},
     "output_type": "display_data"
    }
   ],
   "source": [
    "cm = confusion_matrix(y_test, y_test_predicted_xgb)\n",
    "sns.heatmap(cm, cmap=\"YlGnBu_r\", annot=True, fmt=\".0f\");"
   ]
  },
  {
   "cell_type": "code",
   "execution_count": 287,
   "metadata": {},
   "outputs": [
    {
     "data": {
      "image/png": "[encoded data removed]",
      "text/plain": [
       "<Figure size 640x480 with 2 Axes>"
      ]
     },
     "metadata": {},
     "output_type": "display_data"
    }
   ],
   "source": [
    "cm = confusion_matrix(y_test, y_test_predicted_rf)\n",
    "sns.heatmap(cm, cmap=\"YlGnBu_r\", annot=True, fmt=\".0f\");"
   ]
  },
  {
   "cell_type": "code",
   "execution_count": 291,
   "metadata": {},
   "outputs": [
    {
     "data": {
      "text/html": [
       "<div>\n",
       "<style scoped>\n",
       "    .dataframe tbody tr th:only-of-type {\n",
       "        vertical-align: middle;\n",
       "    }\n",
       "\n",
       "    .dataframe tbody tr th {\n",
       "        vertical-align: top;\n",
       "    }\n",
       "\n",
       "    .dataframe thead th {\n",
       "        text-align: right;\n",
       "    }\n",
       "</style>\n",
       "<table border=\"1\" class=\"dataframe\">\n",
       "  <thead>\n",
       "    <tr style=\"text-align: right;\">\n",
       "      <th></th>\n",
       "      <th>usd_goal</th>\n",
       "    </tr>\n",
       "  </thead>\n",
       "  <tbody>\n",
       "    <tr>\n",
       "      <th>141673</th>\n",
       "      <td>1</td>\n",
       "    </tr>\n",
       "    <tr>\n",
       "      <th>73410</th>\n",
       "      <td>0</td>\n",
       "    </tr>\n",
       "    <tr>\n",
       "      <th>91050</th>\n",
       "      <td>1</td>\n",
       "    </tr>\n",
       "    <tr>\n",
       "      <th>177006</th>\n",
       "      <td>0</td>\n",
       "    </tr>\n",
       "    <tr>\n",
       "      <th>91743</th>\n",
       "      <td>1</td>\n",
       "    </tr>\n",
       "    <tr>\n",
       "      <th>...</th>\n",
       "      <td>...</td>\n",
       "    </tr>\n",
       "    <tr>\n",
       "      <th>46000</th>\n",
       "      <td>1</td>\n",
       "    </tr>\n",
       "    <tr>\n",
       "      <th>25379</th>\n",
       "      <td>1</td>\n",
       "    </tr>\n",
       "    <tr>\n",
       "      <th>66211</th>\n",
       "      <td>1</td>\n",
       "    </tr>\n",
       "    <tr>\n",
       "      <th>158619</th>\n",
       "      <td>0</td>\n",
       "    </tr>\n",
       "    <tr>\n",
       "      <th>11157</th>\n",
       "      <td>0</td>\n",
       "    </tr>\n",
       "  </tbody>\n",
       "</table>\n",
       "<p>48166 rows × 1 columns</p>\n",
       "</div>"
      ],
      "text/plain": [
       "        usd_goal\n",
       "141673         1\n",
       "73410          0\n",
       "91050          1\n",
       "177006         0\n",
       "91743          1\n",
       "...          ...\n",
       "46000          1\n",
       "25379          1\n",
       "66211          1\n",
       "158619         0\n",
       "11157          0\n",
       "\n",
       "[48166 rows x 1 columns]"
      ]
     },
     "execution_count": 291,
     "metadata": {},
     "output_type": "execute_result"
    }
   ],
   "source": [
    "#simple model by campaign_days:\n",
    "# df_pclass = pd.DataFrame(df['usd_goal'])\n",
    "df_pclass = pd.DataFrame(X_test['usd_goal'])\n",
    "\n",
    "base_model_pred = df_pclass.applymap(lambda x: 0 if x >= 4000   else 1)\n",
    "\n",
    "base_model_pred"
   ]
  },
  {
   "cell_type": "code",
   "execution_count": 292,
   "metadata": {},
   "outputs": [],
   "source": [
    "f1_basemodel = f1_score(y_test, base_model_pred)"
   ]
  },
  {
   "cell_type": "code",
   "execution_count": 293,
   "metadata": {},
   "outputs": [
    {
     "data": {
      "text/plain": [
       "0.6040598248932394"
      ]
     },
     "execution_count": 293,
     "metadata": {},
     "output_type": "execute_result"
    }
   ],
   "source": [
    "f1_basemodel"
   ]
  },
  {
   "cell_type": "code",
   "execution_count": 294,
   "metadata": {},
   "outputs": [],
   "source": [
    "accuracy_base = accuracy_score(y_test, base_model_pred)\n",
    "recall_base = recall_score(y_test, base_model_pred)\n",
    "precision_base = precision_score(y_test, base_model_pred)\n",
    "f1_base = f1_score(y_test, base_model_pred)"
   ]
  },
  {
   "cell_type": "code",
   "execution_count": 295,
   "metadata": {},
   "outputs": [
    {
     "data": {
      "text/html": [
       "<div>\n",
       "<style scoped>\n",
       "    .dataframe tbody tr th:only-of-type {\n",
       "        vertical-align: middle;\n",
       "    }\n",
       "\n",
       "    .dataframe tbody tr th {\n",
       "        vertical-align: top;\n",
       "    }\n",
       "\n",
       "    .dataframe thead th {\n",
       "        text-align: right;\n",
       "    }\n",
       "</style>\n",
       "<table border=\"1\" class=\"dataframe\">\n",
       "  <thead>\n",
       "    <tr style=\"text-align: right;\">\n",
       "      <th></th>\n",
       "      <th>accuracy</th>\n",
       "      <th>recall</th>\n",
       "      <th>precision</th>\n",
       "      <th>f1</th>\n",
       "    </tr>\n",
       "  </thead>\n",
       "  <tbody>\n",
       "    <tr>\n",
       "      <th>base model</th>\n",
       "      <td>0.578437</td>\n",
       "      <td>0.527447</td>\n",
       "      <td>0.706712</td>\n",
       "      <td>0.604060</td>\n",
       "    </tr>\n",
       "    <tr>\n",
       "      <th>logreg</th>\n",
       "      <td>0.716896</td>\n",
       "      <td>0.857012</td>\n",
       "      <td>0.727286</td>\n",
       "      <td>0.786838</td>\n",
       "    </tr>\n",
       "    <tr>\n",
       "      <th>gridsearchCV_logreg</th>\n",
       "      <td>0.719906</td>\n",
       "      <td>0.861336</td>\n",
       "      <td>0.728661</td>\n",
       "      <td>0.789463</td>\n",
       "    </tr>\n",
       "    <tr>\n",
       "      <th>random_forest</th>\n",
       "      <td>0.745505</td>\n",
       "      <td>0.855820</td>\n",
       "      <td>0.757993</td>\n",
       "      <td>0.803941</td>\n",
       "    </tr>\n",
       "    <tr>\n",
       "      <th>xgboost</th>\n",
       "      <td>0.745920</td>\n",
       "      <td>0.847749</td>\n",
       "      <td>0.762201</td>\n",
       "      <td>0.802702</td>\n",
       "    </tr>\n",
       "  </tbody>\n",
       "</table>\n",
       "</div>"
      ],
      "text/plain": [
       "                     accuracy    recall  precision        f1\n",
       "base model           0.578437  0.527447   0.706712  0.604060\n",
       "logreg               0.716896  0.857012   0.727286  0.786838\n",
       "gridsearchCV_logreg  0.719906  0.861336   0.728661  0.789463\n",
       "random_forest        0.745505  0.855820   0.757993  0.803941\n",
       "xgboost              0.745920  0.847749   0.762201  0.802702"
      ]
     },
     "execution_count": 295,
     "metadata": {},
     "output_type": "execute_result"
    }
   ],
   "source": [
    "validation_scores_X_test = pd.DataFrame([\n",
    "                                  [accuracy_base, recall_base,precision_base,f1_base],\n",
    "                                  [accuracy_logreg, recall_logreg,precision_logreg,f1_logreg],\n",
    "                                  [accuracy_cvgridsearch, recall_cvgridsearch,precision_cvgridsearch,f1_cvgridsearch],\n",
    "                                  [accuracy_rf,recall_rf,precision_rf ,f1_rf],\n",
    "                                  [accuracy_xgb,recall_xgb,precision_xgb ,f1_xgb]],\n",
    "                                        columns= ['accuracy','recall','precision','f1']\n",
    "                                        )\n",
    "validation_scores_X_test.index = ['base model','logreg','gridsearchCV_logreg','random_forest','xgboost']\n",
    "validation_scores_X_test"
   ]
  },
  {
   "attachments": {},
   "cell_type": "markdown",
   "metadata": {},
   "source": [
    "# models are ready."
   ]
  },
  {
   "cell_type": "code",
   "execution_count": null,
   "metadata": {},
   "outputs": [
    {
     "data": {
      "image/png": "[encoded data removed]",
      "text/plain": [
       "<Figure size 1152x864 with 9 Axes>"
      ]
     },
     "metadata": {
      "needs_background": "light"
     },
     "output_type": "display_data"
    }
   ],
   "source": [
    "# Plot distribution of features \n",
    "features = df_train.columns.tolist()\n",
    "features.remove('Outcome')\n",
    "\n",
    "fig,ax = plt.subplots(3,3,figsize=(16,12))\n",
    "count = 0\n",
    "for item in features:\n",
    "    sns.histplot(df_train[item], kde=True, ax=ax[int(count/3)][count%3], color='#33658A').set(title=item, xlabel='')\n",
    "    count += 1\n",
    "ax.flat[-1].set_visible(False)\n",
    "fig.tight_layout(pad=3)"
   ]
  },
  {
   "cell_type": "markdown",
   "metadata": {},
   "source": [
    "These plots clearly show several things:\n",
    "* The distributions of `Pregnancies`, `Age`, `Insulin` and `DiabetesPedigreeFunction` are positively/right skewed. Transforming them might increase our model's performance (depending on the model type we use).\n",
    "* The features `Glucose`, `BloodPressure`, `SkinThickness`, `Insulin` and `BMI` include zeros, even if it is not a expected value for those features. This might indicate, that missing values are represented as zeros in this dataset. We have to find a suitable strategy to replace/impute those values. "
   ]
  },
  {
   "cell_type": "markdown",
   "metadata": {},
   "source": [
    "### Analysis of Missing Values (== 0)"
   ]
  },
  {
   "cell_type": "code",
   "execution_count": null,
   "metadata": {},
   "outputs": [],
   "source": [
    "# Replace zeros with np.nan\n",
    "def replace_zeros(df, feature):\n",
    "    df[feature] = df[feature].replace(0, np.nan)\n",
    "    return df\n",
    "\n",
    "columns_with_zeros = [\"Glucose\", \"BloodPressure\", \"SkinThickness\", \"Insulin\", \"BMI\"]\n",
    "for col in columns_with_zeros:\n",
    "    df_train = replace_zeros(df_train, col)"
   ]
  },
  {
   "cell_type": "code",
   "execution_count": null,
   "metadata": {},
   "outputs": [
    {
     "data": {
      "text/plain": [
       "Pregnancies                   0\n",
       "Glucose                       3\n",
       "BloodPressure                21\n",
       "SkinThickness               151\n",
       "Insulin                     249\n",
       "BMI                           8\n",
       "DiabetesPedigreeFunction      0\n",
       "Age                           0\n",
       "Outcome                       0\n",
       "dtype: int64"
      ]
     },
     "execution_count": 16,
     "metadata": {},
     "output_type": "execute_result"
    }
   ],
   "source": [
    "# Check for missing data\n",
    "df_train.isnull().sum()"
   ]
  },
  {
   "cell_type": "markdown",
   "metadata": {},
   "source": [
    "Insulin and SkinThickness have a lot of missing values. Let's start by looking at the columns with fewer missings and try to replace/drop them."
   ]
  },
  {
   "cell_type": "code",
   "execution_count": null,
   "metadata": {},
   "outputs": [
    {
     "name": "stdout",
     "output_type": "stream",
     "text": [
      "5\n"
     ]
    },
    {
     "data": {
      "text/html": [
       "<div>\n",
       "<style scoped>\n",
       "    .dataframe tbody tr th:only-of-type {\n",
       "        vertical-align: middle;\n",
       "    }\n",
       "\n",
       "    .dataframe tbody tr th {\n",
       "        vertical-align: top;\n",
       "    }\n",
       "\n",
       "    .dataframe thead th {\n",
       "        text-align: right;\n",
       "    }\n",
       "</style>\n",
       "<table border=\"1\" class=\"dataframe\">\n",
       "  <thead>\n",
       "    <tr style=\"text-align: right;\">\n",
       "      <th></th>\n",
       "      <th>Pregnancies</th>\n",
       "      <th>Glucose</th>\n",
       "      <th>BloodPressure</th>\n",
       "      <th>SkinThickness</th>\n",
       "      <th>Insulin</th>\n",
       "      <th>BMI</th>\n",
       "      <th>DiabetesPedigreeFunction</th>\n",
       "      <th>Age</th>\n",
       "      <th>Outcome</th>\n",
       "    </tr>\n",
       "  </thead>\n",
       "  <tbody>\n",
       "    <tr>\n",
       "      <th>60</th>\n",
       "      <td>2</td>\n",
       "      <td>84.0</td>\n",
       "      <td>NaN</td>\n",
       "      <td>NaN</td>\n",
       "      <td>NaN</td>\n",
       "      <td>NaN</td>\n",
       "      <td>0.304</td>\n",
       "      <td>21</td>\n",
       "      <td>0</td>\n",
       "    </tr>\n",
       "    <tr>\n",
       "      <th>426</th>\n",
       "      <td>0</td>\n",
       "      <td>94.0</td>\n",
       "      <td>NaN</td>\n",
       "      <td>NaN</td>\n",
       "      <td>NaN</td>\n",
       "      <td>NaN</td>\n",
       "      <td>0.256</td>\n",
       "      <td>25</td>\n",
       "      <td>0</td>\n",
       "    </tr>\n",
       "    <tr>\n",
       "      <th>522</th>\n",
       "      <td>6</td>\n",
       "      <td>114.0</td>\n",
       "      <td>NaN</td>\n",
       "      <td>NaN</td>\n",
       "      <td>NaN</td>\n",
       "      <td>NaN</td>\n",
       "      <td>0.189</td>\n",
       "      <td>26</td>\n",
       "      <td>0</td>\n",
       "    </tr>\n",
       "    <tr>\n",
       "      <th>49</th>\n",
       "      <td>7</td>\n",
       "      <td>105.0</td>\n",
       "      <td>NaN</td>\n",
       "      <td>NaN</td>\n",
       "      <td>NaN</td>\n",
       "      <td>NaN</td>\n",
       "      <td>0.305</td>\n",
       "      <td>24</td>\n",
       "      <td>0</td>\n",
       "    </tr>\n",
       "    <tr>\n",
       "      <th>706</th>\n",
       "      <td>10</td>\n",
       "      <td>115.0</td>\n",
       "      <td>NaN</td>\n",
       "      <td>NaN</td>\n",
       "      <td>NaN</td>\n",
       "      <td>NaN</td>\n",
       "      <td>0.261</td>\n",
       "      <td>30</td>\n",
       "      <td>1</td>\n",
       "    </tr>\n",
       "  </tbody>\n",
       "</table>\n",
       "</div>"
      ],
      "text/plain": [
       "     Pregnancies  Glucose  BloodPressure  SkinThickness  Insulin  BMI  \\\n",
       "60             2     84.0            NaN            NaN      NaN  NaN   \n",
       "426            0     94.0            NaN            NaN      NaN  NaN   \n",
       "522            6    114.0            NaN            NaN      NaN  NaN   \n",
       "49             7    105.0            NaN            NaN      NaN  NaN   \n",
       "706           10    115.0            NaN            NaN      NaN  NaN   \n",
       "\n",
       "     DiabetesPedigreeFunction  Age  Outcome  \n",
       "60                      0.304   21        0  \n",
       "426                     0.256   25        0  \n",
       "522                     0.189   26        0  \n",
       "49                      0.305   24        0  \n",
       "706                     0.261   30        1  "
      ]
     },
     "execution_count": 17,
     "metadata": {},
     "output_type": "execute_result"
    }
   ],
   "source": [
    "print(df_train.query(\"BMI.isnull() & BloodPressure.isnull()\").shape[0])\n",
    "index_list = df_train.query(\"BMI.isnull() & BloodPressure.isnull()\").index.tolist()\n",
    "df_train.query(\"BMI.isnull() & BloodPressure.isnull()\")"
   ]
  },
  {
   "cell_type": "markdown",
   "metadata": {},
   "source": [
    "There are 5 observations with missing values in 4 of 8 features. We will drop those rows."
   ]
  },
  {
   "cell_type": "code",
   "execution_count": null,
   "metadata": {},
   "outputs": [],
   "source": [
    "# Drop rows by index\n",
    "df_train = df_train.drop(index_list)"
   ]
  },
  {
   "cell_type": "code",
   "execution_count": null,
   "metadata": {},
   "outputs": [
    {
     "data": {
      "image/png": "[encoded data removed]",
      "text/plain": [
       "<Figure size 1152x288 with 3 Axes>"
      ]
     },
     "metadata": {
      "needs_background": "light"
     },
     "output_type": "display_data"
    }
   ],
   "source": [
    "# Plot distribution of numerical features with missing values \n",
    "plot_col = ['BMI', 'BloodPressure', 'Glucose']\n",
    "fig,ax = plt.subplots(1, 3,figsize=(16,4))\n",
    "count = 0\n",
    "for col in plot_col:\n",
    "    sns.histplot(df_train[col], kde=True, ax=ax[count], color='#33658A').set(title=col, xlabel='')\n",
    "    #plt.axvlines(X_train[col].mean(), 0, X_train[col].max(), color=\"red\")\n",
    "    count += 1\n",
    "fig.tight_layout(pad=3)"
   ]
  },
  {
   "cell_type": "code",
   "execution_count": null,
   "metadata": {},
   "outputs": [
    {
     "name": "stdout",
     "output_type": "stream",
     "text": [
      "BMI mean: 32.66\n",
      "BMI median: 32.4\n",
      "BloodPressure mean: 72.3\n",
      "BloodPressure median: 72.0\n",
      "Glucose mean: 121.4\n",
      "Glucose median: 117.0\n"
     ]
    }
   ],
   "source": [
    "# Print mean and median for those features\n",
    "for col in plot_col:\n",
    "    print(f\"{col} mean: {df_train[col].mean().round(2)}\")\n",
    "    print(f\"{col} median: {df_train[col].median().round(2)}\")"
   ]
  },
  {
   "cell_type": "markdown",
   "metadata": {},
   "source": [
    "For a first try, we will replace the missing values for those columns either with the mean or median. It makes sense to check the distribution to decide which value to choose. Comparing the mean and median for those columns shows, that both values for BMI and BloodPressure are pretty close together. Only the heavies skewed column Glucose shows a remarkable difference between mean and median. We will keep it simple and replace all missing values with the median of the respective features. "
   ]
  },
  {
   "cell_type": "code",
   "execution_count": null,
   "metadata": {},
   "outputs": [],
   "source": [
    "# Replace missing values with median of respective feature\n",
    "values_dict = {}\n",
    "for col in plot_col:\n",
    "    values_dict[col] = df_train[col].median()\n",
    "    df_train[col] = df_train[col].fillna(values_dict[col])"
   ]
  },
  {
   "cell_type": "code",
   "execution_count": null,
   "metadata": {},
   "outputs": [
    {
     "data": {
      "text/plain": [
       "Pregnancies                   0\n",
       "Glucose                       0\n",
       "BloodPressure                 0\n",
       "SkinThickness               146\n",
       "Insulin                     244\n",
       "BMI                           0\n",
       "DiabetesPedigreeFunction      0\n",
       "Age                           0\n",
       "Outcome                       0\n",
       "dtype: int64"
      ]
     },
     "execution_count": 22,
     "metadata": {},
     "output_type": "execute_result"
    }
   ],
   "source": [
    "# Check for missings again\n",
    "df_train.isnull().sum()"
   ]
  },
  {
   "cell_type": "code",
   "execution_count": null,
   "metadata": {},
   "outputs": [
    {
     "name": "stdout",
     "output_type": "stream",
     "text": [
      "SkinThickness % of missing data: 28.68\n",
      "Insulin % of missing data: 47.94\n"
     ]
    }
   ],
   "source": [
    "print(\"SkinThickness % of missing data:\", ((df_train.SkinThickness.isnull().sum()/df_train.shape[0])*100).round(2))\n",
    "print(\"Insulin % of missing data:\", ((df_train.Insulin.isnull().sum()/df_train.shape[0])*100).round(2))"
   ]
  },
  {
   "cell_type": "markdown",
   "metadata": {},
   "source": [
    "There are still two columns where a high proportion of the data is missing. Replacing them with the mean or median might induce inaccuracies. We can have a look if there are other features, which are strongly correlated so that we can drop the ones with the missing values."
   ]
  },
  {
   "cell_type": "markdown",
   "metadata": {},
   "source": [
    "### Correlations"
   ]
  },
  {
   "cell_type": "code",
   "execution_count": null,
   "metadata": {},
   "outputs": [
    {
     "data": {
      "image/png": "[encoded data removed]",
      "text/plain": [
       "<Figure size 773.25x720 with 20 Axes>"
      ]
     },
     "metadata": {
      "needs_background": "light"
     },
     "output_type": "display_data"
    }
   ],
   "source": [
    "sns.pairplot(df_train[[\"Glucose\", \"SkinThickness\", \"BMI\", \"Insulin\", \"Outcome\"]], hue=\"Outcome\");"
   ]
  },
  {
   "cell_type": "code",
   "execution_count": null,
   "metadata": {},
   "outputs": [
    {
     "data": {
      "image/png": "[encoded data removed]",
      "text/plain": [
       "<Figure size 1080x864 with 2 Axes>"
      ]
     },
     "metadata": {
      "needs_background": "light"
     },
     "output_type": "display_data"
    }
   ],
   "source": [
    "# Calculate correlations between features\n",
    "corr = df_train.corr()\n",
    "\n",
    "plt.subplots(figsize=(15, 12))\n",
    "mask = np.triu(np.ones_like(corr, dtype=bool))\n",
    "sns.heatmap(corr, annot=True, cmap=\"YlGnBu_r\", mask=mask, vmax=1, vmin=-1);"
   ]
  },
  {
   "cell_type": "markdown",
   "metadata": {},
   "source": [
    "From the pairplot and correlation heatmap above we can see that the features `BMI` and `SkinThickness` are rather highly correlated. The same applies for the features `Glucose` and `Insulin`. Since we have so many missing values for `SkinThickness` and `Insulin` we will drop them now."
   ]
  },
  {
   "cell_type": "code",
   "execution_count": null,
   "metadata": {},
   "outputs": [],
   "source": [
    "# Drop Insulin and SkinThickness column\n",
    "df_train = df_train.drop([\"Insulin\", \"SkinThickness\"], axis=1)"
   ]
  },
  {
   "cell_type": "code",
   "execution_count": null,
   "metadata": {},
   "outputs": [
    {
     "data": {
      "text/html": [
       "<div>\n",
       "<style scoped>\n",
       "    .dataframe tbody tr th:only-of-type {\n",
       "        vertical-align: middle;\n",
       "    }\n",
       "\n",
       "    .dataframe tbody tr th {\n",
       "        vertical-align: top;\n",
       "    }\n",
       "\n",
       "    .dataframe thead th {\n",
       "        text-align: right;\n",
       "    }\n",
       "</style>\n",
       "<table border=\"1\" class=\"dataframe\">\n",
       "  <thead>\n",
       "    <tr style=\"text-align: right;\">\n",
       "      <th></th>\n",
       "      <th>Pregnancies</th>\n",
       "      <th>Glucose</th>\n",
       "      <th>BloodPressure</th>\n",
       "      <th>BMI</th>\n",
       "      <th>DiabetesPedigreeFunction</th>\n",
       "      <th>Age</th>\n",
       "      <th>Outcome</th>\n",
       "    </tr>\n",
       "  </thead>\n",
       "  <tbody>\n",
       "    <tr>\n",
       "      <th>657</th>\n",
       "      <td>1</td>\n",
       "      <td>120.0</td>\n",
       "      <td>80.0</td>\n",
       "      <td>38.9</td>\n",
       "      <td>1.162</td>\n",
       "      <td>41</td>\n",
       "      <td>0</td>\n",
       "    </tr>\n",
       "    <tr>\n",
       "      <th>125</th>\n",
       "      <td>1</td>\n",
       "      <td>88.0</td>\n",
       "      <td>30.0</td>\n",
       "      <td>55.0</td>\n",
       "      <td>0.496</td>\n",
       "      <td>26</td>\n",
       "      <td>1</td>\n",
       "    </tr>\n",
       "  </tbody>\n",
       "</table>\n",
       "</div>"
      ],
      "text/plain": [
       "     Pregnancies  Glucose  BloodPressure   BMI  DiabetesPedigreeFunction  Age  \\\n",
       "657            1    120.0           80.0  38.9                     1.162   41   \n",
       "125            1     88.0           30.0  55.0                     0.496   26   \n",
       "\n",
       "     Outcome  \n",
       "657        0  \n",
       "125        1  "
      ]
     },
     "execution_count": 27,
     "metadata": {},
     "output_type": "execute_result"
    }
   ],
   "source": [
    "df_train.head(2)"
   ]
  },
  {
   "cell_type": "code",
   "execution_count": null,
   "metadata": {},
   "outputs": [
    {
     "data": {
      "text/plain": [
       "0"
      ]
     },
     "execution_count": 28,
     "metadata": {},
     "output_type": "execute_result"
    }
   ],
   "source": [
    "# Check for missings AGAIN\n",
    "df_train.isnull().sum().sum()"
   ]
  },
  {
   "cell_type": "markdown",
   "metadata": {},
   "source": [
    "## Preparing the Test Set\n",
    "\n",
    "We have replaced missing values and dropped some columns in our train data. We need to prepare our test data the same way to be able to make proper predictions. To fill in the missing values we will use the median we calculated on the training set and stored in `values_dict`."
   ]
  },
  {
   "cell_type": "code",
   "execution_count": null,
   "metadata": {},
   "outputs": [
    {
     "data": {
      "text/html": [
       "<div>\n",
       "<style scoped>\n",
       "    .dataframe tbody tr th:only-of-type {\n",
       "        vertical-align: middle;\n",
       "    }\n",
       "\n",
       "    .dataframe tbody tr th {\n",
       "        vertical-align: top;\n",
       "    }\n",
       "\n",
       "    .dataframe thead th {\n",
       "        text-align: right;\n",
       "    }\n",
       "</style>\n",
       "<table border=\"1\" class=\"dataframe\">\n",
       "  <thead>\n",
       "    <tr style=\"text-align: right;\">\n",
       "      <th></th>\n",
       "      <th>Pregnancies</th>\n",
       "      <th>Glucose</th>\n",
       "      <th>BloodPressure</th>\n",
       "      <th>SkinThickness</th>\n",
       "      <th>Insulin</th>\n",
       "      <th>BMI</th>\n",
       "      <th>DiabetesPedigreeFunction</th>\n",
       "      <th>Age</th>\n",
       "      <th>Outcome</th>\n",
       "    </tr>\n",
       "  </thead>\n",
       "  <tbody>\n",
       "    <tr>\n",
       "      <th>373</th>\n",
       "      <td>2</td>\n",
       "      <td>105</td>\n",
       "      <td>58</td>\n",
       "      <td>40</td>\n",
       "      <td>94</td>\n",
       "      <td>34.9</td>\n",
       "      <td>0.225</td>\n",
       "      <td>25</td>\n",
       "      <td>0</td>\n",
       "    </tr>\n",
       "    <tr>\n",
       "      <th>164</th>\n",
       "      <td>0</td>\n",
       "      <td>131</td>\n",
       "      <td>88</td>\n",
       "      <td>0</td>\n",
       "      <td>0</td>\n",
       "      <td>31.6</td>\n",
       "      <td>0.743</td>\n",
       "      <td>32</td>\n",
       "      <td>1</td>\n",
       "    </tr>\n",
       "  </tbody>\n",
       "</table>\n",
       "</div>"
      ],
      "text/plain": [
       "     Pregnancies  Glucose  BloodPressure  SkinThickness  Insulin   BMI  \\\n",
       "373            2      105             58             40       94  34.9   \n",
       "164            0      131             88              0        0  31.6   \n",
       "\n",
       "     DiabetesPedigreeFunction  Age  Outcome  \n",
       "373                     0.225   25        0  \n",
       "164                     0.743   32        1  "
      ]
     },
     "execution_count": 29,
     "metadata": {},
     "output_type": "execute_result"
    }
   ],
   "source": [
    "df_test.head(2)"
   ]
  },
  {
   "cell_type": "code",
   "execution_count": null,
   "metadata": {},
   "outputs": [
    {
     "data": {
      "text/plain": [
       "Pregnancies                   0\n",
       "Glucose                       2\n",
       "BloodPressure                14\n",
       "SkinThickness                76\n",
       "Insulin                     125\n",
       "BMI                           3\n",
       "DiabetesPedigreeFunction      0\n",
       "Age                           0\n",
       "Outcome                       0\n",
       "dtype: int64"
      ]
     },
     "execution_count": 30,
     "metadata": {},
     "output_type": "execute_result"
    }
   ],
   "source": [
    "# Convert zeros to nan values\n",
    "for col in columns_with_zeros:\n",
    "    df_test = replace_zeros(df_test, col)\n",
    "\n",
    "df_test.isnull().sum()"
   ]
  },
  {
   "cell_type": "code",
   "execution_count": null,
   "metadata": {},
   "outputs": [
    {
     "data": {
      "text/plain": [
       "Pregnancies                   0\n",
       "Glucose                       0\n",
       "BloodPressure                 0\n",
       "SkinThickness                76\n",
       "Insulin                     125\n",
       "BMI                           0\n",
       "DiabetesPedigreeFunction      0\n",
       "Age                           0\n",
       "Outcome                       0\n",
       "dtype: int64"
      ]
     },
     "execution_count": 31,
     "metadata": {},
     "output_type": "execute_result"
    }
   ],
   "source": [
    "# Replace missing values in test set with median from train set\n",
    "for col in plot_col:\n",
    "    df_test[col] = df_test[col].fillna(values_dict[col])\n",
    "    \n",
    "df_test.isnull().sum()"
   ]
  },
  {
   "cell_type": "code",
   "execution_count": null,
   "metadata": {},
   "outputs": [
    {
     "data": {
      "text/html": [
       "<div>\n",
       "<style scoped>\n",
       "    .dataframe tbody tr th:only-of-type {\n",
       "        vertical-align: middle;\n",
       "    }\n",
       "\n",
       "    .dataframe tbody tr th {\n",
       "        vertical-align: top;\n",
       "    }\n",
       "\n",
       "    .dataframe thead th {\n",
       "        text-align: right;\n",
       "    }\n",
       "</style>\n",
       "<table border=\"1\" class=\"dataframe\">\n",
       "  <thead>\n",
       "    <tr style=\"text-align: right;\">\n",
       "      <th></th>\n",
       "      <th>Pregnancies</th>\n",
       "      <th>Glucose</th>\n",
       "      <th>BloodPressure</th>\n",
       "      <th>BMI</th>\n",
       "      <th>DiabetesPedigreeFunction</th>\n",
       "      <th>Age</th>\n",
       "      <th>Outcome</th>\n",
       "    </tr>\n",
       "  </thead>\n",
       "  <tbody>\n",
       "    <tr>\n",
       "      <th>373</th>\n",
       "      <td>2</td>\n",
       "      <td>105.0</td>\n",
       "      <td>58.0</td>\n",
       "      <td>34.9</td>\n",
       "      <td>0.225</td>\n",
       "      <td>25</td>\n",
       "      <td>0</td>\n",
       "    </tr>\n",
       "    <tr>\n",
       "      <th>164</th>\n",
       "      <td>0</td>\n",
       "      <td>131.0</td>\n",
       "      <td>88.0</td>\n",
       "      <td>31.6</td>\n",
       "      <td>0.743</td>\n",
       "      <td>32</td>\n",
       "      <td>1</td>\n",
       "    </tr>\n",
       "  </tbody>\n",
       "</table>\n",
       "</div>"
      ],
      "text/plain": [
       "     Pregnancies  Glucose  BloodPressure   BMI  DiabetesPedigreeFunction  Age  \\\n",
       "373            2    105.0           58.0  34.9                     0.225   25   \n",
       "164            0    131.0           88.0  31.6                     0.743   32   \n",
       "\n",
       "     Outcome  \n",
       "373        0  \n",
       "164        1  "
      ]
     },
     "execution_count": 32,
     "metadata": {},
     "output_type": "execute_result"
    }
   ],
   "source": [
    "# Drop columns\n",
    "df_test = df_test.drop(['Insulin', 'SkinThickness'], axis=1)\n",
    "df_test.head(2)"
   ]
  },
  {
   "cell_type": "code",
   "execution_count": null,
   "metadata": {},
   "outputs": [
    {
     "data": {
      "text/plain": [
       "0"
      ]
     },
     "execution_count": 33,
     "metadata": {},
     "output_type": "execute_result"
    }
   ],
   "source": [
    "# Check for missings AGAIN\n",
    "df_test.isnull().sum().sum()"
   ]
  },
  {
   "cell_type": "markdown",
   "metadata": {},
   "source": [
    "## Scaling the Data\n",
    "\n",
    "Before we can scale the data we need to remove our target column."
   ]
  },
  {
   "cell_type": "code",
   "execution_count": null,
   "metadata": {},
   "outputs": [
    {
     "name": "stdout",
     "output_type": "stream",
     "text": [
      "(509, 6)\n"
     ]
    }
   ],
   "source": [
    "# Split into features and target \n",
    "X_train = df_train.drop(\"Outcome\", axis=1)\n",
    "y_train = df_train.Outcome\n",
    "print(X_train.shape)"
   ]
  },
  {
   "cell_type": "code",
   "execution_count": null,
   "metadata": {},
   "outputs": [
    {
     "name": "stdout",
     "output_type": "stream",
     "text": [
      "(254, 6)\n"
     ]
    }
   ],
   "source": [
    "# Split test set into features and target\n",
    "X_test = df_test.drop(\"Outcome\", axis=1)\n",
    "y_test = df_test.Outcome\n",
    "print(X_test.shape)"
   ]
  },
  {
   "cell_type": "code",
   "execution_count": null,
   "metadata": {},
   "outputs": [],
   "source": [
    "# Standardizing the data\n",
    "scaler = MinMaxScaler()\n",
    "X_train_scaled = scaler.fit_transform(X_train)\n",
    "X_test_scaled = scaler.transform(X_test)"
   ]
  },
  {
   "cell_type": "markdown",
   "metadata": {
    "tags": []
   },
   "source": [
    "## Target"
   ]
  },
  {
   "cell_type": "markdown",
   "metadata": {
    "id": "O5NCIVat7Pfl"
   },
   "source": [
    "As we have a binary outcome it is always good practice to analyze how balanced the output classes are. "
   ]
  },
  {
   "cell_type": "code",
   "execution_count": null,
   "metadata": {},
   "outputs": [
    {
     "data": {
      "image/png": "[encoded data removed]",
      "text/plain": [
       "<Figure size 432x288 with 1 Axes>"
      ]
     },
     "metadata": {
      "needs_background": "light"
     },
     "output_type": "display_data"
    }
   ],
   "source": [
    "# Visual representation of target variable\n",
    "sns.countplot(x=df_train.Outcome).set_title(\"Representation of target variable\");"
   ]
  },
  {
   "cell_type": "markdown",
   "metadata": {
    "id": "bEawG-ck8SsW"
   },
   "source": [
    "We see the classes can not be considered as balanced and therefore it might help to apply a suitable balancing method. In this case we will use the `RandomOverSampler()` from the `imblearn` package. "
   ]
  },
  {
   "cell_type": "code",
   "execution_count": null,
   "metadata": {},
   "outputs": [],
   "source": [
    "# Oversample training data\n",
    "ros = RandomOverSampler(random_state=42)\n",
    "X_train_scaled_ros, y_train_ros = ros.fit_resample(X_train_scaled, y_train)"
   ]
  },
  {
   "cell_type": "code",
   "execution_count": null,
   "metadata": {},
   "outputs": [
    {
     "data": {
      "image/png": "[encoded data removed]",
      "text/plain": [
       "<Figure size 432x288 with 1 Axes>"
      ]
     },
     "metadata": {
      "needs_background": "light"
     },
     "output_type": "display_data"
    }
   ],
   "source": [
    "# Visual representation of resampled target variable\n",
    "sns.countplot(x=y_train_ros).set_title(\"Representation of resampled target variable\");"
   ]
  },
  {
   "cell_type": "markdown",
   "metadata": {
    "id": "e8v3CczEBCh_"
   },
   "source": [
    "## Model building and testing\n",
    "\n",
    "Before we start modelling we should think about which **metric** is most appropriate for our case. As we are considering diabetes test results we want to identify all patients that indeed have this disease to avoid any (further) damage or complications.\n",
    "\n",
    "**Therefore, we go for recall (remember, $\\text{Recall}=\\frac{TP}{TP + FN}$) on the one hand.**\n",
    "\n",
    "Since we don't want to ignore the precision completely, we can find a compromise by having another look on the **fbeta score with a higher weight for recall.**"
   ]
  },
  {
   "cell_type": "code",
   "execution_count": null,
   "metadata": {},
   "outputs": [],
   "source": [
    "# Define fbeta score with higher weighted recall\n",
    "ftwo_scorer = make_scorer(fbeta_score, beta=2)\n",
    "\n",
    "# Define dictionary with several interesting metrics\n",
    "scorer_dict = {\"ftwo_scorer\": make_scorer(fbeta_score, beta=2), \"accuracy\": \"accuracy\", \"precision\": \"precision\", \"recall\": \"recall\"}"
   ]
  },
  {
   "cell_type": "markdown",
   "metadata": {},
   "source": [
    "### Baseline Model\n",
    "\n",
    "Before we start training our first model, we should define a proper baseline model. This baseline model represents a educated guess and acts as a benchmark for any further models to beat. From the exploration of our data we can see that the glucose value is a good indicator if someone has diabetes or not. We will choose a value of 130 as the cutoff. For our baseline model we will predict that everyone with a glucose value higher than 130 suffers from diabetes. "
   ]
  },
  {
   "cell_type": "code",
   "execution_count": null,
   "metadata": {},
   "outputs": [
    {
     "data": {
      "image/png": "[encoded data removed]",
      "text/plain": [
       "<Figure size 432x288 with 1 Axes>"
      ]
     },
     "metadata": {
      "needs_background": "light"
     },
     "output_type": "display_data"
    }
   ],
   "source": [
    "# Glucose value for both outcomes\n",
    "sns.boxplot(x=df_train.Outcome, y=df_train.Glucose);"
   ]
  },
  {
   "cell_type": "code",
   "execution_count": null,
   "metadata": {},
   "outputs": [],
   "source": [
    "# Defining baseline model\n",
    "def baseline_model(df):\n",
    "    y_pred = [1 if x > 130 else 0 for x in df.Glucose]\n",
    "    return y_pred"
   ]
  },
  {
   "cell_type": "code",
   "execution_count": null,
   "metadata": {},
   "outputs": [],
   "source": [
    "# Make predictions \n",
    "y_pred = baseline_model(X_test)"
   ]
  },
  {
   "cell_type": "code",
   "execution_count": null,
   "metadata": {},
   "outputs": [
    {
     "data": {
      "image/png": "[encoded data removed]",
      "text/plain": [
       "<Figure size 432x288 with 2 Axes>"
      ]
     },
     "metadata": {
      "needs_background": "light"
     },
     "output_type": "display_data"
    }
   ],
   "source": [
    "cm = confusion_matrix(y_test, y_pred)\n",
    "sns.heatmap(cm, cmap=\"YlGnBu_r\", annot=True, fmt=\".0f\");"
   ]
  },
  {
   "cell_type": "code",
   "execution_count": null,
   "metadata": {},
   "outputs": [
    {
     "name": "stdout",
     "output_type": "stream",
     "text": [
      "Fbeta score with higher weighted recall:  0.586\n"
     ]
    }
   ],
   "source": [
    "print(\"Fbeta score with higher weighted recall: \", fbeta_score(df_test.Outcome, y_pred, beta=2).round(3))"
   ]
  },
  {
   "cell_type": "code",
   "execution_count": null,
   "metadata": {},
   "outputs": [
    {
     "name": "stdout",
     "output_type": "stream",
     "text": [
      "              precision    recall  f1-score   support\n",
      "\n",
      "           0       0.78      0.78      0.78       165\n",
      "           1       0.59      0.58      0.59        89\n",
      "\n",
      "    accuracy                           0.71       254\n",
      "   macro avg       0.68      0.68      0.68       254\n",
      "weighted avg       0.71      0.71      0.71       254\n",
      "\n"
     ]
    }
   ],
   "source": [
    "print(classification_report(df_test.Outcome, y_pred))"
   ]
  },
  {
   "cell_type": "markdown",
   "metadata": {},
   "source": [
    "Our baseline model reaches a accuracy of 71% and what is even more important a **recall of 58%**. That is the value we have to beat with our more sophisticated models."
   ]
  },
  {
   "cell_type": "markdown",
   "metadata": {},
   "source": [
    "### Predictive Modeling\n",
    "\n",
    "After we got our benchmark via the baseline model, we can now test different model types to figure out which ones can handle our data. We will pick the two most promising ones for further fine tuning of the hyperparameters. "
   ]
  },
  {
   "cell_type": "code",
   "execution_count": null,
   "metadata": {},
   "outputs": [],
   "source": [
    "def model_evaluation(clf, scoring, X_train, y_train):\n",
    "    \n",
    "    results = {}\n",
    "    scores = cross_validate(clf, X_train, y_train, scoring=scoring, cv=5, n_jobs=-1)\n",
    "    results = {key: [value.mean().round(4), value.std().round(4)] for key, value in scores.items()}\n",
    "    \n",
    "    del results['fit_time']\n",
    "    del results['score_time']\n",
    "    \n",
    "    return results"
   ]
  },
  {
   "cell_type": "code",
   "execution_count": null,
   "metadata": {},
   "outputs": [
    {
     "name": "stdout",
     "output_type": "stream",
     "text": [
      "LogisticRegression()\n",
      "Accuracy  (mean, std): [0.7478, 0.0361]\n",
      "Recall    (mean, std): [0.7127, 0.0593]\n",
      "Precision (mean, std): [0.7675, 0.0424]\n",
      "Fbeta     (mean, std): [0.7222, 0.0508]\n",
      "----------------------------------------\n",
      "KNeighborsClassifier()\n",
      "Accuracy  (mean, std): [0.7886, 0.0385]\n",
      "Recall    (mean, std): [0.8339, 0.0476]\n",
      "Precision (mean, std): [0.7663, 0.043]\n",
      "Fbeta     (mean, std): [0.8188, 0.0404]\n",
      "----------------------------------------\n",
      "SVC()\n",
      "Accuracy  (mean, std): [0.7751, 0.0536]\n",
      "Recall    (mean, std): [0.7914, 0.0395]\n",
      "Precision (mean, std): [0.7698, 0.0647]\n",
      "Fbeta     (mean, std): [0.7864, 0.0408]\n",
      "----------------------------------------\n",
      "DecisionTreeClassifier(random_state=42)\n",
      "Accuracy  (mean, std): [0.8068, 0.0577]\n",
      "Recall    (mean, std): [0.8613, 0.1169]\n",
      "Precision (mean, std): [0.7768, 0.0372]\n",
      "Fbeta     (mean, std): [0.8407, 0.0929]\n",
      "----------------------------------------\n"
     ]
    }
   ],
   "source": [
    "# Test different types of models\n",
    "list_of_clf = [LogisticRegression(), KNeighborsClassifier(), SVC(), DecisionTreeClassifier(random_state=42)]\n",
    "\n",
    "for clf in list_of_clf:\n",
    "    #results = model_evaluation(clf, ['accuracy', 'recall', 'precision', scorer_dict['ftwo_scorer']], X_train_scaled, y_train)\n",
    "    results = model_evaluation(clf, scorer_dict, X_train_scaled_ros, y_train_ros)\n",
    "    print(clf)\n",
    "    print(\"Accuracy  (mean, std):\", results[\"test_accuracy\"])\n",
    "    print(\"Recall    (mean, std):\", results[\"test_recall\"])\n",
    "    print(\"Precision (mean, std):\", results[\"test_precision\"])\n",
    "    print(\"Fbeta     (mean, std):\", results[\"test_ftwo_scorer\"])\n",
    "    print(\"----\"*10)"
   ]
  },
  {
   "cell_type": "markdown",
   "metadata": {},
   "source": [
    "If we compare the metrics of the trained models above, we can see that the decision tree performs rather good, followed by KNN."
   ]
  },
  {
   "cell_type": "markdown",
   "metadata": {},
   "source": [
    "#### Hyperparameter Tuning of Decision Tree"
   ]
  },
  {
   "cell_type": "code",
   "execution_count": null,
   "metadata": {},
   "outputs": [
    {
     "name": "stdout",
     "output_type": "stream",
     "text": [
      "Fitting 5 folds for each of 130 candidates, totalling 650 fits\n"
     ]
    },
    {
     "data": {
      "text/plain": [
       "GridSearchCV(cv=5, estimator=DecisionTreeClassifier(random_state=42), n_jobs=-1,\n",
       "             param_grid={'criterion': ['gini', 'entropy'],\n",
       "                         'max_depth': array([ 5, 10, 15, 20, 25, 30, 35, 40, 45, 50, 55, 60, 65]),\n",
       "                         'min_samples_split': array([ 5, 10, 15, 20, 25])},\n",
       "             scoring=make_scorer(fbeta_score, beta=2), verbose=1)"
      ]
     },
     "execution_count": 49,
     "metadata": {},
     "output_type": "execute_result"
    }
   ],
   "source": [
    "# Define param grid\n",
    "param_grid = {'criterion':  ['gini', 'entropy'],\n",
    "              'max_depth': np.arange(5,70,5),\n",
    "              'min_samples_split': np.arange(5,30, 5)}\n",
    "\n",
    "# Passing model, parametergrid and 5-fold cross validation to GridSearchCV\n",
    "dec_tree_gs = GridSearchCV(DecisionTreeClassifier(random_state=42), param_grid, cv=5, verbose=1, n_jobs=-1, scoring=ftwo_scorer)\n",
    "\n",
    "# Fitting GridSearchCV will output all parameters passed\n",
    "dec_tree_gs.fit(X_train_scaled_ros, y_train_ros)"
   ]
  },
  {
   "cell_type": "code",
   "execution_count": null,
   "metadata": {},
   "outputs": [
    {
     "name": "stdout",
     "output_type": "stream",
     "text": [
      "                Best score: 0.8352\n",
      "Best parameter combination: {'criterion': 'entropy', 'max_depth': 15, 'min_samples_split': 5}\n"
     ]
    }
   ],
   "source": [
    "# Returning best score (recall) after GridSearch and parameter combination\n",
    "print(\"                Best score:\", dec_tree_gs.best_score_.round(4))\n",
    "print(\"Best parameter combination:\", dec_tree_gs.best_params_)\n",
    "dec_tree_best = dec_tree_gs.best_estimator_"
   ]
  },
  {
   "cell_type": "markdown",
   "metadata": {},
   "source": [
    "#### Hyperparameter Tuning of KNN"
   ]
  },
  {
   "cell_type": "code",
   "execution_count": null,
   "metadata": {
    "colab": {
     "base_uri": "https://localhost:8080/",
     "height": 221
    },
    "id": "ggCgXxyf4Pl6",
    "outputId": "58bfedd9-a56f-4887-bcf5-19a1a62c01a8"
   },
   "outputs": [
    {
     "name": "stdout",
     "output_type": "stream",
     "text": [
      "Fitting 5 folds for each of 96 candidates, totalling 480 fits\n"
     ]
    },
    {
     "data": {
      "text/plain": [
       "GridSearchCV(cv=5, estimator=KNeighborsClassifier(), n_jobs=-1,\n",
       "             param_grid={'n_neighbors': array([ 2,  3,  4,  5,  6,  7,  8,  9, 10, 11, 12, 13, 14, 15, 16, 17, 18,\n",
       "       19, 20, 21, 22, 23, 24, 25, 26, 27, 28, 29, 30, 31, 32, 33, 34, 35,\n",
       "       36, 37, 38, 39, 40, 41, 42, 43, 44, 45, 46, 47, 48, 49]),\n",
       "                         'p': [1, 2]},\n",
       "             scoring=make_scorer(fbeta_score, beta=2), verbose=1)"
      ]
     },
     "execution_count": 51,
     "metadata": {},
     "output_type": "execute_result"
    }
   ],
   "source": [
    "# In case of knn the parameters to be tuned are n_neighbors and the distance metric p\n",
    "param_grid = {'n_neighbors': np.arange(2,50),\n",
    "             'p': [1, 2]}\n",
    "\n",
    "# Passing model, parametergrid and 5-fold cross validation to GridSearchCV\n",
    "knn_gs = GridSearchCV(KNeighborsClassifier(), param_grid, cv=5, verbose=1, n_jobs=-1, scoring=ftwo_scorer)\n",
    "\n",
    "# Fitting GridSearchCV \n",
    "knn_gs.fit(X_train_scaled_ros, y_train_ros)"
   ]
  },
  {
   "cell_type": "code",
   "execution_count": null,
   "metadata": {
    "colab": {
     "base_uri": "https://localhost:8080/",
     "height": 34
    },
    "id": "h8n4zs3D4jsU",
    "outputId": "4b905867-faa1-4191-9fc4-378a18bb9a3e"
   },
   "outputs": [
    {
     "name": "stdout",
     "output_type": "stream",
     "text": [
      "                Best score: 0.8205\n",
      "Best parameter combination: {'n_neighbors': 7, 'p': 1}\n"
     ]
    }
   ],
   "source": [
    "# Returning best score (recall) after GridSearch and parameter combination\n",
    "print(\"                Best score:\", knn_gs.best_score_.round(4))\n",
    "print(\"Best parameter combination:\", knn_gs.best_params_)\n",
    "knn_best = knn_gs.best_estimator_"
   ]
  },
  {
   "cell_type": "markdown",
   "metadata": {},
   "source": [
    "### Model Evaluation\n",
    "\n",
    "#### Decison Tree\n",
    "\n",
    "Decision trees tend to overfit the data and this can be clearly seen here! We have nearly perfect scores on our train data, but on the test data the performance is remarkably worse. One option would be to further regularize the model, or we can try to combat overfitting by using an ensemble model which is based on decision trees (e.g. Random Forest)."
   ]
  },
  {
   "cell_type": "code",
   "execution_count": null,
   "metadata": {},
   "outputs": [
    {
     "name": "stdout",
     "output_type": "stream",
     "text": [
      "Decision Tree on train data\n",
      "============================================================\n",
      "fbeta score: 0.9818\n",
      "------------------------------------------------------------\n",
      "              precision    recall  f1-score   support\n",
      "\n",
      "           0       0.98      0.99      0.99       331\n",
      "           1       0.99      0.98      0.99       331\n",
      "\n",
      "    accuracy                           0.99       662\n",
      "   macro avg       0.99      0.99      0.99       662\n",
      "weighted avg       0.99      0.99      0.99       662\n",
      "\n",
      "------------------------------------------------------------\n"
     ]
    },
    {
     "data": {
      "image/png": "[encoded data removed]",
      "text/plain": [
       "<Figure size 432x288 with 2 Axes>"
      ]
     },
     "metadata": {
      "needs_background": "light"
     },
     "output_type": "display_data"
    }
   ],
   "source": [
    "# Plot confusion matrix and classification report for best knn model\n",
    "y_train_pred_dt = dec_tree_best.predict(X_train_scaled_ros)\n",
    "\n",
    "print(\"Decision Tree on train data\")\n",
    "print(\"===\"*20)\n",
    "print(\"fbeta score:\", fbeta_score(y_train_ros, y_train_pred_dt, beta=2).round(4))\n",
    "print(\"---\"*20)\n",
    "print(classification_report(y_train_ros, y_train_pred_dt))\n",
    "print(\"---\"*20)\n",
    "\n",
    "cm = confusion_matrix(y_train_ros, y_train_pred_dt)\n",
    "sns.heatmap(cm, cmap=\"YlGnBu_r\", annot=True, fmt=\".0f\");"
   ]
  },
  {
   "cell_type": "code",
   "execution_count": null,
   "metadata": {},
   "outputs": [
    {
     "name": "stdout",
     "output_type": "stream",
     "text": [
      "Decision Tree on test data\n",
      "============================================================\n",
      "fbeta score: 0.5928\n",
      "------------------------------------------------------------\n",
      "              precision    recall  f1-score   support\n",
      "\n",
      "           0       0.78      0.77      0.77       165\n",
      "           1       0.58      0.60      0.59        89\n",
      "\n",
      "    accuracy                           0.71       254\n",
      "   macro avg       0.68      0.68      0.68       254\n",
      "weighted avg       0.71      0.71      0.71       254\n",
      "\n",
      "------------------------------------------------------------\n"
     ]
    },
    {
     "data": {
      "image/png": "[encoded data removed]",
      "text/plain": [
       "<Figure size 432x288 with 2 Axes>"
      ]
     },
     "metadata": {
      "needs_background": "light"
     },
     "output_type": "display_data"
    }
   ],
   "source": [
    "# Plot confusion matrix and classification report for best knn model\n",
    "y_test_pred_dt = dec_tree_best.predict(X_test_scaled)\n",
    "\n",
    "print(\"Decision Tree on test data\")\n",
    "print(\"===\"*20)\n",
    "print(\"fbeta score:\", fbeta_score(y_test, y_test_pred_dt, beta=2).round(4))\n",
    "print(\"---\"*20)\n",
    "print(classification_report(y_test, y_test_pred_dt))\n",
    "print(\"---\"*20)\n",
    "\n",
    "cm = confusion_matrix(y_test, y_test_pred_dt)\n",
    "sns.heatmap(cm, cmap=\"YlGnBu_r\", annot=True, fmt=\".0f\");"
   ]
  },
  {
   "cell_type": "markdown",
   "metadata": {
    "tags": []
   },
   "source": [
    "#### Model Evaluation\n",
    "\n",
    "##### KNN\n",
    "\n",
    "Our KNN model is also slightly overfitting. That is one of the issues one might encounter when balancing the data with oversampling. But it is still performing better on the test set than the decision tree and it is also beating the benchmark from our baseline model!"
   ]
  },
  {
   "cell_type": "code",
   "execution_count": null,
   "metadata": {},
   "outputs": [
    {
     "name": "stdout",
     "output_type": "stream",
     "text": [
      "KNN on train data\n",
      "============================================================\n",
      "fbeta score: 0.8498\n",
      "------------------------------------------------------------\n",
      "              precision    recall  f1-score   support\n",
      "\n",
      "           0       0.85      0.81      0.83       331\n",
      "           1       0.82      0.86      0.84       331\n",
      "\n",
      "    accuracy                           0.83       662\n",
      "   macro avg       0.83      0.83      0.83       662\n",
      "weighted avg       0.83      0.83      0.83       662\n",
      "\n",
      "------------------------------------------------------------\n"
     ]
    },
    {
     "data": {
      "image/png": "[encoded data removed]",
      "text/plain": [
       "<Figure size 432x288 with 2 Axes>"
      ]
     },
     "metadata": {
      "needs_background": "light"
     },
     "output_type": "display_data"
    }
   ],
   "source": [
    "# Plot confusion matrix and classification report for best knn model\n",
    "y_train_pred_knn = knn_best.predict(X_train_scaled_ros)\n",
    "\n",
    "print(\"KNN on train data\")\n",
    "print(\"===\"*20)\n",
    "print(\"fbeta score:\", fbeta_score(y_train_ros, y_train_pred_knn, beta=2).round(4))\n",
    "print(\"---\"*20)\n",
    "print(classification_report(y_train_ros, y_train_pred_knn))\n",
    "print(\"---\"*20)\n",
    "\n",
    "cm = confusion_matrix(y_train_ros, y_train_pred_knn)\n",
    "sns.heatmap(cm, cmap=\"YlGnBu_r\", annot=True, fmt=\".0f\");"
   ]
  },
  {
   "cell_type": "code",
   "execution_count": null,
   "metadata": {},
   "outputs": [
    {
     "name": "stdout",
     "output_type": "stream",
     "text": [
      "KNN on test data\n",
      "============================================================\n",
      "fbeta score: 0.6848\n",
      "------------------------------------------------------------\n",
      "              precision    recall  f1-score   support\n",
      "\n",
      "           0       0.83      0.75      0.79       165\n",
      "           1       0.61      0.71      0.65        89\n",
      "\n",
      "    accuracy                           0.74       254\n",
      "   macro avg       0.72      0.73      0.72       254\n",
      "weighted avg       0.75      0.74      0.74       254\n",
      "\n",
      "------------------------------------------------------------\n"
     ]
    },
    {
     "data": {
      "image/png": "[encoded data removed]",
      "text/plain": [
       "<Figure size 432x288 with 2 Axes>"
      ]
     },
     "metadata": {
      "needs_background": "light"
     },
     "output_type": "display_data"
    }
   ],
   "source": [
    "# Plot confusion matrix and classification report for best knn model\n",
    "y_test_pred_knn = knn_best.predict(X_test_scaled)\n",
    "\n",
    "print(\"KNN on test data\")\n",
    "print(\"===\"*20)\n",
    "print(\"fbeta score:\", fbeta_score(y_test, y_test_pred_knn, beta=2).round(4))\n",
    "print(\"---\"*20)\n",
    "print(classification_report(y_test, y_test_pred_knn))\n",
    "print(\"---\"*20)\n",
    "\n",
    "cm = confusion_matrix(y_test, y_test_pred_knn)\n",
    "sns.heatmap(cm, cmap=\"YlGnBu_r\", annot=True, fmt=\".0f\");"
   ]
  },
  {
   "cell_type": "markdown",
   "metadata": {},
   "source": [
    "### Error analysis\n",
    "\n",
    "Let's see where our KNN model has problems differentiating between the classes."
   ]
  },
  {
   "cell_type": "code",
   "execution_count": null,
   "metadata": {},
   "outputs": [
    {
     "data": {
      "text/html": [
       "<div>\n",
       "<style scoped>\n",
       "    .dataframe tbody tr th:only-of-type {\n",
       "        vertical-align: middle;\n",
       "    }\n",
       "\n",
       "    .dataframe tbody tr th {\n",
       "        vertical-align: top;\n",
       "    }\n",
       "\n",
       "    .dataframe thead th {\n",
       "        text-align: right;\n",
       "    }\n",
       "</style>\n",
       "<table border=\"1\" class=\"dataframe\">\n",
       "  <thead>\n",
       "    <tr style=\"text-align: right;\">\n",
       "      <th></th>\n",
       "      <th>Pregnancies</th>\n",
       "      <th>Glucose</th>\n",
       "      <th>BloodPressure</th>\n",
       "      <th>BMI</th>\n",
       "      <th>DiabetesPedigreeFunction</th>\n",
       "      <th>Age</th>\n",
       "      <th>Outcome</th>\n",
       "      <th>correct</th>\n",
       "    </tr>\n",
       "  </thead>\n",
       "  <tbody>\n",
       "    <tr>\n",
       "      <th>373</th>\n",
       "      <td>2</td>\n",
       "      <td>105.0</td>\n",
       "      <td>58.0</td>\n",
       "      <td>34.9</td>\n",
       "      <td>0.225</td>\n",
       "      <td>25</td>\n",
       "      <td>0</td>\n",
       "      <td>TN</td>\n",
       "    </tr>\n",
       "    <tr>\n",
       "      <th>164</th>\n",
       "      <td>0</td>\n",
       "      <td>131.0</td>\n",
       "      <td>88.0</td>\n",
       "      <td>31.6</td>\n",
       "      <td>0.743</td>\n",
       "      <td>32</td>\n",
       "      <td>1</td>\n",
       "      <td>FN</td>\n",
       "    </tr>\n",
       "  </tbody>\n",
       "</table>\n",
       "</div>"
      ],
      "text/plain": [
       "     Pregnancies  Glucose  BloodPressure   BMI  DiabetesPedigreeFunction  Age  \\\n",
       "373            2    105.0           58.0  34.9                     0.225   25   \n",
       "164            0    131.0           88.0  31.6                     0.743   32   \n",
       "\n",
       "     Outcome correct  \n",
       "373        0      TN  \n",
       "164        1      FN  "
      ]
     },
     "execution_count": 57,
     "metadata": {},
     "output_type": "execute_result"
    }
   ],
   "source": [
    "correct = []\n",
    "for pred, true in zip(y_test_pred_knn, y_test):\n",
    "    if pred == true and pred==1:\n",
    "        correct.append(\"TP\")\n",
    "    if pred == true and pred==0:\n",
    "        correct.append(\"TN\")\n",
    "    if pred != true and pred==1:\n",
    "        correct.append(\"FP\")\n",
    "    if pred != true and pred==0:\n",
    "        correct.append(\"FN\")\n",
    "\n",
    "df_test[\"correct\"] = correct\n",
    "df_test.head(2)"
   ]
  },
  {
   "cell_type": "code",
   "execution_count": null,
   "metadata": {},
   "outputs": [
    {
     "data": {
      "image/png": "[encoded data removed]",
      "text/plain": [
       "<Figure size 936x576 with 1 Axes>"
      ]
     },
     "metadata": {
      "needs_background": "light"
     },
     "output_type": "display_data"
    }
   ],
   "source": [
    "# Create exemplary scatterplot for two features\n",
    "plt.subplots(figsize=(13,8))\n",
    "sns.scatterplot(data=df_test, x=\"Glucose\", y=\"BMI\", hue=\"correct\", style=\"Outcome\");"
   ]
  },
  {
   "cell_type": "markdown",
   "metadata": {},
   "source": [
    "From a plot like the one above we can try to draw some conclusions:\n",
    "- people with too high glucose concentration in blood will generally be predicted as diabetes patients (even if they are not (FP))\n",
    "- people with relatively low BMIs and Glucose levels will usually be predicted as healthy\n",
    "\n",
    "Of course the outcome depends on more than those features. We could also have a closer look at other feature combinations to see if we can find patterns."
   ]
  },
  {
   "cell_type": "code",
   "execution_count": null,
   "metadata": {},
   "outputs": [],
   "source": []
  }
 ],
 "metadata": {
  "colab": {
   "collapsed_sections": [],
   "name": "DIabetes.ipynb",
   "provenance": []
  },
  "kernelspec": {
   "display_name": ".venv",
   "language": "python",
   "name": "python3"
  },
  "language_info": {
   "codemirror_mode": {
    "name": "ipython",
    "version": 3
   },
   "file_extension": ".py",
   "mimetype": "text/x-python",
   "name": "python",
   "nbconvert_exporter": "python",
   "pygments_lexer": "ipython3",
   "version": "3.9.8"
  },
  "vscode": {
   "interpreter": {
    "hash": "10880418c5f1f1409183ea703b4a2c6f8098c3cc89fe8731f523295394057f0e"
   }
  }
 },
 "nbformat": 4,
 "nbformat_minor": 4
}
