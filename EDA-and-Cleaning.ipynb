{
 "cells": [
  {
   "cell_type": "markdown",
   "metadata": {},
   "source": [
    "# <span style=\"color:green\">__Data Science Bootcamp__\n",
    "\n",
    "## <span style=\"color:black\">__Project__: Machine Learning Project\n",
    "\n",
    "---\n",
    "### <span style=\"color:navy\">__Context__\n",
    "\n",
    "<span style=\"color:dark_grey\">\n",
    "\n",
    "## Kickstarter Project Success\n",
    "\n",
    "Analyse and model success factors of kickstarter campaigns. Give new projects an idea what is needed for a successful funding and potentially even predict campaign success upfront.\n",
    "In recent years, the range of funding options for projects created by individuals and small companies has expanded considerably. In addition to savings, bank loans, friends & family funding and other traditional options, crowdfunding has become a popular and readily available alternative.\n",
    "\n",
    "Kickstarter, founded in 2009, is one particularly well-known and popular crowdfunding platform. It has an all-or-nothing funding model, whereby a project is only funded if it meets its goal amount; otherwise no money is given by backers to a project.\n",
    "A huge variety of factors contribute to the success or failure of a project — in general, and also on Kickstarter. Some of these are able to be quantified or categorized, which allows for the construction of a model to attempt to predict whether a project will succeed or not. The aim of this project is to construct such a model and also to analyse Kickstarter project data more generally, in order to help potential project creators assess whether or not Kickstarter is a good funding option for them, and what their chances of success are.\n",
    "\n",
    "**Source:** Kickstarter Project Success Data, containing information about their campaigns.\n",
    "\n",
    "**Final Deliverables:**\n",
    "1. Slide deck PDF pushed to GitHub designed for non-technical stakeholders that outline findings, recommendations, and future work (10 min presentation).\n",
    "2. Jupyter notebook following PEP8 designed for data science/technical audience.\n",
    "3. (Recommended) Python script for generating (takes .csv as argument and saves the model locally) and running your model from the terminal (takes test.csv and model as arguments and outputs accuracy and predictions as .csv) (you can still use the template repo : https://github.com/neuefische/ds-ml-project-template)\n",
    "\n",
    "**Technical:**\n",
    "* hh\n"
   ]
  },
  {
   "cell_type": "markdown",
   "metadata": {},
   "source": [
    "---\n",
    "### <span style=\"color:navy\">__Importing Packages and Data__\n"
   ]
  },
  {
   "cell_type": "code",
   "execution_count": 2,
   "metadata": {},
   "outputs": [],
   "source": [
    "# Import necessary libraries\n",
    "import numpy as np\n",
    "import pandas as pd\n",
    "import matplotlib.pyplot as plt\n",
    "import seaborn as sns\n",
    "import missingno as msno\n",
    "import warnings\n",
    "warnings.filterwarnings(\"ignore\")\n",
    "from datetime import datetime, timezone\n",
    "import json\n",
    "\n",
    "# Libraries for data import\n",
    "import os\n",
    "import glob\n",
    "\n",
    "# Preprocessing\n",
    "from imblearn.over_sampling import RandomOverSampler\n",
    "from sklearn.preprocessing import MinMaxScaler\n",
    "from sklearn.preprocessing import OneHotEncoder, StandardScaler\n",
    "\n",
    "from sklearn.model_selection import train_test_split, GridSearchCV, cross_validate, cross_val_predict\n",
    "from sklearn.linear_model import LogisticRegression\n",
    "from sklearn.svm import SVC\n",
    "from sklearn.neighbors import KNeighborsClassifier\n",
    "from sklearn.tree import DecisionTreeClassifier\n",
    "\n",
    "from sklearn.metrics import plot_confusion_matrix, recall_score, accuracy_score, precision_score\n",
    "from sklearn.metrics import classification_report, confusion_matrix, roc_curve\n",
    "from sklearn.metrics import fbeta_score, make_scorer\n",
    "\n",
    "\n",
    "# Define a plotting style to be used for all plots in this notebook\n",
    "plt.style.use('tableau-colorblind10')"
   ]
  },
  {
   "cell_type": "code",
   "execution_count": 3,
   "metadata": {},
   "outputs": [],
   "source": [
    "# Kickstarter data\n",
    "\n",
    "path = \"data/data-2\"\n",
    "all_files = glob.glob(os.path.join(path + \"/*.csv\"))\n",
    "li = []\n",
    "for filename in all_files:\n",
    "    df = pd.read_csv(filename, index_col=None, header=0)\n",
    "    li.append(df)\n",
    "data = pd.concat(li, axis=0, ignore_index=True)\n",
    "\n",
    "df = data.copy()"
   ]
  },
  {
   "cell_type": "code",
   "execution_count": 4,
   "metadata": {},
   "outputs": [],
   "source": [
    "# data.to_csv('data/csv_files_combined.csv',index=False)"
   ]
  },
  {
   "cell_type": "code",
   "execution_count": 5,
   "metadata": {},
   "outputs": [],
   "source": [
    "#df = pd.read_csv('data/csv_files_combined.csv')"
   ]
  },
  {
   "cell_type": "code",
   "execution_count": 6,
   "metadata": {},
   "outputs": [],
   "source": [
    "# Formatting the columns\n",
    "pd.set_option('display.max_columns', None)\n",
    "pd.set_option(\"display.max_rows\", 200)\n",
    "\n",
    "# pd.set_option('display.max_colwidth', None)\n"
   ]
  },
  {
   "cell_type": "markdown",
   "metadata": {},
   "source": [
    "---\n",
    "### <span style=\"color:navy\">__Exploratory Data Analysis__"
   ]
  },
  {
   "cell_type": "code",
   "execution_count": 7,
   "metadata": {},
   "outputs": [
    {
     "name": "stdout",
     "output_type": "stream",
     "text": [
      "Kickstarter dataset\n",
      "==================\n",
      "# observations: 209222\n",
      "# features:     36\n"
     ]
    }
   ],
   "source": [
    "#Print the shape of the data\n",
    "\n",
    "print('Kickstarter dataset')\n",
    "print('==================')\n",
    "print('# observations: {}'.format(df.shape[0]))\n",
    "print('# features:     {}'.format(df.shape[1]-1))"
   ]
  },
  {
   "cell_type": "code",
   "execution_count": 8,
   "metadata": {},
   "outputs": [],
   "source": [
    "#df.head(5)"
   ]
  },
  {
   "cell_type": "code",
   "execution_count": 9,
   "metadata": {},
   "outputs": [],
   "source": [
    "#df.category[0]"
   ]
  },
  {
   "cell_type": "code",
   "execution_count": 10,
   "metadata": {},
   "outputs": [],
   "source": [
    "#df.shape"
   ]
  },
  {
   "cell_type": "code",
   "execution_count": 11,
   "metadata": {},
   "outputs": [],
   "source": [
    "#df.columns"
   ]
  },
  {
   "cell_type": "code",
   "execution_count": 12,
   "metadata": {},
   "outputs": [],
   "source": [
    "#df.info()"
   ]
  },
  {
   "cell_type": "code",
   "execution_count": 13,
   "metadata": {},
   "outputs": [],
   "source": [
    "#df.describe()"
   ]
  },
  {
   "cell_type": "markdown",
   "metadata": {},
   "source": [
    "> Relevant columns in JSON format were separated, their features were concatenated to the main data frame and some irrelevant columns were dropped.\n",
    "\n",
    "json plan:\n",
    "* first explode json columns category and location\n",
    "* select columns that we want to keep from json dataframes categroy and location\n",
    "* concat selected columns to original dataframe\n",
    "* delete all columns we dont want (including original json columns)"
   ]
  },
  {
   "cell_type": "code",
   "execution_count": 14,
   "metadata": {},
   "outputs": [],
   "source": [
    "# define function to explode json columns\n",
    "\n",
    "def explode_json(df, col_name):\n",
    "    ''' explodes json columns'''\n",
    "    exploded = pd.json_normalize(df[col_name].apply(json.loads))\n",
    "    return exploded"
   ]
  },
  {
   "cell_type": "code",
   "execution_count": 15,
   "metadata": {},
   "outputs": [],
   "source": [
    "# explode and concatenate JSON columns location and category\n",
    "\n",
    "# explode 'location', first replace nan rows with 'empty_json'\n",
    "empty_json = '{\"id\":\"nan\",\"name\":\"nan\",\"slug\":\"nan\",\"short_name\":\"nan\",\"displayable_name\":\"nan\",\"localized_name\":\"nan\",\"country\":\"nan\",\"state\":\"nan\",\"type\":\"nan\",\"is_root\":\"nan\",\"urls\":{\"web\":{\"discover\":\"nan\",\"location\":\"nan\"},\"api\":{\"nearby_projects\":\"nan\"}}}'\n",
    "df['location'] = df['location'].fillna(empty_json)\n",
    "df_location_exploded = explode_json(df, 'location')\n",
    "\n",
    "# select location columns to keep\n",
    "df_location_exploded_keep = df_location_exploded[['country', 'state','localized_name','type']]\n",
    "df_location_exploded_keep.columns = df_location_exploded_keep.columns.str.replace('state', 'loc_state')\n",
    "df_location_exploded_keep.columns = df_location_exploded_keep.columns.str.replace('country', 'loc_country')\n",
    "df_location_exploded_keep.columns = df_location_exploded_keep.columns.str.replace('localized_name', 'city')\n",
    "\n",
    "\n",
    "# explode category, then split slug column by \"/\"\n",
    "df_category_exploded = explode_json(df, 'category')\n",
    "df_category_exploded[['slug_1','slug_2']] = df_category_exploded['slug'].str.split('\\/',expand=True)\n",
    "\n",
    "# select category columns to keep\n",
    "df_category_exploded_keep = df_category_exploded[['name','position','slug_1','slug_2']]\n",
    "\n",
    "df_category_exploded_keep.columns = df_category_exploded_keep.columns.str.replace('name', 'name_cat')\n",
    "\n"
   ]
  },
  {
   "cell_type": "code",
   "execution_count": 16,
   "metadata": {},
   "outputs": [],
   "source": [
    "# concatenate exploded JSON columns\n",
    "\n",
    "df = pd.concat([df,df_location_exploded_keep,df_category_exploded_keep], axis=1)"
   ]
  },
  {
   "cell_type": "code",
   "execution_count": 17,
   "metadata": {},
   "outputs": [],
   "source": [
    "#df.columns"
   ]
  },
  {
   "cell_type": "code",
   "execution_count": 18,
   "metadata": {},
   "outputs": [
    {
     "data": {
      "text/html": [
       "<div>\n",
       "<style scoped>\n",
       "    .dataframe tbody tr th:only-of-type {\n",
       "        vertical-align: middle;\n",
       "    }\n",
       "\n",
       "    .dataframe tbody tr th {\n",
       "        vertical-align: top;\n",
       "    }\n",
       "\n",
       "    .dataframe thead th {\n",
       "        text-align: right;\n",
       "    }\n",
       "</style>\n",
       "<table border=\"1\" class=\"dataframe\">\n",
       "  <thead>\n",
       "    <tr style=\"text-align: right;\">\n",
       "      <th></th>\n",
       "      <th>backers_count</th>\n",
       "      <th>blurb</th>\n",
       "      <th>category</th>\n",
       "      <th>converted_pledged_amount</th>\n",
       "      <th>country</th>\n",
       "      <th>created_at</th>\n",
       "      <th>creator</th>\n",
       "      <th>currency</th>\n",
       "      <th>currency_symbol</th>\n",
       "      <th>currency_trailing_code</th>\n",
       "      <th>current_currency</th>\n",
       "      <th>deadline</th>\n",
       "      <th>disable_communication</th>\n",
       "      <th>friends</th>\n",
       "      <th>fx_rate</th>\n",
       "      <th>goal</th>\n",
       "      <th>id</th>\n",
       "      <th>is_backing</th>\n",
       "      <th>is_starrable</th>\n",
       "      <th>is_starred</th>\n",
       "      <th>launched_at</th>\n",
       "      <th>location</th>\n",
       "      <th>name</th>\n",
       "      <th>permissions</th>\n",
       "      <th>photo</th>\n",
       "      <th>pledged</th>\n",
       "      <th>profile</th>\n",
       "      <th>slug</th>\n",
       "      <th>source_url</th>\n",
       "      <th>spotlight</th>\n",
       "      <th>staff_pick</th>\n",
       "      <th>state</th>\n",
       "      <th>state_changed_at</th>\n",
       "      <th>static_usd_rate</th>\n",
       "      <th>urls</th>\n",
       "      <th>usd_pledged</th>\n",
       "      <th>usd_type</th>\n",
       "      <th>loc_country</th>\n",
       "      <th>loc_state</th>\n",
       "      <th>city</th>\n",
       "      <th>type</th>\n",
       "      <th>name_cat</th>\n",
       "      <th>position</th>\n",
       "      <th>slug_1</th>\n",
       "      <th>slug_2</th>\n",
       "    </tr>\n",
       "  </thead>\n",
       "  <tbody>\n",
       "    <tr>\n",
       "      <th>0</th>\n",
       "      <td>315</td>\n",
       "      <td>Babalus Shoes</td>\n",
       "      <td>{\"id\":266,\"name\":\"Footwear\",\"slug\":\"fashion/fo...</td>\n",
       "      <td>28645</td>\n",
       "      <td>US</td>\n",
       "      <td>1541459205</td>\n",
       "      <td>{\"id\":2094277840,\"name\":\"Lucy Conroy\",\"slug\":\"...</td>\n",
       "      <td>USD</td>\n",
       "      <td>$</td>\n",
       "      <td>True</td>\n",
       "      <td>USD</td>\n",
       "      <td>1552539775</td>\n",
       "      <td>False</td>\n",
       "      <td>NaN</td>\n",
       "      <td>1.000000</td>\n",
       "      <td>28000.0</td>\n",
       "      <td>2108505034</td>\n",
       "      <td>NaN</td>\n",
       "      <td>False</td>\n",
       "      <td>NaN</td>\n",
       "      <td>1548223375</td>\n",
       "      <td>{\"id\":2462429,\"name\":\"Novato\",\"slug\":\"novato-c...</td>\n",
       "      <td>Babalus Children's Shoes</td>\n",
       "      <td>NaN</td>\n",
       "      <td>{\"key\":\"assets/023/667/205/a565fde5382d6b53276...</td>\n",
       "      <td>28645.0</td>\n",
       "      <td>{\"id\":3508024,\"project_id\":3508024,\"state\":\"in...</td>\n",
       "      <td>babalus-childrens-shoes</td>\n",
       "      <td>https://www.kickstarter.com/discover/categorie...</td>\n",
       "      <td>False</td>\n",
       "      <td>False</td>\n",
       "      <td>live</td>\n",
       "      <td>1548223375</td>\n",
       "      <td>1.000000</td>\n",
       "      <td>{\"web\":{\"project\":\"https://www.kickstarter.com...</td>\n",
       "      <td>28645.000000</td>\n",
       "      <td>international</td>\n",
       "      <td>US</td>\n",
       "      <td>CA</td>\n",
       "      <td>Novato</td>\n",
       "      <td>Town</td>\n",
       "      <td>Footwear</td>\n",
       "      <td>5</td>\n",
       "      <td>fashion</td>\n",
       "      <td>footwear</td>\n",
       "    </tr>\n",
       "    <tr>\n",
       "      <th>1</th>\n",
       "      <td>47</td>\n",
       "      <td>A colorful Dia de los Muertos themed oracle de...</td>\n",
       "      <td>{\"id\":273,\"name\":\"Playing Cards\",\"slug\":\"games...</td>\n",
       "      <td>1950</td>\n",
       "      <td>US</td>\n",
       "      <td>1501684093</td>\n",
       "      <td>{\"id\":723886115,\"name\":\"Lisa Vollrath\",\"slug\":...</td>\n",
       "      <td>USD</td>\n",
       "      <td>$</td>\n",
       "      <td>True</td>\n",
       "      <td>USD</td>\n",
       "      <td>1504976459</td>\n",
       "      <td>False</td>\n",
       "      <td>NaN</td>\n",
       "      <td>1.000000</td>\n",
       "      <td>1000.0</td>\n",
       "      <td>928751314</td>\n",
       "      <td>NaN</td>\n",
       "      <td>False</td>\n",
       "      <td>NaN</td>\n",
       "      <td>1502384459</td>\n",
       "      <td>{\"id\":2400549,\"name\":\"Euless\",\"slug\":\"euless-t...</td>\n",
       "      <td>The Ofrenda Oracle Deck</td>\n",
       "      <td>NaN</td>\n",
       "      <td>{\"key\":\"assets/017/766/989/dd9f18c773a8546d996...</td>\n",
       "      <td>1950.0</td>\n",
       "      <td>{\"id\":3094785,\"project_id\":3094785,\"state\":\"ac...</td>\n",
       "      <td>the-ofrenda-oracle-deck</td>\n",
       "      <td>https://www.kickstarter.com/discover/categorie...</td>\n",
       "      <td>True</td>\n",
       "      <td>False</td>\n",
       "      <td>successful</td>\n",
       "      <td>1504976459</td>\n",
       "      <td>1.000000</td>\n",
       "      <td>{\"web\":{\"project\":\"https://www.kickstarter.com...</td>\n",
       "      <td>1950.000000</td>\n",
       "      <td>domestic</td>\n",
       "      <td>US</td>\n",
       "      <td>TX</td>\n",
       "      <td>Euless</td>\n",
       "      <td>Town</td>\n",
       "      <td>Playing Cards</td>\n",
       "      <td>4</td>\n",
       "      <td>games</td>\n",
       "      <td>playing cards</td>\n",
       "    </tr>\n",
       "    <tr>\n",
       "      <th>2</th>\n",
       "      <td>271</td>\n",
       "      <td>Electra's long awaited, eclectic Debut Pop/Roc...</td>\n",
       "      <td>{\"id\":43,\"name\":\"Rock\",\"slug\":\"music/rock\",\"po...</td>\n",
       "      <td>22404</td>\n",
       "      <td>US</td>\n",
       "      <td>1348987533</td>\n",
       "      <td>{\"id\":323849677,\"name\":\"Electra\",\"is_registere...</td>\n",
       "      <td>USD</td>\n",
       "      <td>$</td>\n",
       "      <td>True</td>\n",
       "      <td>USD</td>\n",
       "      <td>1371013395</td>\n",
       "      <td>False</td>\n",
       "      <td>NaN</td>\n",
       "      <td>1.000000</td>\n",
       "      <td>15000.0</td>\n",
       "      <td>928014092</td>\n",
       "      <td>NaN</td>\n",
       "      <td>False</td>\n",
       "      <td>NaN</td>\n",
       "      <td>1368421395</td>\n",
       "      <td>{\"id\":2423474,\"name\":\"Hollywood\",\"slug\":\"holly...</td>\n",
       "      <td>Record Electra's Debut Album (Pop, Rock, Class...</td>\n",
       "      <td>NaN</td>\n",
       "      <td>{\"key\":\"assets/011/433/681/489fd66f7861fefd8c8...</td>\n",
       "      <td>22404.0</td>\n",
       "      <td>{\"id\":359847,\"project_id\":359847,\"state\":\"inac...</td>\n",
       "      <td>record-electras-debut-album-pop-rock-classical</td>\n",
       "      <td>https://www.kickstarter.com/discover/categorie...</td>\n",
       "      <td>True</td>\n",
       "      <td>False</td>\n",
       "      <td>successful</td>\n",
       "      <td>1371013395</td>\n",
       "      <td>1.000000</td>\n",
       "      <td>{\"web\":{\"project\":\"https://www.kickstarter.com...</td>\n",
       "      <td>22404.000000</td>\n",
       "      <td>international</td>\n",
       "      <td>US</td>\n",
       "      <td>CA</td>\n",
       "      <td>Hollywood</td>\n",
       "      <td>Suburb</td>\n",
       "      <td>Rock</td>\n",
       "      <td>17</td>\n",
       "      <td>music</td>\n",
       "      <td>rock</td>\n",
       "    </tr>\n",
       "    <tr>\n",
       "      <th>3</th>\n",
       "      <td>3</td>\n",
       "      <td>The Mist of Tribunal is a turn-based card game...</td>\n",
       "      <td>{\"id\":273,\"name\":\"Playing Cards\",\"slug\":\"games...</td>\n",
       "      <td>165</td>\n",
       "      <td>GB</td>\n",
       "      <td>1483780271</td>\n",
       "      <td>{\"id\":196281496,\"name\":\"Artur Ordijanc (delete...</td>\n",
       "      <td>GBP</td>\n",
       "      <td>£</td>\n",
       "      <td>False</td>\n",
       "      <td>USD</td>\n",
       "      <td>1489425776</td>\n",
       "      <td>False</td>\n",
       "      <td>NaN</td>\n",
       "      <td>1.308394</td>\n",
       "      <td>10000.0</td>\n",
       "      <td>596091328</td>\n",
       "      <td>NaN</td>\n",
       "      <td>False</td>\n",
       "      <td>NaN</td>\n",
       "      <td>1484245376</td>\n",
       "      <td>{\"id\":475457,\"name\":\"Kaunas\",\"slug\":\"kaunas-ka...</td>\n",
       "      <td>The Mist of Tribunal - A Card Game</td>\n",
       "      <td>NaN</td>\n",
       "      <td>{\"key\":\"assets/015/091/198/216fbf1bdc3739e7971...</td>\n",
       "      <td>136.0</td>\n",
       "      <td>{\"id\":2825329,\"project_id\":2825329,\"state\":\"in...</td>\n",
       "      <td>the-mist-of-tribunal-a-card-game</td>\n",
       "      <td>https://www.kickstarter.com/discover/categorie...</td>\n",
       "      <td>False</td>\n",
       "      <td>False</td>\n",
       "      <td>failed</td>\n",
       "      <td>1489425776</td>\n",
       "      <td>1.216066</td>\n",
       "      <td>{\"web\":{\"project\":\"https://www.kickstarter.com...</td>\n",
       "      <td>165.384934</td>\n",
       "      <td>domestic</td>\n",
       "      <td>LT</td>\n",
       "      <td>Kaunas County</td>\n",
       "      <td>Kaunas</td>\n",
       "      <td>Town</td>\n",
       "      <td>Playing Cards</td>\n",
       "      <td>4</td>\n",
       "      <td>games</td>\n",
       "      <td>playing cards</td>\n",
       "    </tr>\n",
       "    <tr>\n",
       "      <th>4</th>\n",
       "      <td>3</td>\n",
       "      <td>Livng with a brain impairment, what its like t...</td>\n",
       "      <td>{\"id\":48,\"name\":\"Nonfiction\",\"slug\":\"publishin...</td>\n",
       "      <td>2820</td>\n",
       "      <td>US</td>\n",
       "      <td>1354817071</td>\n",
       "      <td>{\"id\":1178460181,\"name\":\"Dawn Johnston\",\"is_re...</td>\n",
       "      <td>USD</td>\n",
       "      <td>$</td>\n",
       "      <td>True</td>\n",
       "      <td>USD</td>\n",
       "      <td>1357763527</td>\n",
       "      <td>False</td>\n",
       "      <td>NaN</td>\n",
       "      <td>1.000000</td>\n",
       "      <td>2800.0</td>\n",
       "      <td>998516049</td>\n",
       "      <td>NaN</td>\n",
       "      <td>False</td>\n",
       "      <td>NaN</td>\n",
       "      <td>1355171527</td>\n",
       "      <td>{\"id\":2507703,\"name\":\"Traverse City\",\"slug\":\"t...</td>\n",
       "      <td>Help change the face of Brain Impairment</td>\n",
       "      <td>NaN</td>\n",
       "      <td>{\"key\":\"assets/011/457/844/37ba63d35fefaba76e9...</td>\n",
       "      <td>2820.0</td>\n",
       "      <td>{\"id\":417385,\"project_id\":417385,\"state\":\"inac...</td>\n",
       "      <td>help-change-the-face-of-brain-impairment</td>\n",
       "      <td>https://www.kickstarter.com/discover/categorie...</td>\n",
       "      <td>True</td>\n",
       "      <td>False</td>\n",
       "      <td>successful</td>\n",
       "      <td>1357763527</td>\n",
       "      <td>1.000000</td>\n",
       "      <td>{\"web\":{\"project\":\"https://www.kickstarter.com...</td>\n",
       "      <td>2820.000000</td>\n",
       "      <td>domestic</td>\n",
       "      <td>US</td>\n",
       "      <td>MI</td>\n",
       "      <td>Traverse City</td>\n",
       "      <td>Town</td>\n",
       "      <td>Nonfiction</td>\n",
       "      <td>9</td>\n",
       "      <td>publishing</td>\n",
       "      <td>nonfiction</td>\n",
       "    </tr>\n",
       "  </tbody>\n",
       "</table>\n",
       "</div>"
      ],
      "text/plain": [
       "   backers_count                                              blurb  \\\n",
       "0            315                                      Babalus Shoes   \n",
       "1             47  A colorful Dia de los Muertos themed oracle de...   \n",
       "2            271  Electra's long awaited, eclectic Debut Pop/Roc...   \n",
       "3              3  The Mist of Tribunal is a turn-based card game...   \n",
       "4              3  Livng with a brain impairment, what its like t...   \n",
       "\n",
       "                                            category  \\\n",
       "0  {\"id\":266,\"name\":\"Footwear\",\"slug\":\"fashion/fo...   \n",
       "1  {\"id\":273,\"name\":\"Playing Cards\",\"slug\":\"games...   \n",
       "2  {\"id\":43,\"name\":\"Rock\",\"slug\":\"music/rock\",\"po...   \n",
       "3  {\"id\":273,\"name\":\"Playing Cards\",\"slug\":\"games...   \n",
       "4  {\"id\":48,\"name\":\"Nonfiction\",\"slug\":\"publishin...   \n",
       "\n",
       "   converted_pledged_amount country  created_at  \\\n",
       "0                     28645      US  1541459205   \n",
       "1                      1950      US  1501684093   \n",
       "2                     22404      US  1348987533   \n",
       "3                       165      GB  1483780271   \n",
       "4                      2820      US  1354817071   \n",
       "\n",
       "                                             creator currency currency_symbol  \\\n",
       "0  {\"id\":2094277840,\"name\":\"Lucy Conroy\",\"slug\":\"...      USD               $   \n",
       "1  {\"id\":723886115,\"name\":\"Lisa Vollrath\",\"slug\":...      USD               $   \n",
       "2  {\"id\":323849677,\"name\":\"Electra\",\"is_registere...      USD               $   \n",
       "3  {\"id\":196281496,\"name\":\"Artur Ordijanc (delete...      GBP               £   \n",
       "4  {\"id\":1178460181,\"name\":\"Dawn Johnston\",\"is_re...      USD               $   \n",
       "\n",
       "   currency_trailing_code current_currency    deadline  disable_communication  \\\n",
       "0                    True              USD  1552539775                  False   \n",
       "1                    True              USD  1504976459                  False   \n",
       "2                    True              USD  1371013395                  False   \n",
       "3                   False              USD  1489425776                  False   \n",
       "4                    True              USD  1357763527                  False   \n",
       "\n",
       "  friends   fx_rate     goal          id is_backing  is_starrable is_starred  \\\n",
       "0     NaN  1.000000  28000.0  2108505034        NaN         False        NaN   \n",
       "1     NaN  1.000000   1000.0   928751314        NaN         False        NaN   \n",
       "2     NaN  1.000000  15000.0   928014092        NaN         False        NaN   \n",
       "3     NaN  1.308394  10000.0   596091328        NaN         False        NaN   \n",
       "4     NaN  1.000000   2800.0   998516049        NaN         False        NaN   \n",
       "\n",
       "   launched_at                                           location  \\\n",
       "0   1548223375  {\"id\":2462429,\"name\":\"Novato\",\"slug\":\"novato-c...   \n",
       "1   1502384459  {\"id\":2400549,\"name\":\"Euless\",\"slug\":\"euless-t...   \n",
       "2   1368421395  {\"id\":2423474,\"name\":\"Hollywood\",\"slug\":\"holly...   \n",
       "3   1484245376  {\"id\":475457,\"name\":\"Kaunas\",\"slug\":\"kaunas-ka...   \n",
       "4   1355171527  {\"id\":2507703,\"name\":\"Traverse City\",\"slug\":\"t...   \n",
       "\n",
       "                                                name permissions  \\\n",
       "0                           Babalus Children's Shoes         NaN   \n",
       "1                            The Ofrenda Oracle Deck         NaN   \n",
       "2  Record Electra's Debut Album (Pop, Rock, Class...         NaN   \n",
       "3                 The Mist of Tribunal - A Card Game         NaN   \n",
       "4           Help change the face of Brain Impairment         NaN   \n",
       "\n",
       "                                               photo  pledged  \\\n",
       "0  {\"key\":\"assets/023/667/205/a565fde5382d6b53276...  28645.0   \n",
       "1  {\"key\":\"assets/017/766/989/dd9f18c773a8546d996...   1950.0   \n",
       "2  {\"key\":\"assets/011/433/681/489fd66f7861fefd8c8...  22404.0   \n",
       "3  {\"key\":\"assets/015/091/198/216fbf1bdc3739e7971...    136.0   \n",
       "4  {\"key\":\"assets/011/457/844/37ba63d35fefaba76e9...   2820.0   \n",
       "\n",
       "                                             profile  \\\n",
       "0  {\"id\":3508024,\"project_id\":3508024,\"state\":\"in...   \n",
       "1  {\"id\":3094785,\"project_id\":3094785,\"state\":\"ac...   \n",
       "2  {\"id\":359847,\"project_id\":359847,\"state\":\"inac...   \n",
       "3  {\"id\":2825329,\"project_id\":2825329,\"state\":\"in...   \n",
       "4  {\"id\":417385,\"project_id\":417385,\"state\":\"inac...   \n",
       "\n",
       "                                             slug  \\\n",
       "0                         babalus-childrens-shoes   \n",
       "1                         the-ofrenda-oracle-deck   \n",
       "2  record-electras-debut-album-pop-rock-classical   \n",
       "3                the-mist-of-tribunal-a-card-game   \n",
       "4        help-change-the-face-of-brain-impairment   \n",
       "\n",
       "                                          source_url  spotlight  staff_pick  \\\n",
       "0  https://www.kickstarter.com/discover/categorie...      False       False   \n",
       "1  https://www.kickstarter.com/discover/categorie...       True       False   \n",
       "2  https://www.kickstarter.com/discover/categorie...       True       False   \n",
       "3  https://www.kickstarter.com/discover/categorie...      False       False   \n",
       "4  https://www.kickstarter.com/discover/categorie...       True       False   \n",
       "\n",
       "        state  state_changed_at  static_usd_rate  \\\n",
       "0        live        1548223375         1.000000   \n",
       "1  successful        1504976459         1.000000   \n",
       "2  successful        1371013395         1.000000   \n",
       "3      failed        1489425776         1.216066   \n",
       "4  successful        1357763527         1.000000   \n",
       "\n",
       "                                                urls   usd_pledged  \\\n",
       "0  {\"web\":{\"project\":\"https://www.kickstarter.com...  28645.000000   \n",
       "1  {\"web\":{\"project\":\"https://www.kickstarter.com...   1950.000000   \n",
       "2  {\"web\":{\"project\":\"https://www.kickstarter.com...  22404.000000   \n",
       "3  {\"web\":{\"project\":\"https://www.kickstarter.com...    165.384934   \n",
       "4  {\"web\":{\"project\":\"https://www.kickstarter.com...   2820.000000   \n",
       "\n",
       "        usd_type loc_country      loc_state           city    type  \\\n",
       "0  international          US             CA         Novato    Town   \n",
       "1       domestic          US             TX         Euless    Town   \n",
       "2  international          US             CA      Hollywood  Suburb   \n",
       "3       domestic          LT  Kaunas County         Kaunas    Town   \n",
       "4       domestic          US             MI  Traverse City    Town   \n",
       "\n",
       "        name_cat  position      slug_1         slug_2  \n",
       "0       Footwear         5     fashion       footwear  \n",
       "1  Playing Cards         4       games  playing cards  \n",
       "2           Rock        17       music           rock  \n",
       "3  Playing Cards         4       games  playing cards  \n",
       "4     Nonfiction         9  publishing     nonfiction  "
      ]
     },
     "execution_count": 18,
     "metadata": {},
     "output_type": "execute_result"
    }
   ],
   "source": [
    "df.head(5)"
   ]
  },
  {
   "cell_type": "code",
   "execution_count": 19,
   "metadata": {},
   "outputs": [],
   "source": [
    "# dropJSON and unwanted columns\n",
    "# originally: df = df.drop(['blurb', 'category', 'creator', 'currency', 'currency_symbol', 'currency_trailing_code', 'fx_rate', 'id', 'location', 'name', 'photo', 'profile', 'source_url', 'urls'], axis=1)\n",
    "\n",
    "# drop json columns\n",
    "df = df.drop(['category', 'creator','location','photo','profile'], axis=1)\n",
    "\n",
    "# drop unwanted information\n",
    "df = df.drop(['currency_symbol', 'currency_trailing_code', 'source_url', 'urls'], axis=1)\n"
   ]
  },
  {
   "cell_type": "code",
   "execution_count": 20,
   "metadata": {},
   "outputs": [],
   "source": [
    "#df.columns = df.columns.str.replace('category_1', 'category')"
   ]
  },
  {
   "cell_type": "code",
   "execution_count": 21,
   "metadata": {},
   "outputs": [
    {
     "data": {
      "text/plain": [
       "Index(['backers_count', 'blurb', 'converted_pledged_amount', 'country',\n",
       "       'created_at', 'currency', 'current_currency', 'deadline',\n",
       "       'disable_communication', 'friends', 'fx_rate', 'goal', 'id',\n",
       "       'is_backing', 'is_starrable', 'is_starred', 'launched_at', 'name',\n",
       "       'permissions', 'pledged', 'slug', 'spotlight', 'staff_pick', 'state',\n",
       "       'state_changed_at', 'static_usd_rate', 'usd_pledged', 'usd_type',\n",
       "       'loc_country', 'loc_state', 'city', 'type', 'name_cat', 'position',\n",
       "       'slug_1', 'slug_2'],\n",
       "      dtype='object')"
      ]
     },
     "execution_count": 21,
     "metadata": {},
     "output_type": "execute_result"
    }
   ],
   "source": [
    "df.columns"
   ]
  },
  {
   "cell_type": "markdown",
   "metadata": {},
   "source": [
    "# create combined columns"
   ]
  },
  {
   "cell_type": "markdown",
   "metadata": {
    "jp-MarkdownHeadingCollapsed": true,
    "tags": []
   },
   "source": [
    "### columns to keep from [L. Lewis](https://github.com/L-Lewis/Kickstarter-success-machine-learning/blob/master/Kickstarter-project.ipynb)\n",
    "* backers_count                  \n",
    "* category                       \n",
    "* country                        \n",
    "* created_at                     \n",
    "* deadline                       \n",
    "* id                             \n",
    "* is_starrable                   \n",
    "* launched_at                    \n",
    "* staff_pick                     \n",
    "* state                          \n",
    "* usd_pledged                    \n",
    "* blurb_length                   \n",
    "* sub_category                   \n",
    "* usd_goal                       \n",
    "* name_length                    \n",
    "* creation_to_launch_days        \n",
    "* campaign_days                  \n",
    "* launch_day                     \n",
    "* deadline_day                   \n",
    "* launch_month                   \n",
    "* deadline_month                 \n",
    "* launch_time                    \n",
    "* deadline_time                  \n",
    "* pledge_per_backer          "
   ]
  },
  {
   "cell_type": "markdown",
   "metadata": {
    "tags": []
   },
   "source": [
    "### dates:\n",
    "\n",
    "* created_at\n",
    "* deadline\n",
    "* launched_at\n",
    "* launch_day\n",
    "* launch_time\n",
    "* launch_month\n",
    "* deadline_day\n",
    "* deadline_month\n",
    "* deadline_time\n",
    "* creation_to_launch_days\n",
    "* campaign_days"
   ]
  },
  {
   "cell_type": "code",
   "execution_count": 22,
   "metadata": {},
   "outputs": [],
   "source": [
    "df['created_at'] = df.created_at.apply(datetime.fromtimestamp)\n"
   ]
  },
  {
   "cell_type": "code",
   "execution_count": 23,
   "metadata": {},
   "outputs": [],
   "source": [
    "# creating datetime formatted deadline deadline_time, deadline_month, deadline_day\n",
    "\n",
    "df['deadline'] = df.deadline.apply(datetime.fromtimestamp)\n",
    "\n",
    "df[\"deadline_month\"] = df[\"deadline\"].dt.strftime(\"%M\")\n",
    "df[\"deadline_day\"] = df[\"deadline\"].dt.strftime(\"%d\")\n",
    "df[\"deadline_time\"] = df[\"deadline\"].dt.strftime(\"%H\") # hour of creation/launch/deadline\n",
    "\n"
   ]
  },
  {
   "cell_type": "code",
   "execution_count": 24,
   "metadata": {},
   "outputs": [],
   "source": [
    "# creating launch_day, launch_time,launch_month\n",
    "\n",
    "df['launched_at'] = df.launched_at.apply(datetime.fromtimestamp)\n",
    "\n",
    "df[\"launch_month\"] = df[\"launched_at\"].dt.strftime(\"%M\")\n",
    "df[\"launch_day\"] = df[\"launched_at\"].dt.strftime(\"%d\")\n",
    "df[\"launch_time\"] = df[\"launched_at\"].dt.strftime(\"%H\") # hour of creation/launch/deadline\n",
    "\n"
   ]
  },
  {
   "cell_type": "code",
   "execution_count": 25,
   "metadata": {},
   "outputs": [],
   "source": [
    "# creating creation_to_launch_days, campaign_days\n",
    "\n",
    "df['creation_to_launch_days'] = df['launched_at'].dt.day - df['created_at'].dt.day\n",
    "df['campaign_days'] = df['launched_at'].dt.day - df['deadline'].dt.day\n"
   ]
  },
  {
   "cell_type": "markdown",
   "metadata": {},
   "source": [
    "### combined value columns\n",
    "                 \n",
    "* blurb_length                   \n",
    "* sub_category = slug_2\n",
    "* category = slug_1\n",
    "* usd_goal        \n",
    "* name_length   \n",
    "* pledge_per_backer          "
   ]
  },
  {
   "cell_type": "code",
   "execution_count": 26,
   "metadata": {},
   "outputs": [],
   "source": [
    "# category and sub_category from slug_1 and slug_2\n",
    "df.columns = df.columns.str.replace('slug_2', 'sub_category')\n",
    "df.columns = df.columns.str.replace('slug_1', 'category')"
   ]
  },
  {
   "cell_type": "code",
   "execution_count": 27,
   "metadata": {},
   "outputs": [],
   "source": [
    "# usd_pledged\n",
    "df['usd_pledged'] = round(df['pledged'] * df['static_usd_rate'],2)\n"
   ]
  },
  {
   "cell_type": "code",
   "execution_count": 28,
   "metadata": {},
   "outputs": [],
   "source": [
    "# usd_goal\n",
    "\n",
    "# ! copy paste from l. Lewis !\n",
    "\n",
    "# Calculate new column 'usd_goal' as goal * static_usd_rate\n",
    "df['usd_goal'] = round(df['goal'] * df['static_usd_rate'],2)\n",
    "\n",
    "# Dropping goal and static_usd_rate\n",
    "df.drop(['goal', 'static_usd_rate'], axis=1, inplace=True)"
   ]
  },
  {
   "cell_type": "code",
   "execution_count": 29,
   "metadata": {},
   "outputs": [],
   "source": [
    "# blurb_length\n",
    "\n",
    "# Count length of each blurb\n",
    "df['blurb_length'] = df['blurb'].str.split().str.len()\n",
    "df['blurb_length'].replace({np.nan : 0}, regex=True,inplace=True)\n",
    "df['blurb_length'] = df['blurb_length'].astype(int)\n",
    "\n",
    "# Drop blurb variable\n",
    "df.drop('blurb', axis=1, inplace=True)"
   ]
  },
  {
   "cell_type": "code",
   "execution_count": 30,
   "metadata": {},
   "outputs": [],
   "source": [
    "# name_length\n",
    "\n",
    "# Count length of each name\n",
    "df['name_length'] = df['name'].str.split().str.len()\n",
    "df['name_length'].replace({np.nan : 0}, regex=True,inplace=True)\n",
    "df['name_length'] = df['name_length'].astype(int)\n",
    "\n",
    "# drop original name column\n",
    "df.drop(['name'], axis=1, inplace=True)"
   ]
  },
  {
   "cell_type": "code",
   "execution_count": 31,
   "metadata": {},
   "outputs": [],
   "source": [
    "# pledge_per_backer\n",
    "df['pledge_per_backer'] = round(df['usd_pledged']/df['backers_count'],2)\n"
   ]
  },
  {
   "cell_type": "code",
   "execution_count": 42,
   "metadata": {},
   "outputs": [],
   "source": [
    "# percent pledged\n",
    "\n",
    "df['percent_pledged'] = round(df['usd_pledged']/df['usd_goal']*100,2)\n"
   ]
  },
  {
   "cell_type": "code",
   "execution_count": 43,
   "metadata": {},
   "outputs": [],
   "source": [
    "lewis_cols = ['backers_count',\n",
    "'category',\n",
    "'country',           \n",
    "'created_at',             \n",
    "'deadline',               \n",
    "'id',                 \n",
    "'is_starrable',                   \n",
    "'launched_at',               \n",
    "'staff_pick',                \n",
    "'state',                 \n",
    "'usd_pledged',                  \n",
    "'blurb_length',\n",
    "'sub_category',   \n",
    "'usd_goal',    \n",
    "'name_length',     \n",
    "'creation_to_launch_days',      \n",
    "'campaign_days',       \n",
    "'launch_day',        \n",
    "'deadline_day',         \n",
    "'launch_month',          \n",
    "'deadline_month',           \n",
    "'launch_time',            \n",
    "'deadline_time',             \n",
    "'pledge_per_backer',\n",
    "'percent_pledged'             \n",
    "]"
   ]
  },
  {
   "cell_type": "code",
   "execution_count": 44,
   "metadata": {},
   "outputs": [],
   "source": [
    "df_lewis = df[lewis_cols]\n"
   ]
  },
  {
   "cell_type": "code",
   "execution_count": 45,
   "metadata": {},
   "outputs": [
    {
     "data": {
      "text/html": [
       "<div>\n",
       "<style scoped>\n",
       "    .dataframe tbody tr th:only-of-type {\n",
       "        vertical-align: middle;\n",
       "    }\n",
       "\n",
       "    .dataframe tbody tr th {\n",
       "        vertical-align: top;\n",
       "    }\n",
       "\n",
       "    .dataframe thead th {\n",
       "        text-align: right;\n",
       "    }\n",
       "</style>\n",
       "<table border=\"1\" class=\"dataframe\">\n",
       "  <thead>\n",
       "    <tr style=\"text-align: right;\">\n",
       "      <th></th>\n",
       "      <th>backers_count</th>\n",
       "      <th>category</th>\n",
       "      <th>country</th>\n",
       "      <th>created_at</th>\n",
       "      <th>deadline</th>\n",
       "      <th>id</th>\n",
       "      <th>is_starrable</th>\n",
       "      <th>launched_at</th>\n",
       "      <th>staff_pick</th>\n",
       "      <th>state</th>\n",
       "      <th>usd_pledged</th>\n",
       "      <th>blurb_length</th>\n",
       "      <th>sub_category</th>\n",
       "      <th>usd_goal</th>\n",
       "      <th>name_length</th>\n",
       "      <th>creation_to_launch_days</th>\n",
       "      <th>campaign_days</th>\n",
       "      <th>launch_day</th>\n",
       "      <th>deadline_day</th>\n",
       "      <th>launch_month</th>\n",
       "      <th>deadline_month</th>\n",
       "      <th>launch_time</th>\n",
       "      <th>deadline_time</th>\n",
       "      <th>pledge_per_backer</th>\n",
       "      <th>percent_pledged</th>\n",
       "    </tr>\n",
       "  </thead>\n",
       "  <tbody>\n",
       "    <tr>\n",
       "      <th>0</th>\n",
       "      <td>315</td>\n",
       "      <td>fashion</td>\n",
       "      <td>US</td>\n",
       "      <td>2018-11-06 00:06:45</td>\n",
       "      <td>2019-03-14 06:02:55</td>\n",
       "      <td>2108505034</td>\n",
       "      <td>False</td>\n",
       "      <td>2019-01-23 07:02:55</td>\n",
       "      <td>False</td>\n",
       "      <td>live</td>\n",
       "      <td>28645.0</td>\n",
       "      <td>2</td>\n",
       "      <td>footwear</td>\n",
       "      <td>28000.0</td>\n",
       "      <td>3</td>\n",
       "      <td>17</td>\n",
       "      <td>9</td>\n",
       "      <td>23</td>\n",
       "      <td>14</td>\n",
       "      <td>02</td>\n",
       "      <td>02</td>\n",
       "      <td>07</td>\n",
       "      <td>06</td>\n",
       "      <td>90.94</td>\n",
       "      <td>102.3</td>\n",
       "    </tr>\n",
       "    <tr>\n",
       "      <th>1</th>\n",
       "      <td>47</td>\n",
       "      <td>games</td>\n",
       "      <td>US</td>\n",
       "      <td>2017-08-02 16:28:13</td>\n",
       "      <td>2017-09-09 19:00:59</td>\n",
       "      <td>928751314</td>\n",
       "      <td>False</td>\n",
       "      <td>2017-08-10 19:00:59</td>\n",
       "      <td>False</td>\n",
       "      <td>successful</td>\n",
       "      <td>1950.0</td>\n",
       "      <td>22</td>\n",
       "      <td>playing cards</td>\n",
       "      <td>1000.0</td>\n",
       "      <td>4</td>\n",
       "      <td>8</td>\n",
       "      <td>1</td>\n",
       "      <td>10</td>\n",
       "      <td>09</td>\n",
       "      <td>00</td>\n",
       "      <td>00</td>\n",
       "      <td>19</td>\n",
       "      <td>19</td>\n",
       "      <td>41.49</td>\n",
       "      <td>195.0</td>\n",
       "    </tr>\n",
       "  </tbody>\n",
       "</table>\n",
       "</div>"
      ],
      "text/plain": [
       "   backers_count category country          created_at            deadline  \\\n",
       "0            315  fashion      US 2018-11-06 00:06:45 2019-03-14 06:02:55   \n",
       "1             47    games      US 2017-08-02 16:28:13 2017-09-09 19:00:59   \n",
       "\n",
       "           id  is_starrable         launched_at  staff_pick       state  \\\n",
       "0  2108505034         False 2019-01-23 07:02:55       False        live   \n",
       "1   928751314         False 2017-08-10 19:00:59       False  successful   \n",
       "\n",
       "   usd_pledged  blurb_length   sub_category  usd_goal  name_length  \\\n",
       "0      28645.0             2       footwear   28000.0            3   \n",
       "1       1950.0            22  playing cards    1000.0            4   \n",
       "\n",
       "   creation_to_launch_days  campaign_days launch_day deadline_day  \\\n",
       "0                       17              9         23           14   \n",
       "1                        8              1         10           09   \n",
       "\n",
       "  launch_month deadline_month launch_time deadline_time  pledge_per_backer  \\\n",
       "0           02             02          07            06              90.94   \n",
       "1           00             00          19            19              41.49   \n",
       "\n",
       "   percent_pledged  \n",
       "0            102.3  \n",
       "1            195.0  "
      ]
     },
     "execution_count": 45,
     "metadata": {},
     "output_type": "execute_result"
    }
   ],
   "source": [
    "df_lewis.head(2)"
   ]
  },
  {
   "cell_type": "markdown",
   "metadata": {},
   "source": [
    "# back to Karine\n",
    "---\n",
    "### <span style=\"color:navy\">__Data Cleaning and Adjustments__\n",
    "\n",
    "**STEP 1** -> Data frame was checked to identify possible duplicated rows in the data frame and it showed that there were no duplicates to be cleaned."
   ]
  },
  {
   "cell_type": "code",
   "execution_count": 134,
   "metadata": {},
   "outputs": [
    {
     "data": {
      "text/plain": [
       "False    197523\n",
       "True      11699\n",
       "dtype: int64"
      ]
     },
     "execution_count": 134,
     "metadata": {},
     "output_type": "execute_result"
    }
   ],
   "source": [
    "# Identify duplicates\n",
    "df.duplicated().value_counts() # no duplicates"
   ]
  },
  {
   "cell_type": "markdown",
   "metadata": {},
   "source": [
    "**STEP 2** -> A missing entries analysis using the package \"missingno\" was necessary before further corrections could be done. Below the missing entries were identified by column to be further handled."
   ]
  },
  {
   "cell_type": "code",
   "execution_count": 135,
   "metadata": {},
   "outputs": [
    {
     "data": {
      "text/plain": [
       "backers_count                    0\n",
       "converted_pledged_amount         0\n",
       "country                          0\n",
       "created_at                       0\n",
       "current_currency                 0\n",
       "deadline                         0\n",
       "disable_communication            0\n",
       "friends                     208922\n",
       "goal                             0\n",
       "is_backing                  208922\n",
       "is_starrable                     0\n",
       "is_starred                  208922\n",
       "launched_at                      0\n",
       "permissions                 208922\n",
       "pledged                          0\n",
       "slug                             0\n",
       "spotlight                        0\n",
       "staff_pick                       0\n",
       "state                            0\n",
       "state_changed_at                 0\n",
       "static_usd_rate                  0\n",
       "usd_pledged                      0\n",
       "usd_type                       480\n",
       "loc_country                      0\n",
       "loc_state                       63\n",
       "city                             0\n",
       "type                             0\n",
       "position                         0\n",
       "category                         0\n",
       "dtype: int64"
      ]
     },
     "execution_count": 135,
     "metadata": {},
     "output_type": "execute_result"
    }
   ],
   "source": [
    "# Identify missing values\n",
    "df.isna().sum()"
   ]
  },
  {
   "cell_type": "code",
   "execution_count": 137,
   "metadata": {},
   "outputs": [
    {
     "data": {
      "text/plain": [
       "<AxesSubplot:>"
      ]
     },
     "execution_count": 137,
     "metadata": {},
     "output_type": "execute_result"
    },
    {
     "data": {
      "image/png": "[encoded data removed]",
      "text/plain": [
       "<Figure size 2500x1000 with 2 Axes>"
      ]
     },
     "metadata": {},
     "output_type": "display_data"
    }
   ],
   "source": [
    "msno.matrix(df)"
   ]
  },
  {
   "cell_type": "markdown",
   "metadata": {},
   "source": [
    "Blank columns were deleted as below:"
   ]
  },
  {
   "cell_type": "code",
   "execution_count": 138,
   "metadata": {},
   "outputs": [],
   "source": [
    "df = df.drop(['friends', 'is_backing', 'is_starred', 'permissions'], axis=1)"
   ]
  },
  {
   "cell_type": "code",
   "execution_count": 139,
   "metadata": {},
   "outputs": [
    {
     "data": {
      "text/plain": [
       "Index(['backers_count', 'converted_pledged_amount', 'country', 'created_at',\n",
       "       'current_currency', 'deadline', 'disable_communication', 'goal',\n",
       "       'is_starrable', 'launched_at', 'pledged', 'slug', 'spotlight',\n",
       "       'staff_pick', 'state', 'state_changed_at', 'static_usd_rate',\n",
       "       'usd_pledged', 'usd_type', 'loc_country', 'loc_state', 'city', 'type',\n",
       "       'position', 'category'],\n",
       "      dtype='object')"
      ]
     },
     "execution_count": 139,
     "metadata": {},
     "output_type": "execute_result"
    }
   ],
   "source": [
    "df.columns"
   ]
  },
  {
   "cell_type": "code",
   "execution_count": 140,
   "metadata": {},
   "outputs": [
    {
     "data": {
      "text/plain": [
       "<AxesSubplot:>"
      ]
     },
     "execution_count": 140,
     "metadata": {},
     "output_type": "execute_result"
    },
    {
     "data": {
      "image/png": "[encoded data removed]",
      "text/plain": [
       "<Figure size 2500x1000 with 2 Axes>"
      ]
     },
     "metadata": {},
     "output_type": "display_data"
    }
   ],
   "source": [
    "msno.matrix(df)"
   ]
  },
  {
   "cell_type": "code",
   "execution_count": 141,
   "metadata": {},
   "outputs": [
    {
     "data": {
      "text/plain": [
       "backers_count                 0\n",
       "converted_pledged_amount      0\n",
       "country                       0\n",
       "created_at                    0\n",
       "current_currency              0\n",
       "deadline                      0\n",
       "disable_communication         0\n",
       "goal                          0\n",
       "is_starrable                  0\n",
       "launched_at                   0\n",
       "pledged                       0\n",
       "slug                          0\n",
       "spotlight                     0\n",
       "staff_pick                    0\n",
       "state                         0\n",
       "state_changed_at              0\n",
       "static_usd_rate               0\n",
       "usd_pledged                   0\n",
       "usd_type                    480\n",
       "loc_country                   0\n",
       "loc_state                    63\n",
       "city                          0\n",
       "type                          0\n",
       "position                      0\n",
       "category                      0\n",
       "dtype: int64"
      ]
     },
     "execution_count": 141,
     "metadata": {},
     "output_type": "execute_result"
    }
   ],
   "source": [
    "df.isna().sum()"
   ]
  },
  {
   "cell_type": "code",
   "execution_count": 143,
   "metadata": {},
   "outputs": [
    {
     "data": {
      "text/plain": [
       "backers_count               0\n",
       "converted_pledged_amount    0\n",
       "country                     0\n",
       "created_at                  0\n",
       "current_currency            0\n",
       "deadline                    0\n",
       "disable_communication       0\n",
       "goal                        0\n",
       "is_starrable                0\n",
       "launched_at                 0\n",
       "pledged                     0\n",
       "slug                        0\n",
       "spotlight                   0\n",
       "staff_pick                  0\n",
       "state                       0\n",
       "state_changed_at            0\n",
       "static_usd_rate             0\n",
       "usd_pledged                 0\n",
       "usd_type                    0\n",
       "loc_country                 0\n",
       "loc_state                   0\n",
       "city                        0\n",
       "type                        0\n",
       "position                    0\n",
       "category                    0\n",
       "dtype: int64"
      ]
     },
     "execution_count": 143,
     "metadata": {},
     "output_type": "execute_result"
    }
   ],
   "source": [
    "df[['usd_type', 'loc_state']] = df[['usd_type', 'loc_state']].fillna('unknown')\n",
    "df.isna().sum()"
   ]
  },
  {
   "cell_type": "markdown",
   "metadata": {},
   "source": [
    "**STEP 3** -> The data types were then checked and some inconsistencies were identified to be corrected."
   ]
  },
  {
   "cell_type": "code",
   "execution_count": 144,
   "metadata": {},
   "outputs": [
    {
     "data": {
      "text/plain": [
       "backers_count                 int64\n",
       "converted_pledged_amount      int64\n",
       "country                      object\n",
       "created_at                    int64\n",
       "current_currency             object\n",
       "deadline                      int64\n",
       "disable_communication          bool\n",
       "goal                        float64\n",
       "is_starrable                   bool\n",
       "launched_at                   int64\n",
       "pledged                     float64\n",
       "slug                         object\n",
       "spotlight                      bool\n",
       "staff_pick                     bool\n",
       "state                        object\n",
       "state_changed_at              int64\n",
       "static_usd_rate             float64\n",
       "usd_pledged                 float64\n",
       "usd_type                     object\n",
       "loc_country                  object\n",
       "loc_state                    object\n",
       "city                         object\n",
       "type                         object\n",
       "position                      int64\n",
       "category                     object\n",
       "dtype: object"
      ]
     },
     "execution_count": 144,
     "metadata": {},
     "output_type": "execute_result"
    }
   ],
   "source": [
    "df.dtypes"
   ]
  },
  {
   "cell_type": "markdown",
   "metadata": {},
   "source": [
    "> Dates were corrected to datetime:"
   ]
  },
  {
   "cell_type": "code",
   "execution_count": 145,
   "metadata": {},
   "outputs": [
    {
     "data": {
      "text/plain": [
       "array([1541459205, 1501684093, 1348987533, ..., 1341343795, 1425256957,\n",
       "       1263225900])"
      ]
     },
     "execution_count": 145,
     "metadata": {},
     "output_type": "execute_result"
    }
   ],
   "source": [
    "# created_at, launched_at, state_changed_at\n",
    "df['created_at'].unique()"
   ]
  },
  {
   "cell_type": "code",
   "execution_count": 146,
   "metadata": {},
   "outputs": [],
   "source": [
    "df['created_at'] = df.created_at.apply(datetime.fromtimestamp) #.strftime('%d-%m-%Y')"
   ]
  },
  {
   "cell_type": "code",
   "execution_count": 147,
   "metadata": {},
   "outputs": [],
   "source": [
    "df['launched_at'] = df.launched_at.apply(datetime.fromtimestamp) "
   ]
  },
  {
   "cell_type": "code",
   "execution_count": 148,
   "metadata": {},
   "outputs": [],
   "source": [
    "df['state_changed_at'] = df.state_changed_at.apply(datetime.fromtimestamp) "
   ]
  },
  {
   "cell_type": "code",
   "execution_count": 149,
   "metadata": {},
   "outputs": [],
   "source": [
    "df['deadline'] = df.deadline.apply(datetime.fromtimestamp) "
   ]
  },
  {
   "cell_type": "code",
   "execution_count": null,
   "metadata": {},
   "outputs": [],
   "source": [
    "#df.style.format({\"created_at\": lambda t: t.strftime(\"%Y/%m/%d\")})\n",
    "#df.style.format({\"launched_at\": lambda t: t.strftime(\"%Y/%m/%d\")})\n",
    "#df.style.format({\"state_changed_at\": lambda t: t.strftime(\"%Y/%m/%d\")})\n",
    "#df.style.format({\"deadline\": lambda t: t.strftime(\"%Y/%m/%d\")})"
   ]
  },
  {
   "cell_type": "code",
   "execution_count": 153,
   "metadata": {},
   "outputs": [
    {
     "data": {
      "text/html": [
       "<div>\n",
       "<style scoped>\n",
       "    .dataframe tbody tr th:only-of-type {\n",
       "        vertical-align: middle;\n",
       "    }\n",
       "\n",
       "    .dataframe tbody tr th {\n",
       "        vertical-align: top;\n",
       "    }\n",
       "\n",
       "    .dataframe thead th {\n",
       "        text-align: right;\n",
       "    }\n",
       "</style>\n",
       "<table border=\"1\" class=\"dataframe\">\n",
       "  <thead>\n",
       "    <tr style=\"text-align: right;\">\n",
       "      <th></th>\n",
       "      <th>backers_count</th>\n",
       "      <th>converted_pledged_amount</th>\n",
       "      <th>country</th>\n",
       "      <th>created_at</th>\n",
       "      <th>current_currency</th>\n",
       "      <th>deadline</th>\n",
       "      <th>disable_communication</th>\n",
       "      <th>goal</th>\n",
       "      <th>is_starrable</th>\n",
       "      <th>launched_at</th>\n",
       "      <th>pledged</th>\n",
       "      <th>slug</th>\n",
       "      <th>spotlight</th>\n",
       "      <th>staff_pick</th>\n",
       "      <th>state</th>\n",
       "      <th>state_changed_at</th>\n",
       "      <th>static_usd_rate</th>\n",
       "      <th>usd_pledged</th>\n",
       "      <th>usd_type</th>\n",
       "      <th>loc_country</th>\n",
       "      <th>loc_state</th>\n",
       "      <th>city</th>\n",
       "      <th>type</th>\n",
       "      <th>position</th>\n",
       "      <th>category</th>\n",
       "    </tr>\n",
       "  </thead>\n",
       "  <tbody>\n",
       "    <tr>\n",
       "      <th>0</th>\n",
       "      <td>315</td>\n",
       "      <td>28645</td>\n",
       "      <td>US</td>\n",
       "      <td>2018-11-06 00:06:45</td>\n",
       "      <td>USD</td>\n",
       "      <td>2019-03-14 06:02:55</td>\n",
       "      <td>False</td>\n",
       "      <td>28000.0</td>\n",
       "      <td>False</td>\n",
       "      <td>2019-01-23 07:02:55</td>\n",
       "      <td>28645.0</td>\n",
       "      <td>babalus-childrens-shoes</td>\n",
       "      <td>False</td>\n",
       "      <td>False</td>\n",
       "      <td>live</td>\n",
       "      <td>2019-01-23 07:02:55</td>\n",
       "      <td>1.000000</td>\n",
       "      <td>28645.000000</td>\n",
       "      <td>international</td>\n",
       "      <td>US</td>\n",
       "      <td>CA</td>\n",
       "      <td>Novato</td>\n",
       "      <td>Town</td>\n",
       "      <td>5</td>\n",
       "      <td>fashion</td>\n",
       "    </tr>\n",
       "    <tr>\n",
       "      <th>1</th>\n",
       "      <td>47</td>\n",
       "      <td>1950</td>\n",
       "      <td>US</td>\n",
       "      <td>2017-08-02 16:28:13</td>\n",
       "      <td>USD</td>\n",
       "      <td>2017-09-09 19:00:59</td>\n",
       "      <td>False</td>\n",
       "      <td>1000.0</td>\n",
       "      <td>False</td>\n",
       "      <td>2017-08-10 19:00:59</td>\n",
       "      <td>1950.0</td>\n",
       "      <td>the-ofrenda-oracle-deck</td>\n",
       "      <td>True</td>\n",
       "      <td>False</td>\n",
       "      <td>successful</td>\n",
       "      <td>2017-09-09 19:00:59</td>\n",
       "      <td>1.000000</td>\n",
       "      <td>1950.000000</td>\n",
       "      <td>domestic</td>\n",
       "      <td>US</td>\n",
       "      <td>TX</td>\n",
       "      <td>Euless</td>\n",
       "      <td>Town</td>\n",
       "      <td>4</td>\n",
       "      <td>games</td>\n",
       "    </tr>\n",
       "    <tr>\n",
       "      <th>2</th>\n",
       "      <td>271</td>\n",
       "      <td>22404</td>\n",
       "      <td>US</td>\n",
       "      <td>2012-09-30 08:45:33</td>\n",
       "      <td>USD</td>\n",
       "      <td>2013-06-12 07:03:15</td>\n",
       "      <td>False</td>\n",
       "      <td>15000.0</td>\n",
       "      <td>False</td>\n",
       "      <td>2013-05-13 07:03:15</td>\n",
       "      <td>22404.0</td>\n",
       "      <td>record-electras-debut-album-pop-rock-classical</td>\n",
       "      <td>True</td>\n",
       "      <td>False</td>\n",
       "      <td>successful</td>\n",
       "      <td>2013-06-12 07:03:15</td>\n",
       "      <td>1.000000</td>\n",
       "      <td>22404.000000</td>\n",
       "      <td>international</td>\n",
       "      <td>US</td>\n",
       "      <td>CA</td>\n",
       "      <td>Hollywood</td>\n",
       "      <td>Suburb</td>\n",
       "      <td>17</td>\n",
       "      <td>music</td>\n",
       "    </tr>\n",
       "    <tr>\n",
       "      <th>3</th>\n",
       "      <td>3</td>\n",
       "      <td>165</td>\n",
       "      <td>GB</td>\n",
       "      <td>2017-01-07 10:11:11</td>\n",
       "      <td>USD</td>\n",
       "      <td>2017-03-13 18:22:56</td>\n",
       "      <td>False</td>\n",
       "      <td>10000.0</td>\n",
       "      <td>False</td>\n",
       "      <td>2017-01-12 19:22:56</td>\n",
       "      <td>136.0</td>\n",
       "      <td>the-mist-of-tribunal-a-card-game</td>\n",
       "      <td>False</td>\n",
       "      <td>False</td>\n",
       "      <td>failed</td>\n",
       "      <td>2017-03-13 18:22:56</td>\n",
       "      <td>1.216066</td>\n",
       "      <td>165.384934</td>\n",
       "      <td>domestic</td>\n",
       "      <td>LT</td>\n",
       "      <td>Kaunas County</td>\n",
       "      <td>Kaunas</td>\n",
       "      <td>Town</td>\n",
       "      <td>4</td>\n",
       "      <td>games</td>\n",
       "    </tr>\n",
       "    <tr>\n",
       "      <th>4</th>\n",
       "      <td>3</td>\n",
       "      <td>2820</td>\n",
       "      <td>US</td>\n",
       "      <td>2012-12-06 19:04:31</td>\n",
       "      <td>USD</td>\n",
       "      <td>2013-01-09 21:32:07</td>\n",
       "      <td>False</td>\n",
       "      <td>2800.0</td>\n",
       "      <td>False</td>\n",
       "      <td>2012-12-10 21:32:07</td>\n",
       "      <td>2820.0</td>\n",
       "      <td>help-change-the-face-of-brain-impairment</td>\n",
       "      <td>True</td>\n",
       "      <td>False</td>\n",
       "      <td>successful</td>\n",
       "      <td>2013-01-09 21:32:07</td>\n",
       "      <td>1.000000</td>\n",
       "      <td>2820.000000</td>\n",
       "      <td>domestic</td>\n",
       "      <td>US</td>\n",
       "      <td>MI</td>\n",
       "      <td>Traverse City</td>\n",
       "      <td>Town</td>\n",
       "      <td>9</td>\n",
       "      <td>publishing</td>\n",
       "    </tr>\n",
       "  </tbody>\n",
       "</table>\n",
       "</div>"
      ],
      "text/plain": [
       "   backers_count  converted_pledged_amount country          created_at  \\\n",
       "0            315                     28645      US 2018-11-06 00:06:45   \n",
       "1             47                      1950      US 2017-08-02 16:28:13   \n",
       "2            271                     22404      US 2012-09-30 08:45:33   \n",
       "3              3                       165      GB 2017-01-07 10:11:11   \n",
       "4              3                      2820      US 2012-12-06 19:04:31   \n",
       "\n",
       "  current_currency            deadline  disable_communication     goal  \\\n",
       "0              USD 2019-03-14 06:02:55                  False  28000.0   \n",
       "1              USD 2017-09-09 19:00:59                  False   1000.0   \n",
       "2              USD 2013-06-12 07:03:15                  False  15000.0   \n",
       "3              USD 2017-03-13 18:22:56                  False  10000.0   \n",
       "4              USD 2013-01-09 21:32:07                  False   2800.0   \n",
       "\n",
       "   is_starrable         launched_at  pledged  \\\n",
       "0         False 2019-01-23 07:02:55  28645.0   \n",
       "1         False 2017-08-10 19:00:59   1950.0   \n",
       "2         False 2013-05-13 07:03:15  22404.0   \n",
       "3         False 2017-01-12 19:22:56    136.0   \n",
       "4         False 2012-12-10 21:32:07   2820.0   \n",
       "\n",
       "                                             slug  spotlight  staff_pick  \\\n",
       "0                         babalus-childrens-shoes      False       False   \n",
       "1                         the-ofrenda-oracle-deck       True       False   \n",
       "2  record-electras-debut-album-pop-rock-classical       True       False   \n",
       "3                the-mist-of-tribunal-a-card-game      False       False   \n",
       "4        help-change-the-face-of-brain-impairment       True       False   \n",
       "\n",
       "        state    state_changed_at  static_usd_rate   usd_pledged  \\\n",
       "0        live 2019-01-23 07:02:55         1.000000  28645.000000   \n",
       "1  successful 2017-09-09 19:00:59         1.000000   1950.000000   \n",
       "2  successful 2013-06-12 07:03:15         1.000000  22404.000000   \n",
       "3      failed 2017-03-13 18:22:56         1.216066    165.384934   \n",
       "4  successful 2013-01-09 21:32:07         1.000000   2820.000000   \n",
       "\n",
       "        usd_type loc_country      loc_state           city    type  position  \\\n",
       "0  international          US             CA         Novato    Town         5   \n",
       "1       domestic          US             TX         Euless    Town         4   \n",
       "2  international          US             CA      Hollywood  Suburb        17   \n",
       "3       domestic          LT  Kaunas County         Kaunas    Town         4   \n",
       "4       domestic          US             MI  Traverse City    Town         9   \n",
       "\n",
       "     category  \n",
       "0     fashion  \n",
       "1       games  \n",
       "2       music  \n",
       "3       games  \n",
       "4  publishing  "
      ]
     },
     "execution_count": 153,
     "metadata": {},
     "output_type": "execute_result"
    }
   ],
   "source": [
    "df.head(5)"
   ]
  },
  {
   "cell_type": "markdown",
   "metadata": {},
   "source": [
    "**STEP 4** -> Understanding the dataset:"
   ]
  },
  {
   "cell_type": "code",
   "execution_count": 154,
   "metadata": {},
   "outputs": [
    {
     "data": {
      "text/plain": [
       "film & video    27678\n",
       "music           27378\n",
       "technology      21165\n",
       "art             20647\n",
       "publishing      20245\n",
       "food            16248\n",
       "games           14035\n",
       "fashion         12074\n",
       "design           8889\n",
       "comics           8805\n",
       "photography      8119\n",
       "crafts           7211\n",
       "theater          6868\n",
       "journalism       5817\n",
       "dance            4043\n",
       "Name: category, dtype: int64"
      ]
     },
     "execution_count": 154,
     "metadata": {},
     "output_type": "execute_result"
    }
   ],
   "source": [
    "df['category'].value_counts()"
   ]
  },
  {
   "cell_type": "code",
   "execution_count": 155,
   "metadata": {},
   "outputs": [
    {
     "data": {
      "text/plain": [
       "array(['live', 'successful', 'failed', 'canceled', 'suspended'],\n",
       "      dtype=object)"
      ]
     },
     "execution_count": 155,
     "metadata": {},
     "output_type": "execute_result"
    }
   ],
   "source": [
    "df['state'].unique()"
   ]
  },
  {
   "cell_type": "code",
   "execution_count": 156,
   "metadata": {},
   "outputs": [
    {
     "data": {
      "text/plain": [
       "successful    117465\n",
       "failed         75199\n",
       "canceled        8624\n",
       "live            7311\n",
       "suspended        623\n",
       "Name: state, dtype: int64"
      ]
     },
     "execution_count": 156,
     "metadata": {},
     "output_type": "execute_result"
    }
   ],
   "source": [
    "df['state'].value_counts()"
   ]
  },
  {
   "cell_type": "code",
   "execution_count": 158,
   "metadata": {},
   "outputs": [],
   "source": [
    "df.drop(df[df['state']== 'live'].index, inplace = True)\n",
    "\n",
    "#df.drop(df[df['state']== 'canceled'].index, inplace = True)\n",
    "#df.drop(df[df['state']== 'suspended'].index, inplace = True)"
   ]
  },
  {
   "cell_type": "code",
   "execution_count": 159,
   "metadata": {},
   "outputs": [
    {
     "data": {
      "text/plain": [
       "successful    117465\n",
       "failed         75199\n",
       "canceled        8624\n",
       "suspended        623\n",
       "Name: state, dtype: int64"
      ]
     },
     "execution_count": 159,
     "metadata": {},
     "output_type": "execute_result"
    }
   ],
   "source": [
    "df['state'].value_counts()"
   ]
  },
  {
   "cell_type": "markdown",
   "metadata": {},
   "source": [
    "**STEP 5** -> Saved new csv file after the dataframe was cleaned and adjusted:"
   ]
  },
  {
   "cell_type": "code",
   "execution_count": 160,
   "metadata": {},
   "outputs": [],
   "source": [
    "df.to_csv('data/df_cleaned_for_ML.csv',index=False)"
   ]
  },
  {
   "cell_type": "code",
   "execution_count": null,
   "metadata": {},
   "outputs": [],
   "source": []
  },
  {
   "cell_type": "markdown",
   "metadata": {},
   "source": [
    "---\n",
    "### <span style=\"color:navy\">__Plotting__"
   ]
  },
  {
   "cell_type": "code",
   "execution_count": null,
   "metadata": {},
   "outputs": [],
   "source": []
  }
 ],
 "metadata": {
  "kernelspec": {
   "display_name": "Python 3 (ipykernel)",
   "language": "python",
   "name": "python3"
  },
  "language_info": {
   "codemirror_mode": {
    "name": "ipython",
    "version": 3
   },
   "file_extension": ".py",
   "mimetype": "text/x-python",
   "name": "python",
   "nbconvert_exporter": "python",
   "pygments_lexer": "ipython3",
   "version": "3.9.8"
  },
  "vscode": {
   "interpreter": {
    "hash": "73872533fea0d9378bff65e2ec9c1a2d14bc25ca78114f0e9c45ae8ccb550c5a"
   }
  }
 },
 "nbformat": 4,
 "nbformat_minor": 4
}
