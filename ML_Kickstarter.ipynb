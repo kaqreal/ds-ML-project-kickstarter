{
 "cells": [
  {
   "attachments": {},
   "cell_type": "markdown",
   "metadata": {},
   "source": [
    "\n",
    "# <span style=\"color:green\">__Machine Learning for the Kickstarter Challenge__\n",
    "----\n"
   ]
  },
  {
   "attachments": {},
   "cell_type": "markdown",
   "metadata": {
    "id": "ozsULGIG5Wlt"
   },
   "source": [
    "\n",
    "## <span style=\"color:navy\">__Set-up and Import__"
   ]
  },
  {
   "cell_type": "code",
   "execution_count": 41,
   "metadata": {
    "id": "vklPgSsF2ZHH"
   },
   "outputs": [],
   "source": [
    "# Import necessary libraries\n",
    "import numpy as np\n",
    "import pandas as pd\n",
    "import matplotlib.pyplot as plt\n",
    "import seaborn as sns\n",
    "#import missingno as msno\n",
    "import warnings\n",
    "warnings.filterwarnings(\"ignore\")\n",
    "from datetime import datetime, timezone\n",
    "import json\n",
    "\n",
    "# Libraries for data import\n",
    "import os\n",
    "import glob\n",
    "\n",
    "# Preprocessing\n",
    "#from imblearn.over_sampling import RandomOverSampler\n",
    "from sklearn.preprocessing import MinMaxScaler\n",
    "from sklearn.preprocessing import OneHotEncoder, StandardScaler\n",
    "\n",
    "from sklearn.model_selection import train_test_split, GridSearchCV, cross_validate, cross_val_predict\n",
    "from sklearn.linear_model import LogisticRegression\n",
    "from sklearn.svm import SVC\n",
    "from sklearn.neighbors import KNeighborsClassifier\n",
    "from sklearn.tree import DecisionTreeClassifier\n",
    "\n",
    "from sklearn.metrics import plot_confusion_matrix, recall_score, accuracy_score, precision_score\n",
    "from sklearn.metrics import classification_report, confusion_matrix, roc_curve\n",
    "from sklearn.metrics import fbeta_score, make_scorer\n",
    "\n",
    "\n",
    "# Define a plotting style to be used for all plots in this notebook\n",
    "plt.style.use('tableau-colorblind10')"
   ]
  },
  {
   "cell_type": "markdown",
   "metadata": {},
   "source": [
    "We will import the data from the database using sqlalchemy. After we imported the data we can directly save it as a .csv file so we don't have to run the query every time we want to execute the notebook."
   ]
  },
  {
   "cell_type": "code",
   "execution_count": 42,
   "metadata": {},
   "outputs": [],
   "source": [
    "df = pd.read_csv('data/df_cleaned_for_ML.csv')"
   ]
  },
  {
   "cell_type": "code",
   "execution_count": 43,
   "metadata": {},
   "outputs": [
    {
     "data": {
      "text/html": [
       "<div>\n",
       "<style scoped>\n",
       "    .dataframe tbody tr th:only-of-type {\n",
       "        vertical-align: middle;\n",
       "    }\n",
       "\n",
       "    .dataframe tbody tr th {\n",
       "        vertical-align: top;\n",
       "    }\n",
       "\n",
       "    .dataframe thead th {\n",
       "        text-align: right;\n",
       "    }\n",
       "</style>\n",
       "<table border=\"1\" class=\"dataframe\">\n",
       "  <thead>\n",
       "    <tr style=\"text-align: right;\">\n",
       "      <th></th>\n",
       "      <th>backers_count</th>\n",
       "      <th>category</th>\n",
       "      <th>country</th>\n",
       "      <th>created_at</th>\n",
       "      <th>deadline</th>\n",
       "      <th>id</th>\n",
       "      <th>is_starrable</th>\n",
       "      <th>launched_at</th>\n",
       "      <th>staff_pick</th>\n",
       "      <th>state</th>\n",
       "      <th>...</th>\n",
       "      <th>creation_to_launch_days</th>\n",
       "      <th>campaign_days</th>\n",
       "      <th>launch_day</th>\n",
       "      <th>deadline_day</th>\n",
       "      <th>launch_month</th>\n",
       "      <th>deadline_month</th>\n",
       "      <th>launch_time</th>\n",
       "      <th>deadline_time</th>\n",
       "      <th>pledge_per_backer</th>\n",
       "      <th>percent_pledged</th>\n",
       "    </tr>\n",
       "  </thead>\n",
       "  <tbody>\n",
       "    <tr>\n",
       "      <th>0</th>\n",
       "      <td>47</td>\n",
       "      <td>games</td>\n",
       "      <td>US</td>\n",
       "      <td>2017-08-02 16:28:13</td>\n",
       "      <td>2017-09-09 19:00:59</td>\n",
       "      <td>928751314</td>\n",
       "      <td>False</td>\n",
       "      <td>2017-08-10 19:00:59</td>\n",
       "      <td>False</td>\n",
       "      <td>successful</td>\n",
       "      <td>...</td>\n",
       "      <td>8</td>\n",
       "      <td>1</td>\n",
       "      <td>10</td>\n",
       "      <td>9</td>\n",
       "      <td>0</td>\n",
       "      <td>0</td>\n",
       "      <td>19</td>\n",
       "      <td>19</td>\n",
       "      <td>41.49</td>\n",
       "      <td>195.00</td>\n",
       "    </tr>\n",
       "    <tr>\n",
       "      <th>1</th>\n",
       "      <td>271</td>\n",
       "      <td>music</td>\n",
       "      <td>US</td>\n",
       "      <td>2012-09-30 08:45:33</td>\n",
       "      <td>2013-06-12 07:03:15</td>\n",
       "      <td>928014092</td>\n",
       "      <td>False</td>\n",
       "      <td>2013-05-13 07:03:15</td>\n",
       "      <td>False</td>\n",
       "      <td>successful</td>\n",
       "      <td>...</td>\n",
       "      <td>17</td>\n",
       "      <td>1</td>\n",
       "      <td>13</td>\n",
       "      <td>12</td>\n",
       "      <td>3</td>\n",
       "      <td>3</td>\n",
       "      <td>7</td>\n",
       "      <td>7</td>\n",
       "      <td>82.67</td>\n",
       "      <td>149.36</td>\n",
       "    </tr>\n",
       "    <tr>\n",
       "      <th>2</th>\n",
       "      <td>3</td>\n",
       "      <td>games</td>\n",
       "      <td>GB</td>\n",
       "      <td>2017-01-07 10:11:11</td>\n",
       "      <td>2017-03-13 18:22:56</td>\n",
       "      <td>596091328</td>\n",
       "      <td>False</td>\n",
       "      <td>2017-01-12 19:22:56</td>\n",
       "      <td>False</td>\n",
       "      <td>failed</td>\n",
       "      <td>...</td>\n",
       "      <td>5</td>\n",
       "      <td>1</td>\n",
       "      <td>12</td>\n",
       "      <td>13</td>\n",
       "      <td>22</td>\n",
       "      <td>22</td>\n",
       "      <td>19</td>\n",
       "      <td>18</td>\n",
       "      <td>55.13</td>\n",
       "      <td>1.36</td>\n",
       "    </tr>\n",
       "    <tr>\n",
       "      <th>3</th>\n",
       "      <td>3</td>\n",
       "      <td>publishing</td>\n",
       "      <td>US</td>\n",
       "      <td>2012-12-06 19:04:31</td>\n",
       "      <td>2013-01-09 21:32:07</td>\n",
       "      <td>998516049</td>\n",
       "      <td>False</td>\n",
       "      <td>2012-12-10 21:32:07</td>\n",
       "      <td>False</td>\n",
       "      <td>successful</td>\n",
       "      <td>...</td>\n",
       "      <td>4</td>\n",
       "      <td>1</td>\n",
       "      <td>10</td>\n",
       "      <td>9</td>\n",
       "      <td>32</td>\n",
       "      <td>32</td>\n",
       "      <td>21</td>\n",
       "      <td>21</td>\n",
       "      <td>940.00</td>\n",
       "      <td>100.71</td>\n",
       "    </tr>\n",
       "    <tr>\n",
       "      <th>4</th>\n",
       "      <td>35</td>\n",
       "      <td>music</td>\n",
       "      <td>US</td>\n",
       "      <td>2014-10-24 19:35:50</td>\n",
       "      <td>2015-05-02 04:25:46</td>\n",
       "      <td>1224600291</td>\n",
       "      <td>False</td>\n",
       "      <td>2015-04-02 04:25:46</td>\n",
       "      <td>False</td>\n",
       "      <td>successful</td>\n",
       "      <td>...</td>\n",
       "      <td>22</td>\n",
       "      <td>0</td>\n",
       "      <td>2</td>\n",
       "      <td>2</td>\n",
       "      <td>25</td>\n",
       "      <td>25</td>\n",
       "      <td>4</td>\n",
       "      <td>4</td>\n",
       "      <td>106.43</td>\n",
       "      <td>106.43</td>\n",
       "    </tr>\n",
       "  </tbody>\n",
       "</table>\n",
       "<p>5 rows × 25 columns</p>\n",
       "</div>"
      ],
      "text/plain": [
       "   backers_count    category country           created_at  \\\n",
       "0             47       games      US  2017-08-02 16:28:13   \n",
       "1            271       music      US  2012-09-30 08:45:33   \n",
       "2              3       games      GB  2017-01-07 10:11:11   \n",
       "3              3  publishing      US  2012-12-06 19:04:31   \n",
       "4             35       music      US  2014-10-24 19:35:50   \n",
       "\n",
       "              deadline          id  is_starrable          launched_at  \\\n",
       "0  2017-09-09 19:00:59   928751314         False  2017-08-10 19:00:59   \n",
       "1  2013-06-12 07:03:15   928014092         False  2013-05-13 07:03:15   \n",
       "2  2017-03-13 18:22:56   596091328         False  2017-01-12 19:22:56   \n",
       "3  2013-01-09 21:32:07   998516049         False  2012-12-10 21:32:07   \n",
       "4  2015-05-02 04:25:46  1224600291         False  2015-04-02 04:25:46   \n",
       "\n",
       "   staff_pick       state  ...  creation_to_launch_days  campaign_days  \\\n",
       "0       False  successful  ...                        8              1   \n",
       "1       False  successful  ...                       17              1   \n",
       "2       False      failed  ...                        5              1   \n",
       "3       False  successful  ...                        4              1   \n",
       "4       False  successful  ...                       22              0   \n",
       "\n",
       "  launch_day  deadline_day  launch_month  deadline_month  launch_time  \\\n",
       "0         10             9             0               0           19   \n",
       "1         13            12             3               3            7   \n",
       "2         12            13            22              22           19   \n",
       "3         10             9            32              32           21   \n",
       "4          2             2            25              25            4   \n",
       "\n",
       "   deadline_time  pledge_per_backer  percent_pledged  \n",
       "0             19              41.49           195.00  \n",
       "1              7              82.67           149.36  \n",
       "2             18              55.13             1.36  \n",
       "3             21             940.00           100.71  \n",
       "4              4             106.43           106.43  \n",
       "\n",
       "[5 rows x 25 columns]"
      ]
     },
     "execution_count": 43,
     "metadata": {},
     "output_type": "execute_result"
    }
   ],
   "source": [
    "df.head()"
   ]
  },
  {
   "cell_type": "code",
   "execution_count": 44,
   "metadata": {},
   "outputs": [
    {
     "data": {
      "text/plain": [
       "backers_count                int64\n",
       "category                    object\n",
       "country                     object\n",
       "created_at                  object\n",
       "deadline                    object\n",
       "id                           int64\n",
       "is_starrable                  bool\n",
       "launched_at                 object\n",
       "staff_pick                    bool\n",
       "state                       object\n",
       "usd_pledged                float64\n",
       "blurb_length                 int64\n",
       "sub_category                object\n",
       "usd_goal                   float64\n",
       "name_length                  int64\n",
       "creation_to_launch_days      int64\n",
       "campaign_days                int64\n",
       "launch_day                   int64\n",
       "deadline_day                 int64\n",
       "launch_month                 int64\n",
       "deadline_month               int64\n",
       "launch_time                  int64\n",
       "deadline_time                int64\n",
       "pledge_per_backer          float64\n",
       "percent_pledged            float64\n",
       "dtype: object"
      ]
     },
     "execution_count": 44,
     "metadata": {},
     "output_type": "execute_result"
    }
   ],
   "source": [
    "df.dtypes"
   ]
  },
  {
   "attachments": {},
   "cell_type": "markdown",
   "metadata": {
    "id": "9mWtOyY96pDc"
   },
   "source": [
    "---\n",
    "## <span style=\"color:navy\">__The Data__\n",
    "Before starting to build and train a model we have to explore and also further clean the data."
   ]
  },
  {
   "cell_type": "code",
   "execution_count": 45,
   "metadata": {
    "colab": {
     "base_uri": "https://localhost:8080/",
     "height": 85
    },
    "id": "3T7NCX_82yDc",
    "outputId": "19691026-fa97-4891-c574-60563597c369"
   },
   "outputs": [
    {
     "name": "stdout",
     "output_type": "stream",
     "text": [
      "Kickstarter dataset\n",
      "==================\n",
      "# observations: 192664\n",
      "# features:     24\n"
     ]
    }
   ],
   "source": [
    "#Print the shape of the data\n",
    "print('Kickstarter dataset')\n",
    "print('==================')\n",
    "print('# observations: {}'.format(df.shape[0]))\n",
    "print('# features:     {}'.format(df.shape[1]-1))"
   ]
  },
  {
   "attachments": {},
   "cell_type": "markdown",
   "metadata": {
    "id": "_YX1QCGc9e2_"
   },
   "source": [
    "As we can see, the dataset contains 192.664 observations and 24 columns from which the last column defines the label, i.e. the test result. \n",
    "Thus, we have 24 independent features.\n",
    "\n",
    "Let us take a look at the single variables included in the dataset:"
   ]
  },
  {
   "cell_type": "code",
   "execution_count": 46,
   "metadata": {
    "colab": {
     "base_uri": "https://localhost:8080/",
     "height": 289
    },
    "id": "8rEjxUTP6d-f",
    "outputId": "201b5141-d18e-47a7-b904-ee1ff9a623b4"
   },
   "outputs": [
    {
     "name": "stdout",
     "output_type": "stream",
     "text": [
      "<class 'pandas.core.frame.DataFrame'>\n",
      "RangeIndex: 192664 entries, 0 to 192663\n",
      "Data columns (total 25 columns):\n",
      " #   Column                   Non-Null Count   Dtype  \n",
      "---  ------                   --------------   -----  \n",
      " 0   backers_count            192664 non-null  int64  \n",
      " 1   category                 192664 non-null  object \n",
      " 2   country                  192664 non-null  object \n",
      " 3   created_at               192664 non-null  object \n",
      " 4   deadline                 192664 non-null  object \n",
      " 5   id                       192664 non-null  int64  \n",
      " 6   is_starrable             192664 non-null  bool   \n",
      " 7   launched_at              192664 non-null  object \n",
      " 8   staff_pick               192664 non-null  bool   \n",
      " 9   state                    192664 non-null  object \n",
      " 10  usd_pledged              192664 non-null  float64\n",
      " 11  blurb_length             192664 non-null  int64  \n",
      " 12  sub_category             192664 non-null  object \n",
      " 13  usd_goal                 192664 non-null  float64\n",
      " 14  name_length              192664 non-null  int64  \n",
      " 15  creation_to_launch_days  192664 non-null  int64  \n",
      " 16  campaign_days            192664 non-null  int64  \n",
      " 17  launch_day               192664 non-null  int64  \n",
      " 18  deadline_day             192664 non-null  int64  \n",
      " 19  launch_month             192664 non-null  int64  \n",
      " 20  deadline_month           192664 non-null  int64  \n",
      " 21  launch_time              192664 non-null  int64  \n",
      " 22  deadline_time            192664 non-null  int64  \n",
      " 23  pledge_per_backer        192664 non-null  float64\n",
      " 24  percent_pledged          192664 non-null  float64\n",
      "dtypes: bool(2), float64(4), int64(12), object(7)\n",
      "memory usage: 34.2+ MB\n"
     ]
    }
   ],
   "source": [
    "df.info()"
   ]
  },
  {
   "cell_type": "code",
   "execution_count": 47,
   "metadata": {},
   "outputs": [
    {
     "data": {
      "text/html": [
       "<div>\n",
       "<style scoped>\n",
       "    .dataframe tbody tr th:only-of-type {\n",
       "        vertical-align: middle;\n",
       "    }\n",
       "\n",
       "    .dataframe tbody tr th {\n",
       "        vertical-align: top;\n",
       "    }\n",
       "\n",
       "    .dataframe thead th {\n",
       "        text-align: right;\n",
       "    }\n",
       "</style>\n",
       "<table border=\"1\" class=\"dataframe\">\n",
       "  <thead>\n",
       "    <tr style=\"text-align: right;\">\n",
       "      <th></th>\n",
       "      <th>backers_count</th>\n",
       "      <th>id</th>\n",
       "      <th>usd_pledged</th>\n",
       "      <th>blurb_length</th>\n",
       "      <th>usd_goal</th>\n",
       "      <th>name_length</th>\n",
       "      <th>creation_to_launch_days</th>\n",
       "      <th>campaign_days</th>\n",
       "      <th>launch_day</th>\n",
       "      <th>deadline_day</th>\n",
       "      <th>launch_month</th>\n",
       "      <th>deadline_month</th>\n",
       "      <th>launch_time</th>\n",
       "      <th>deadline_time</th>\n",
       "      <th>pledge_per_backer</th>\n",
       "      <th>percent_pledged</th>\n",
       "    </tr>\n",
       "  </thead>\n",
       "  <tbody>\n",
       "    <tr>\n",
       "      <th>count</th>\n",
       "      <td>192664.000000</td>\n",
       "      <td>1.926640e+05</td>\n",
       "      <td>1.926640e+05</td>\n",
       "      <td>192664.000000</td>\n",
       "      <td>1.926640e+05</td>\n",
       "      <td>192664.000000</td>\n",
       "      <td>192664.000000</td>\n",
       "      <td>192664.000000</td>\n",
       "      <td>192664.000000</td>\n",
       "      <td>192664.000000</td>\n",
       "      <td>192664.000000</td>\n",
       "      <td>192664.000000</td>\n",
       "      <td>192664.000000</td>\n",
       "      <td>192664.000000</td>\n",
       "      <td>192664.000000</td>\n",
       "      <td>1.926640e+05</td>\n",
       "    </tr>\n",
       "    <tr>\n",
       "      <th>mean</th>\n",
       "      <td>152.563463</td>\n",
       "      <td>1.072715e+09</td>\n",
       "      <td>1.351672e+04</td>\n",
       "      <td>18.894781</td>\n",
       "      <td>3.778767e+04</td>\n",
       "      <td>5.767502</td>\n",
       "      <td>8.513988</td>\n",
       "      <td>5.835730</td>\n",
       "      <td>15.207781</td>\n",
       "      <td>15.205731</td>\n",
       "      <td>28.370495</td>\n",
       "      <td>26.813463</td>\n",
       "      <td>13.313167</td>\n",
       "      <td>12.238363</td>\n",
       "      <td>74.424624</td>\n",
       "      <td>5.131338e+02</td>\n",
       "    </tr>\n",
       "    <tr>\n",
       "      <th>std</th>\n",
       "      <td>898.347455</td>\n",
       "      <td>6.195476e+08</td>\n",
       "      <td>8.918397e+04</td>\n",
       "      <td>5.011409</td>\n",
       "      <td>1.065709e+06</td>\n",
       "      <td>2.705023</td>\n",
       "      <td>7.658024</td>\n",
       "      <td>7.772306</td>\n",
       "      <td>8.870334</td>\n",
       "      <td>9.072131</td>\n",
       "      <td>18.266883</td>\n",
       "      <td>20.869795</td>\n",
       "      <td>7.384585</td>\n",
       "      <td>7.593188</td>\n",
       "      <td>136.621628</td>\n",
       "      <td>2.531355e+04</td>\n",
       "    </tr>\n",
       "    <tr>\n",
       "      <th>min</th>\n",
       "      <td>0.000000</td>\n",
       "      <td>8.624000e+03</td>\n",
       "      <td>0.000000e+00</td>\n",
       "      <td>0.000000</td>\n",
       "      <td>1.000000e-02</td>\n",
       "      <td>1.000000</td>\n",
       "      <td>0.000000</td>\n",
       "      <td>0.000000</td>\n",
       "      <td>1.000000</td>\n",
       "      <td>1.000000</td>\n",
       "      <td>0.000000</td>\n",
       "      <td>0.000000</td>\n",
       "      <td>0.000000</td>\n",
       "      <td>0.000000</td>\n",
       "      <td>0.000000</td>\n",
       "      <td>0.000000e+00</td>\n",
       "    </tr>\n",
       "    <tr>\n",
       "      <th>25%</th>\n",
       "      <td>4.000000</td>\n",
       "      <td>5.347017e+08</td>\n",
       "      <td>1.500000e+02</td>\n",
       "      <td>16.000000</td>\n",
       "      <td>1.500000e+03</td>\n",
       "      <td>4.000000</td>\n",
       "      <td>2.000000</td>\n",
       "      <td>1.000000</td>\n",
       "      <td>8.000000</td>\n",
       "      <td>7.000000</td>\n",
       "      <td>12.000000</td>\n",
       "      <td>6.000000</td>\n",
       "      <td>6.000000</td>\n",
       "      <td>5.000000</td>\n",
       "      <td>22.750000</td>\n",
       "      <td>3.640000e+00</td>\n",
       "    </tr>\n",
       "    <tr>\n",
       "      <th>50%</th>\n",
       "      <td>30.000000</td>\n",
       "      <td>1.074132e+09</td>\n",
       "      <td>1.772000e+03</td>\n",
       "      <td>20.000000</td>\n",
       "      <td>5.000000e+03</td>\n",
       "      <td>6.000000</td>\n",
       "      <td>6.000000</td>\n",
       "      <td>1.000000</td>\n",
       "      <td>15.000000</td>\n",
       "      <td>15.000000</td>\n",
       "      <td>28.000000</td>\n",
       "      <td>26.000000</td>\n",
       "      <td>16.000000</td>\n",
       "      <td>14.000000</td>\n",
       "      <td>47.710000</td>\n",
       "      <td>1.030000e+02</td>\n",
       "    </tr>\n",
       "    <tr>\n",
       "      <th>75%</th>\n",
       "      <td>94.250000</td>\n",
       "      <td>1.608192e+09</td>\n",
       "      <td>7.096622e+03</td>\n",
       "      <td>22.000000</td>\n",
       "      <td>1.244704e+04</td>\n",
       "      <td>8.000000</td>\n",
       "      <td>13.000000</td>\n",
       "      <td>10.000000</td>\n",
       "      <td>23.000000</td>\n",
       "      <td>23.000000</td>\n",
       "      <td>44.000000</td>\n",
       "      <td>46.000000</td>\n",
       "      <td>19.000000</td>\n",
       "      <td>19.000000</td>\n",
       "      <td>86.200000</td>\n",
       "      <td>1.288000e+02</td>\n",
       "    </tr>\n",
       "    <tr>\n",
       "      <th>max</th>\n",
       "      <td>105857.000000</td>\n",
       "      <td>2.147476e+09</td>\n",
       "      <td>8.596475e+06</td>\n",
       "      <td>35.000000</td>\n",
       "      <td>1.523501e+08</td>\n",
       "      <td>27.000000</td>\n",
       "      <td>30.000000</td>\n",
       "      <td>30.000000</td>\n",
       "      <td>31.000000</td>\n",
       "      <td>31.000000</td>\n",
       "      <td>59.000000</td>\n",
       "      <td>59.000000</td>\n",
       "      <td>23.000000</td>\n",
       "      <td>23.000000</td>\n",
       "      <td>10000.000000</td>\n",
       "      <td>6.876410e+06</td>\n",
       "    </tr>\n",
       "  </tbody>\n",
       "</table>\n",
       "</div>"
      ],
      "text/plain": [
       "       backers_count            id   usd_pledged   blurb_length      usd_goal  \\\n",
       "count  192664.000000  1.926640e+05  1.926640e+05  192664.000000  1.926640e+05   \n",
       "mean      152.563463  1.072715e+09  1.351672e+04      18.894781  3.778767e+04   \n",
       "std       898.347455  6.195476e+08  8.918397e+04       5.011409  1.065709e+06   \n",
       "min         0.000000  8.624000e+03  0.000000e+00       0.000000  1.000000e-02   \n",
       "25%         4.000000  5.347017e+08  1.500000e+02      16.000000  1.500000e+03   \n",
       "50%        30.000000  1.074132e+09  1.772000e+03      20.000000  5.000000e+03   \n",
       "75%        94.250000  1.608192e+09  7.096622e+03      22.000000  1.244704e+04   \n",
       "max    105857.000000  2.147476e+09  8.596475e+06      35.000000  1.523501e+08   \n",
       "\n",
       "         name_length  creation_to_launch_days  campaign_days     launch_day  \\\n",
       "count  192664.000000            192664.000000  192664.000000  192664.000000   \n",
       "mean        5.767502                 8.513988       5.835730      15.207781   \n",
       "std         2.705023                 7.658024       7.772306       8.870334   \n",
       "min         1.000000                 0.000000       0.000000       1.000000   \n",
       "25%         4.000000                 2.000000       1.000000       8.000000   \n",
       "50%         6.000000                 6.000000       1.000000      15.000000   \n",
       "75%         8.000000                13.000000      10.000000      23.000000   \n",
       "max        27.000000                30.000000      30.000000      31.000000   \n",
       "\n",
       "        deadline_day   launch_month  deadline_month    launch_time  \\\n",
       "count  192664.000000  192664.000000   192664.000000  192664.000000   \n",
       "mean       15.205731      28.370495       26.813463      13.313167   \n",
       "std         9.072131      18.266883       20.869795       7.384585   \n",
       "min         1.000000       0.000000        0.000000       0.000000   \n",
       "25%         7.000000      12.000000        6.000000       6.000000   \n",
       "50%        15.000000      28.000000       26.000000      16.000000   \n",
       "75%        23.000000      44.000000       46.000000      19.000000   \n",
       "max        31.000000      59.000000       59.000000      23.000000   \n",
       "\n",
       "       deadline_time  pledge_per_backer  percent_pledged  \n",
       "count  192664.000000      192664.000000     1.926640e+05  \n",
       "mean       12.238363          74.424624     5.131338e+02  \n",
       "std         7.593188         136.621628     2.531355e+04  \n",
       "min         0.000000           0.000000     0.000000e+00  \n",
       "25%         5.000000          22.750000     3.640000e+00  \n",
       "50%        14.000000          47.710000     1.030000e+02  \n",
       "75%        19.000000          86.200000     1.288000e+02  \n",
       "max        23.000000       10000.000000     6.876410e+06  "
      ]
     },
     "execution_count": 47,
     "metadata": {},
     "output_type": "execute_result"
    }
   ],
   "source": [
    "df.describe()"
   ]
  },
  {
   "cell_type": "code",
   "execution_count": 48,
   "metadata": {},
   "outputs": [
    {
     "data": {
      "text/plain": [
       "backers_count              0\n",
       "category                   0\n",
       "country                    0\n",
       "created_at                 0\n",
       "deadline                   0\n",
       "id                         0\n",
       "is_starrable               0\n",
       "launched_at                0\n",
       "staff_pick                 0\n",
       "state                      0\n",
       "usd_pledged                0\n",
       "blurb_length               0\n",
       "sub_category               0\n",
       "usd_goal                   0\n",
       "name_length                0\n",
       "creation_to_launch_days    0\n",
       "campaign_days              0\n",
       "launch_day                 0\n",
       "deadline_day               0\n",
       "launch_month               0\n",
       "deadline_month             0\n",
       "launch_time                0\n",
       "deadline_time              0\n",
       "pledge_per_backer          0\n",
       "percent_pledged            0\n",
       "dtype: int64"
      ]
     },
     "execution_count": 48,
     "metadata": {},
     "output_type": "execute_result"
    }
   ],
   "source": [
    "df.isnull().sum()"
   ]
  },
  {
   "cell_type": "markdown",
   "metadata": {
    "id": "O5NCIVat7Pfl"
   },
   "source": [
    "From the output above we could assume that the data is already rather clean with no missing values, but the summary we get with `.describe()` should make us wonder... We definitely have to check if in our case maybe missing values are represented by zeros. Before we have a closer look at the data and try to impute values, we will split our data into train and test set to make sure our test data will be not \"contaminated\" by information from the train data and vice versa."
   ]
  },
  {
   "cell_type": "code",
   "execution_count": 49,
   "metadata": {},
   "outputs": [
    {
     "data": {
      "text/html": [
       "<div>\n",
       "<style scoped>\n",
       "    .dataframe tbody tr th:only-of-type {\n",
       "        vertical-align: middle;\n",
       "    }\n",
       "\n",
       "    .dataframe tbody tr th {\n",
       "        vertical-align: top;\n",
       "    }\n",
       "\n",
       "    .dataframe thead th {\n",
       "        text-align: right;\n",
       "    }\n",
       "</style>\n",
       "<table border=\"1\" class=\"dataframe\">\n",
       "  <thead>\n",
       "    <tr style=\"text-align: right;\">\n",
       "      <th></th>\n",
       "      <th>category</th>\n",
       "      <th>country</th>\n",
       "      <th>is_starrable</th>\n",
       "      <th>staff_pick</th>\n",
       "      <th>state</th>\n",
       "      <th>blurb_length</th>\n",
       "      <th>usd_goal</th>\n",
       "      <th>name_length</th>\n",
       "      <th>creation_to_launch_days</th>\n",
       "      <th>campaign_days</th>\n",
       "      <th>launch_day</th>\n",
       "      <th>deadline_day</th>\n",
       "      <th>launch_month</th>\n",
       "      <th>deadline_month</th>\n",
       "      <th>launch_time</th>\n",
       "      <th>deadline_time</th>\n",
       "    </tr>\n",
       "  </thead>\n",
       "  <tbody>\n",
       "    <tr>\n",
       "      <th>0</th>\n",
       "      <td>games</td>\n",
       "      <td>US</td>\n",
       "      <td>False</td>\n",
       "      <td>False</td>\n",
       "      <td>successful</td>\n",
       "      <td>22</td>\n",
       "      <td>1000.00</td>\n",
       "      <td>4</td>\n",
       "      <td>8</td>\n",
       "      <td>1</td>\n",
       "      <td>10</td>\n",
       "      <td>9</td>\n",
       "      <td>0</td>\n",
       "      <td>0</td>\n",
       "      <td>19</td>\n",
       "      <td>19</td>\n",
       "    </tr>\n",
       "    <tr>\n",
       "      <th>1</th>\n",
       "      <td>music</td>\n",
       "      <td>US</td>\n",
       "      <td>False</td>\n",
       "      <td>False</td>\n",
       "      <td>successful</td>\n",
       "      <td>15</td>\n",
       "      <td>15000.00</td>\n",
       "      <td>7</td>\n",
       "      <td>17</td>\n",
       "      <td>1</td>\n",
       "      <td>13</td>\n",
       "      <td>12</td>\n",
       "      <td>3</td>\n",
       "      <td>3</td>\n",
       "      <td>7</td>\n",
       "      <td>7</td>\n",
       "    </tr>\n",
       "    <tr>\n",
       "      <th>2</th>\n",
       "      <td>games</td>\n",
       "      <td>GB</td>\n",
       "      <td>False</td>\n",
       "      <td>False</td>\n",
       "      <td>failed</td>\n",
       "      <td>23</td>\n",
       "      <td>12160.66</td>\n",
       "      <td>8</td>\n",
       "      <td>5</td>\n",
       "      <td>1</td>\n",
       "      <td>12</td>\n",
       "      <td>13</td>\n",
       "      <td>22</td>\n",
       "      <td>22</td>\n",
       "      <td>19</td>\n",
       "      <td>18</td>\n",
       "    </tr>\n",
       "    <tr>\n",
       "      <th>3</th>\n",
       "      <td>publishing</td>\n",
       "      <td>US</td>\n",
       "      <td>False</td>\n",
       "      <td>False</td>\n",
       "      <td>successful</td>\n",
       "      <td>24</td>\n",
       "      <td>2800.00</td>\n",
       "      <td>7</td>\n",
       "      <td>4</td>\n",
       "      <td>1</td>\n",
       "      <td>10</td>\n",
       "      <td>9</td>\n",
       "      <td>32</td>\n",
       "      <td>32</td>\n",
       "      <td>21</td>\n",
       "      <td>21</td>\n",
       "    </tr>\n",
       "    <tr>\n",
       "      <th>4</th>\n",
       "      <td>music</td>\n",
       "      <td>US</td>\n",
       "      <td>False</td>\n",
       "      <td>False</td>\n",
       "      <td>successful</td>\n",
       "      <td>18</td>\n",
       "      <td>3500.00</td>\n",
       "      <td>4</td>\n",
       "      <td>22</td>\n",
       "      <td>0</td>\n",
       "      <td>2</td>\n",
       "      <td>2</td>\n",
       "      <td>25</td>\n",
       "      <td>25</td>\n",
       "      <td>4</td>\n",
       "      <td>4</td>\n",
       "    </tr>\n",
       "  </tbody>\n",
       "</table>\n",
       "</div>"
      ],
      "text/plain": [
       "     category country  is_starrable  staff_pick       state  blurb_length  \\\n",
       "0       games      US         False       False  successful            22   \n",
       "1       music      US         False       False  successful            15   \n",
       "2       games      GB         False       False      failed            23   \n",
       "3  publishing      US         False       False  successful            24   \n",
       "4       music      US         False       False  successful            18   \n",
       "\n",
       "   usd_goal  name_length  creation_to_launch_days  campaign_days  launch_day  \\\n",
       "0   1000.00            4                        8              1          10   \n",
       "1  15000.00            7                       17              1          13   \n",
       "2  12160.66            8                        5              1          12   \n",
       "3   2800.00            7                        4              1          10   \n",
       "4   3500.00            4                       22              0           2   \n",
       "\n",
       "   deadline_day  launch_month  deadline_month  launch_time  deadline_time  \n",
       "0             9             0               0           19             19  \n",
       "1            12             3               3            7              7  \n",
       "2            13            22              22           19             18  \n",
       "3             9            32              32           21             21  \n",
       "4             2            25              25            4              4  "
      ]
     },
     "execution_count": 49,
     "metadata": {},
     "output_type": "execute_result"
    }
   ],
   "source": [
    "# Dropping columns and creating new dataframe\n",
    "df = df.drop(['id', 'backers_count', 'created_at', 'deadline', 'launched_at', 'usd_pledged', 'pledge_per_backer', 'percent_pledged', 'sub_category'], axis=1)\n",
    "df.head()"
   ]
  },
  {
   "cell_type": "code",
   "execution_count": 50,
   "metadata": {},
   "outputs": [
    {
     "data": {
      "image/png": "[encoded data removed]",
      "text/plain": [
       "<Figure size 1100x900 with 2 Axes>"
      ]
     },
     "metadata": {},
     "output_type": "display_data"
    }
   ],
   "source": [
    "# Set the style of the visualization\n",
    "sns.set(style=\"white\")\n",
    "\n",
    "# Create a covariance matrix\n",
    "corr = df.corr()\n",
    "\n",
    "# Generate a mask the size of our covariance matrix\n",
    "mask = np.zeros_like(corr, dtype=np.bool)\n",
    "mask[np.triu_indices_from(mask)] = True\n",
    "\n",
    "# Set up the matplotlib figure\n",
    "f, ax = plt.subplots(figsize = (11,9))\n",
    "\n",
    "# Generate a custom diverging colormap\n",
    "cmap = sns.diverging_palette(220, 10, as_cmap=True)\n",
    "\n",
    "# Draw the heatmap with the mask and correct aspect ratio\n",
    "sns.heatmap(corr, mask=mask, cmap=cmap, center=0, square=True, linewidths=.5, cbar_kws={\"shrink\": .5});\n"
   ]
  },
  {
   "attachments": {},
   "cell_type": "markdown",
   "metadata": {},
   "source": [
    "> The dependent variable will now be converted into 1s (successful) and 0s (failure):"
   ]
  },
  {
   "cell_type": "code",
   "execution_count": 51,
   "metadata": {},
   "outputs": [],
   "source": [
    "df['state'] = df['state'].replace({'failed': 0, 'successful': 1})"
   ]
  },
  {
   "cell_type": "code",
   "execution_count": 52,
   "metadata": {},
   "outputs": [
    {
     "data": {
      "text/plain": [
       "category                    object\n",
       "country                     object\n",
       "is_starrable                  bool\n",
       "staff_pick                    bool\n",
       "state                        int64\n",
       "blurb_length                 int64\n",
       "usd_goal                   float64\n",
       "name_length                  int64\n",
       "creation_to_launch_days      int64\n",
       "campaign_days                int64\n",
       "launch_day                   int64\n",
       "deadline_day                 int64\n",
       "launch_month                 int64\n",
       "deadline_month               int64\n",
       "launch_time                  int64\n",
       "deadline_time                int64\n",
       "dtype: object"
      ]
     },
     "execution_count": 52,
     "metadata": {},
     "output_type": "execute_result"
    }
   ],
   "source": [
    "df.dtypes"
   ]
  },
  {
   "cell_type": "code",
   "execution_count": 53,
   "metadata": {},
   "outputs": [],
   "source": [
    "df['staff_pick'] = df['staff_pick'].astype(str)\n",
    "df['is_starrable'] = df['is_starrable'].astype(str)\n"
   ]
  },
  {
   "cell_type": "code",
   "execution_count": 54,
   "metadata": {},
   "outputs": [
    {
     "data": {
      "text/html": [
       "<div>\n",
       "<style scoped>\n",
       "    .dataframe tbody tr th:only-of-type {\n",
       "        vertical-align: middle;\n",
       "    }\n",
       "\n",
       "    .dataframe tbody tr th {\n",
       "        vertical-align: top;\n",
       "    }\n",
       "\n",
       "    .dataframe thead th {\n",
       "        text-align: right;\n",
       "    }\n",
       "</style>\n",
       "<table border=\"1\" class=\"dataframe\">\n",
       "  <thead>\n",
       "    <tr style=\"text-align: right;\">\n",
       "      <th></th>\n",
       "      <th>category</th>\n",
       "      <th>country</th>\n",
       "      <th>is_starrable</th>\n",
       "      <th>staff_pick</th>\n",
       "      <th>state</th>\n",
       "      <th>blurb_length</th>\n",
       "      <th>usd_goal</th>\n",
       "      <th>name_length</th>\n",
       "      <th>creation_to_launch_days</th>\n",
       "      <th>campaign_days</th>\n",
       "      <th>launch_day</th>\n",
       "      <th>deadline_day</th>\n",
       "      <th>launch_month</th>\n",
       "      <th>deadline_month</th>\n",
       "      <th>launch_time</th>\n",
       "      <th>deadline_time</th>\n",
       "    </tr>\n",
       "  </thead>\n",
       "  <tbody>\n",
       "    <tr>\n",
       "      <th>0</th>\n",
       "      <td>games</td>\n",
       "      <td>US</td>\n",
       "      <td>False</td>\n",
       "      <td>False</td>\n",
       "      <td>1</td>\n",
       "      <td>22</td>\n",
       "      <td>1000.00</td>\n",
       "      <td>4</td>\n",
       "      <td>8</td>\n",
       "      <td>1</td>\n",
       "      <td>10</td>\n",
       "      <td>9</td>\n",
       "      <td>0</td>\n",
       "      <td>0</td>\n",
       "      <td>19</td>\n",
       "      <td>19</td>\n",
       "    </tr>\n",
       "    <tr>\n",
       "      <th>1</th>\n",
       "      <td>music</td>\n",
       "      <td>US</td>\n",
       "      <td>False</td>\n",
       "      <td>False</td>\n",
       "      <td>1</td>\n",
       "      <td>15</td>\n",
       "      <td>15000.00</td>\n",
       "      <td>7</td>\n",
       "      <td>17</td>\n",
       "      <td>1</td>\n",
       "      <td>13</td>\n",
       "      <td>12</td>\n",
       "      <td>3</td>\n",
       "      <td>3</td>\n",
       "      <td>7</td>\n",
       "      <td>7</td>\n",
       "    </tr>\n",
       "    <tr>\n",
       "      <th>2</th>\n",
       "      <td>games</td>\n",
       "      <td>GB</td>\n",
       "      <td>False</td>\n",
       "      <td>False</td>\n",
       "      <td>0</td>\n",
       "      <td>23</td>\n",
       "      <td>12160.66</td>\n",
       "      <td>8</td>\n",
       "      <td>5</td>\n",
       "      <td>1</td>\n",
       "      <td>12</td>\n",
       "      <td>13</td>\n",
       "      <td>22</td>\n",
       "      <td>22</td>\n",
       "      <td>19</td>\n",
       "      <td>18</td>\n",
       "    </tr>\n",
       "    <tr>\n",
       "      <th>3</th>\n",
       "      <td>publishing</td>\n",
       "      <td>US</td>\n",
       "      <td>False</td>\n",
       "      <td>False</td>\n",
       "      <td>1</td>\n",
       "      <td>24</td>\n",
       "      <td>2800.00</td>\n",
       "      <td>7</td>\n",
       "      <td>4</td>\n",
       "      <td>1</td>\n",
       "      <td>10</td>\n",
       "      <td>9</td>\n",
       "      <td>32</td>\n",
       "      <td>32</td>\n",
       "      <td>21</td>\n",
       "      <td>21</td>\n",
       "    </tr>\n",
       "    <tr>\n",
       "      <th>4</th>\n",
       "      <td>music</td>\n",
       "      <td>US</td>\n",
       "      <td>False</td>\n",
       "      <td>False</td>\n",
       "      <td>1</td>\n",
       "      <td>18</td>\n",
       "      <td>3500.00</td>\n",
       "      <td>4</td>\n",
       "      <td>22</td>\n",
       "      <td>0</td>\n",
       "      <td>2</td>\n",
       "      <td>2</td>\n",
       "      <td>25</td>\n",
       "      <td>25</td>\n",
       "      <td>4</td>\n",
       "      <td>4</td>\n",
       "    </tr>\n",
       "  </tbody>\n",
       "</table>\n",
       "</div>"
      ],
      "text/plain": [
       "     category country is_starrable staff_pick  state  blurb_length  usd_goal  \\\n",
       "0       games      US        False      False      1            22   1000.00   \n",
       "1       music      US        False      False      1            15  15000.00   \n",
       "2       games      GB        False      False      0            23  12160.66   \n",
       "3  publishing      US        False      False      1            24   2800.00   \n",
       "4       music      US        False      False      1            18   3500.00   \n",
       "\n",
       "   name_length  creation_to_launch_days  campaign_days  launch_day  \\\n",
       "0            4                        8              1          10   \n",
       "1            7                       17              1          13   \n",
       "2            8                        5              1          12   \n",
       "3            7                        4              1          10   \n",
       "4            4                       22              0           2   \n",
       "\n",
       "   deadline_day  launch_month  deadline_month  launch_time  deadline_time  \n",
       "0             9             0               0           19             19  \n",
       "1            12             3               3            7              7  \n",
       "2            13            22              22           19             18  \n",
       "3             9            32              32           21             21  \n",
       "4             2            25              25            4              4  "
      ]
     },
     "execution_count": 54,
     "metadata": {},
     "output_type": "execute_result"
    }
   ],
   "source": [
    "df.head(5)"
   ]
  },
  {
   "cell_type": "code",
   "execution_count": 55,
   "metadata": {},
   "outputs": [
    {
     "data": {
      "text/plain": [
       "['category', 'country', 'is_starrable', 'staff_pick']"
      ]
     },
     "execution_count": 55,
     "metadata": {},
     "output_type": "execute_result"
    }
   ],
   "source": [
    "# Creating list for categorical predictors/features \n",
    "\n",
    "cat_features = list(df.columns[df.dtypes==object])\n",
    "cat_features"
   ]
  },
  {
   "cell_type": "code",
   "execution_count": 56,
   "metadata": {},
   "outputs": [
    {
     "data": {
      "text/plain": [
       "['blurb_length',\n",
       " 'usd_goal',\n",
       " 'name_length',\n",
       " 'creation_to_launch_days',\n",
       " 'campaign_days',\n",
       " 'launch_day',\n",
       " 'deadline_day',\n",
       " 'launch_month',\n",
       " 'deadline_month',\n",
       " 'launch_time',\n",
       " 'deadline_time']"
      ]
     },
     "execution_count": 56,
     "metadata": {},
     "output_type": "execute_result"
    }
   ],
   "source": [
    "# Creating list for numerical predictors/features\n",
    "# Since 'state' is our target variable we will exclude this feature from this list of numerical predictors \n",
    "num_features = list(df.columns[df.dtypes!=object])\n",
    "num_features.remove('state')\n",
    "num_features\n"
   ]
  },
  {
   "attachments": {},
   "cell_type": "markdown",
   "metadata": {},
   "source": [
    "---\n",
    "## <span style=\"color:navy\">__Train-Test-Split__\n",
    "\n",
    "Let's split the data set into a training and test set. Using the training set and cross validation we will train our model and find the best hyperparameter combination. In the end the test set will be used for the final evaluation of our best model."
   ]
  },
  {
   "cell_type": "code",
   "execution_count": 57,
   "metadata": {},
   "outputs": [
    {
     "name": "stdout",
     "output_type": "stream",
     "text": [
      "We have 192664 observations in our dataset and 15 features\n",
      "Our target vector has also 192664 values\n"
     ]
    }
   ],
   "source": [
    "# Define predictors and target variable\n",
    "X = df.drop('state', axis=1)\n",
    "y = df['state']\n",
    "print(f\"We have {X.shape[0]} observations in our dataset and {X.shape[1]} features\")\n",
    "print(f\"Our target vector has also {y.shape[0]} values\")"
   ]
  },
  {
   "cell_type": "code",
   "execution_count": 58,
   "metadata": {},
   "outputs": [],
   "source": [
    "# Split into train and test set \n",
    "RSEED =42\n",
    "X_train, X_test, y_train, y_test = train_test_split(X, y, test_size=0.25, random_state=RSEED, stratify=y)"
   ]
  },
  {
   "cell_type": "code",
   "execution_count": 59,
   "metadata": {},
   "outputs": [
    {
     "name": "stdout",
     "output_type": "stream",
     "text": [
      "X_train shape: (144498, 15)\n",
      "X_test shape: (48166, 15)\n",
      "y_train shape: (144498,)\n",
      "y_test shape: (48166,)\n"
     ]
    }
   ],
   "source": [
    "print('X_train shape:', X_train.shape)\n",
    "print('X_test shape:', X_test.shape)\n",
    "print('y_train shape:', y_train.shape)\n",
    "print('y_test shape:', y_test.shape)"
   ]
  },
  {
   "attachments": {},
   "cell_type": "markdown",
   "metadata": {},
   "source": [
    "---\n",
    "## <span style=\"color:navy\">__Baseline Model__"
   ]
  },
  {
   "cell_type": "code",
   "execution_count": 60,
   "metadata": {},
   "outputs": [
    {
     "data": {
      "text/html": [
       "<div>\n",
       "<style scoped>\n",
       "    .dataframe tbody tr th:only-of-type {\n",
       "        vertical-align: middle;\n",
       "    }\n",
       "\n",
       "    .dataframe tbody tr th {\n",
       "        vertical-align: top;\n",
       "    }\n",
       "\n",
       "    .dataframe thead th {\n",
       "        text-align: right;\n",
       "    }\n",
       "</style>\n",
       "<table border=\"1\" class=\"dataframe\">\n",
       "  <thead>\n",
       "    <tr style=\"text-align: right;\">\n",
       "      <th></th>\n",
       "      <th>usd_goal</th>\n",
       "    </tr>\n",
       "  </thead>\n",
       "  <tbody>\n",
       "    <tr>\n",
       "      <th>141673</th>\n",
       "      <td>1</td>\n",
       "    </tr>\n",
       "    <tr>\n",
       "      <th>73410</th>\n",
       "      <td>0</td>\n",
       "    </tr>\n",
       "    <tr>\n",
       "      <th>91050</th>\n",
       "      <td>1</td>\n",
       "    </tr>\n",
       "    <tr>\n",
       "      <th>177006</th>\n",
       "      <td>0</td>\n",
       "    </tr>\n",
       "    <tr>\n",
       "      <th>91743</th>\n",
       "      <td>1</td>\n",
       "    </tr>\n",
       "    <tr>\n",
       "      <th>...</th>\n",
       "      <td>...</td>\n",
       "    </tr>\n",
       "    <tr>\n",
       "      <th>46000</th>\n",
       "      <td>1</td>\n",
       "    </tr>\n",
       "    <tr>\n",
       "      <th>25379</th>\n",
       "      <td>1</td>\n",
       "    </tr>\n",
       "    <tr>\n",
       "      <th>66211</th>\n",
       "      <td>1</td>\n",
       "    </tr>\n",
       "    <tr>\n",
       "      <th>158619</th>\n",
       "      <td>0</td>\n",
       "    </tr>\n",
       "    <tr>\n",
       "      <th>11157</th>\n",
       "      <td>0</td>\n",
       "    </tr>\n",
       "  </tbody>\n",
       "</table>\n",
       "<p>48166 rows × 1 columns</p>\n",
       "</div>"
      ],
      "text/plain": [
       "        usd_goal\n",
       "141673         1\n",
       "73410          0\n",
       "91050          1\n",
       "177006         0\n",
       "91743          1\n",
       "...          ...\n",
       "46000          1\n",
       "25379          1\n",
       "66211          1\n",
       "158619         0\n",
       "11157          0\n",
       "\n",
       "[48166 rows x 1 columns]"
      ]
     },
     "execution_count": 60,
     "metadata": {},
     "output_type": "execute_result"
    }
   ],
   "source": [
    "#simple model by campaign_days:\n",
    "# df_pclass = pd.DataFrame(df['usd_goal'])\n",
    "df_pclass = pd.DataFrame(X_test['usd_goal'])\n",
    "\n",
    "base_model_pred = df_pclass.applymap(lambda x: 0 if x >= 4000   else 1)\n",
    "\n",
    "base_model_pred"
   ]
  },
  {
   "cell_type": "code",
   "execution_count": 61,
   "metadata": {},
   "outputs": [],
   "source": [
    "f1_basemodel = f1_score(y_test, base_model_pred)"
   ]
  },
  {
   "cell_type": "code",
   "execution_count": 62,
   "metadata": {},
   "outputs": [
    {
     "data": {
      "text/plain": [
       "0.6040598248932394"
      ]
     },
     "execution_count": 62,
     "metadata": {},
     "output_type": "execute_result"
    }
   ],
   "source": [
    "f1_basemodel"
   ]
  },
  {
   "cell_type": "code",
   "execution_count": 63,
   "metadata": {},
   "outputs": [],
   "source": [
    "accuracy_base = accuracy_score(y_test, base_model_pred)\n",
    "recall_base = recall_score(y_test, base_model_pred)\n",
    "precision_base = precision_score(y_test, base_model_pred)\n",
    "f1_base = f1_score(y_test, base_model_pred)"
   ]
  },
  {
   "cell_type": "code",
   "execution_count": 64,
   "metadata": {},
   "outputs": [
    {
     "data": {
      "image/png": "[encoded data removed]",
      "text/plain": [
       "<Figure size 640x480 with 2 Axes>"
      ]
     },
     "metadata": {},
     "output_type": "display_data"
    }
   ],
   "source": [
    "cm = confusion_matrix(y_test, base_model_pred)\n",
    "sns.heatmap(cm, cmap=\"YlGnBu_r\", annot=True, fmt=\".0f\");"
   ]
  },
  {
   "attachments": {},
   "cell_type": "markdown",
   "metadata": {},
   "source": [
    "---\n",
    "## <span style=\"color:navy\">__Preprocessing Pipeline__\n",
    "\n",
    "\n",
    "Building a Pipeline always follows the same syntax. In our case we create one pipeline for our numerical features and one for our categorical features.\n",
    "\n",
    "The missing values of the numerical features should be filled with the median value of the features and in the end, each feature should be scaled using the StandardScaler.\n",
    "\n",
    "The missing values of the categorical features should be changed to \"missing\". In the end, we encode all categorical features as a one-hot numeric array.\n",
    "\n",
    "In the end both pipelines are combined into one pipeline called \"preprocessor\" using ColumnTransformer from scikit-learn."
   ]
  },
  {
   "cell_type": "code",
   "execution_count": 65,
   "metadata": {},
   "outputs": [
    {
     "name": "stderr",
     "output_type": "stream",
     "text": [
      "WARNING: pip is being invoked by an old script wrapper. This will fail in a future version of pip.\n",
      "Please see https://github.com/pypa/pip/issues/5599 for advice on fixing the underlying issue.\n",
      "To avoid this problem you can invoke Python with '-m pip' instead of running pip directly.\n"
     ]
    },
    {
     "data": {
      "text/html": [
       "<pre style=\"white-space:pre;overflow-x:auto;line-height:normal;font-family:Menlo,'DejaVu Sans Mono',consolas,'Courier New',monospace\">Requirement already satisfied: xgboost in ./.venv/lib/python3.9/site-packages (1.7.3)\n",
       "</pre>\n"
      ],
      "text/plain": [
       "Requirement already satisfied: xgboost in ./.venv/lib/python3.9/site-packages (1.7.3)\n"
      ]
     },
     "metadata": {},
     "output_type": "display_data"
    },
    {
     "data": {
      "text/html": [
       "<pre style=\"white-space:pre;overflow-x:auto;line-height:normal;font-family:Menlo,'DejaVu Sans Mono',consolas,'Courier New',monospace\">Requirement already satisfied: numpy in ./.venv/lib/python3.9/site-packages (from xgboost) (1.22.0)\n",
       "</pre>\n"
      ],
      "text/plain": [
       "Requirement already satisfied: numpy in ./.venv/lib/python3.9/site-packages (from xgboost) (1.22.0)\n"
      ]
     },
     "metadata": {},
     "output_type": "display_data"
    },
    {
     "data": {
      "text/html": [
       "<pre style=\"white-space:pre;overflow-x:auto;line-height:normal;font-family:Menlo,'DejaVu Sans Mono',consolas,'Courier New',monospace\">Requirement already satisfied: scipy in ./.venv/lib/python3.9/site-packages (from xgboost) (1.9.3)\n",
       "</pre>\n"
      ],
      "text/plain": [
       "Requirement already satisfied: scipy in ./.venv/lib/python3.9/site-packages (from xgboost) (1.9.3)\n"
      ]
     },
     "metadata": {},
     "output_type": "display_data"
    }
   ],
   "source": [
    "# Import of relevant packages\n",
    "import numpy as np\n",
    "import pandas as pd\n",
    "import warnings\n",
    "import matplotlib.pyplot as plt\n",
    "import seaborn as sns\n",
    "\n",
    "from sklearn.pipeline import Pipeline\n",
    "from sklearn.compose import ColumnTransformer\n",
    "from sklearn.preprocessing import OneHotEncoder, StandardScaler\n",
    "from sklearn.impute import SimpleImputer\n",
    "from sklearn.model_selection import train_test_split\n",
    "from sklearn.model_selection import GridSearchCV, RandomizedSearchCV\n",
    "from sklearn.model_selection import cross_val_predict, cross_val_score, cross_validate\n",
    "from sklearn.metrics import roc_curve, confusion_matrix, accuracy_score, recall_score, precision_score, f1_score\n",
    "\n",
    "from sklearn.linear_model import LogisticRegression\n",
    "from sklearn.ensemble import RandomForestClassifier\n",
    "\n",
    "# Set random seed \n",
    "RSEED = 42\n",
    "warnings.filterwarnings(\"ignore\")\n",
    "\n",
    "import pip\n",
    "pip.main(['install', 'xgboost'])\n",
    "import xgboost as xgb\n",
    "from xgboost import XGBClassifier"
   ]
  },
  {
   "cell_type": "code",
   "execution_count": 66,
   "metadata": {},
   "outputs": [],
   "source": [
    "# Pipeline for numerical features\n",
    "# Initiating Pipeline and calling one step after another\n",
    "# each step is built as a list of (key, value)\n",
    "# key is the name of the processing step\n",
    "# value is an estimator object (processing step)\n",
    "\n",
    "num_pipeline = Pipeline([\n",
    "    ('imputer_num', SimpleImputer(strategy='median')),\n",
    "    ('std_scaler', StandardScaler())\n",
    "])\n",
    "\n",
    "# Pipeline for categorical features \n",
    "cat_pipeline = Pipeline([\n",
    "    ('imputer_cat', SimpleImputer(strategy='constant', fill_value='missing')),\n",
    "    ('1hot', OneHotEncoder(handle_unknown='ignore'))\n",
    "])"
   ]
  },
  {
   "cell_type": "code",
   "execution_count": 67,
   "metadata": {},
   "outputs": [],
   "source": [
    "#from sklearn.compose import ColumnTransformer\n",
    "\n",
    "# Complete pipeline for numerical and categorical features\n",
    "# 'ColumnTranformer' applies transformers (num_pipeline/ cat_pipeline)\n",
    "# to specific columns of an array or DataFrame (num_features/cat_features)\n",
    "preprocessor = ColumnTransformer([\n",
    "    ('num', num_pipeline, num_features),\n",
    "    ('cat', cat_pipeline, cat_features)\n",
    "])"
   ]
  },
  {
   "attachments": {},
   "cell_type": "markdown",
   "metadata": {},
   "source": [
    "---\n",
    "## <span style=\"color:navy\">__Predictive Modelling using Pipelines__\n",
    "\n",
    "Now that we have a preprocessing pipeline we can add a model on top (this sequence will also be handled by a Pipeline) and see how it performs using cross validation.\n",
    "In [ ]:\n"
   ]
  },
  {
   "attachments": {},
   "cell_type": "markdown",
   "metadata": {},
   "source": [
    "### <span style=\"color:blue\">__1. Logistic Regression__"
   ]
  },
  {
   "cell_type": "code",
   "execution_count": 68,
   "metadata": {},
   "outputs": [],
   "source": [
    "# Building a full pipeline with our preprocessor and a LogisticRegression Classifier\n",
    "pipe_logreg = Pipeline([\n",
    "    ('preprocessor', preprocessor),\n",
    "    ('logreg', LogisticRegression(max_iter=1000))\n",
    "])"
   ]
  },
  {
   "attachments": {},
   "cell_type": "markdown",
   "metadata": {},
   "source": [
    "\n",
    "### <span style=\"color:blue\">__2. Random Forest__"
   ]
  },
  {
   "cell_type": "code",
   "execution_count": 69,
   "metadata": {},
   "outputs": [
    {
     "name": "stdout",
     "output_type": "stream",
     "text": [
      "Score: 0.77696\n"
     ]
    }
   ],
   "source": [
    "# Random Forests with default settings\n",
    "pipe_rf = Pipeline([\n",
    "    ('preprocessor', preprocessor),\n",
    "                    ('pipe_rf', RandomForestClassifier())])\n",
    "pipe_rf.fit(X_train, y_train)\n",
    "print(\"Score:\", round(pipe_rf.score(X_test, y_test),5))"
   ]
  },
  {
   "attachments": {},
   "cell_type": "markdown",
   "metadata": {},
   "source": [
    "\n",
    "### <span style=\"color:blue\">__3. XGBoost__"
   ]
  },
  {
   "cell_type": "code",
   "execution_count": 70,
   "metadata": {},
   "outputs": [
    {
     "name": "stdout",
     "output_type": "stream",
     "text": [
      "Score: 0.75584\n"
     ]
    }
   ],
   "source": [
    "# XGBoost with default settings\n",
    "pipe_xgb = Pipeline([\n",
    "    ('preprocessor', preprocessor),\n",
    "                    ('pipe_xgb', xgb.XGBClassifier())])\n",
    "pipe_xgb.fit(X_train, y_train)\n",
    "print(\"Score:\", round(pipe_xgb.score(X_test, y_test),5))"
   ]
  },
  {
   "attachments": {},
   "cell_type": "markdown",
   "metadata": {},
   "source": [
    "\n",
    "### <span style=\"color:black\">__> Predictions:__"
   ]
  },
  {
   "cell_type": "code",
   "execution_count": 71,
   "metadata": {},
   "outputs": [],
   "source": [
    "# Making predictions on the training set using cross validation as well as calculating the probabilities\n",
    "# cross_val_predict expects an estimator (model), X, y and nr of cv-splits (cv)\n",
    "y_train_predicted_logreg = cross_val_predict(pipe_logreg, X_train, y_train, cv=5)\n",
    "y_train_predicted_rf = cross_val_predict(pipe_rf, X_train, y_train, cv=5)\n",
    "y_train_predicted_xgb = cross_val_predict(pipe_xgb, X_train, y_train, cv=5)\n"
   ]
  },
  {
   "attachments": {},
   "cell_type": "markdown",
   "metadata": {},
   "source": [
    "\n",
    "### <span style=\"color:black\">__> Performance and Validation of the Models:__\n"
   ]
  },
  {
   "cell_type": "code",
   "execution_count": 77,
   "metadata": {},
   "outputs": [],
   "source": [
    "accuracy_logreg = accuracy_score(y_train, y_train_predicted_logreg)\n",
    "recall_logreg = recall_score(y_train, y_train_predicted_logreg)\n",
    "precision_logreg = precision_score(y_train, y_train_predicted_logreg)\n",
    "f1_logreg = f1_score(y_train, y_train_predicted_logreg)\n",
    "\n",
    "accuracy_rf = accuracy_score(y_train, y_train_predicted_rf)\n",
    "recall_rf = recall_score(y_train, y_train_predicted_rf)\n",
    "precision_rf = precision_score(y_train, y_train_predicted_rf)\n",
    "f1_rf = f1_score(y_train, y_train_predicted_rf)\n",
    "\n",
    "accuracy_xgb = accuracy_score(y_train, y_train_predicted_xgb)\n",
    "recall_xgb = recall_score(y_train, y_train_predicted_xgb)\n",
    "precision_xgb = precision_score(y_train, y_train_predicted_xgb)\n",
    "f1_xgb = f1_score(y_train, y_train_predicted_xgb)\n"
   ]
  },
  {
   "cell_type": "code",
   "execution_count": 78,
   "metadata": {},
   "outputs": [],
   "source": [
    "validation_scores = pd.DataFrame([['model','accuracy','recall','precision','f1'],['logreg',accuracy_logreg, recall_logreg,precision_logreg,f1_logreg],['random_forest',accuracy_rf,recall_rf,precision_rf ,f1_rf],['xgboost',accuracy_xgb,recall_xgb,precision_xgb ,f1_xgb]])"
   ]
  },
  {
   "cell_type": "code",
   "execution_count": 79,
   "metadata": {},
   "outputs": [
    {
     "data": {
      "text/html": [
       "<div>\n",
       "<style scoped>\n",
       "    .dataframe tbody tr th:only-of-type {\n",
       "        vertical-align: middle;\n",
       "    }\n",
       "\n",
       "    .dataframe tbody tr th {\n",
       "        vertical-align: top;\n",
       "    }\n",
       "\n",
       "    .dataframe thead th {\n",
       "        text-align: right;\n",
       "    }\n",
       "</style>\n",
       "<table border=\"1\" class=\"dataframe\">\n",
       "  <thead>\n",
       "    <tr style=\"text-align: right;\">\n",
       "      <th></th>\n",
       "      <th>0</th>\n",
       "      <th>1</th>\n",
       "      <th>2</th>\n",
       "      <th>3</th>\n",
       "      <th>4</th>\n",
       "    </tr>\n",
       "  </thead>\n",
       "  <tbody>\n",
       "    <tr>\n",
       "      <th>0</th>\n",
       "      <td>model</td>\n",
       "      <td>accuracy</td>\n",
       "      <td>recall</td>\n",
       "      <td>precision</td>\n",
       "      <td>f1</td>\n",
       "    </tr>\n",
       "    <tr>\n",
       "      <th>1</th>\n",
       "      <td>logreg</td>\n",
       "      <td>0.718259</td>\n",
       "      <td>0.856775</td>\n",
       "      <td>0.728764</td>\n",
       "      <td>0.787602</td>\n",
       "    </tr>\n",
       "    <tr>\n",
       "      <th>2</th>\n",
       "      <td>random_forest</td>\n",
       "      <td>0.770834</td>\n",
       "      <td>0.877229</td>\n",
       "      <td>0.776082</td>\n",
       "      <td>0.823561</td>\n",
       "    </tr>\n",
       "    <tr>\n",
       "      <th>3</th>\n",
       "      <td>xgboost</td>\n",
       "      <td>0.756094</td>\n",
       "      <td>0.858625</td>\n",
       "      <td>0.768482</td>\n",
       "      <td>0.811057</td>\n",
       "    </tr>\n",
       "  </tbody>\n",
       "</table>\n",
       "</div>"
      ],
      "text/plain": [
       "               0         1         2          3         4\n",
       "0          model  accuracy    recall  precision        f1\n",
       "1         logreg  0.718259  0.856775   0.728764  0.787602\n",
       "2  random_forest  0.770834  0.877229   0.776082  0.823561\n",
       "3        xgboost  0.756094  0.858625   0.768482  0.811057"
      ]
     },
     "execution_count": 79,
     "metadata": {},
     "output_type": "execute_result"
    }
   ],
   "source": [
    "validation_scores"
   ]
  },
  {
   "attachments": {},
   "cell_type": "markdown",
   "metadata": {},
   "source": [
    "---\n",
    "## <span style=\"color:navy\">__Optimizing via Grid Search__\n",
    "In order to optimize our model we will use gird search. At first we have to define a parameter space we want to search for the best parameter combination. Then we have to initiate our grid search via GridSearchCV. The last step is to use the fit method providing our training data as input."
   ]
  },
  {
   "cell_type": "code",
   "execution_count": 80,
   "metadata": {},
   "outputs": [],
   "source": [
    "# Defining parameter space for grid-search. Since we want to access the classifier step (called 'logreg') in our pipeline \n",
    "# we have to add 'logreg__' infront of the corresponding hyperparameters. \n",
    "param_logreg = {'logreg__penalty':('l1','l2'),\n",
    "                'logreg__C': [0.001, 0.01, 0.1, 1, 10],\n",
    "                'logreg__solver': ['liblinear', 'lbfgs', 'sag']\n",
    "               }\n",
    "\n",
    "grid_logreg = GridSearchCV(pipe_logreg, param_grid=param_logreg, cv=5, scoring='f1', \n",
    "                           verbose=5, n_jobs=-1)"
   ]
  },
  {
   "cell_type": "code",
   "execution_count": 81,
   "metadata": {},
   "outputs": [
    {
     "name": "stdout",
     "output_type": "stream",
     "text": [
      "Fitting 5 folds for each of 30 candidates, totalling 150 fits\n",
      "[CV 1/5] END logreg__C=0.001, logreg__penalty=l1, logreg__solver=lbfgs;, score=nan total time=   0.7s\n",
      "[CV 3/5] END logreg__C=0.001, logreg__penalty=l1, logreg__solver=lbfgs;, score=nan total time=   0.7s\n",
      "[CV 2/5] END logreg__C=0.001, logreg__penalty=l1, logreg__solver=lbfgs;, score=nan total time=   0.7s\n",
      "[CV 1/5] END logreg__C=0.001, logreg__penalty=l1, logreg__solver=liblinear;, score=0.768 total time=   0.9s\n",
      "[CV 4/5] END logreg__C=0.001, logreg__penalty=l1, logreg__solver=liblinear;, score=0.770 total time=   1.0s\n",
      "[CV 3/5] END logreg__C=0.001, logreg__penalty=l1, logreg__solver=liblinear;, score=0.769 total time=   1.1s\n",
      "[CV 2/5] END logreg__C=0.001, logreg__penalty=l1, logreg__solver=liblinear;, score=0.769 total time=   1.1s\n",
      "[CV 5/5] END logreg__C=0.001, logreg__penalty=l1, logreg__solver=liblinear;, score=0.765 total time=   1.2s\n",
      "[CV 5/5] END logreg__C=0.001, logreg__penalty=l1, logreg__solver=lbfgs;, score=nan total time=   0.5s\n",
      "[CV 1/5] END logreg__C=0.001, logreg__penalty=l1, logreg__solver=sag;, score=nan total time=   0.5s\n",
      "[CV 4/5] END logreg__C=0.001, logreg__penalty=l1, logreg__solver=lbfgs;, score=nan total time=   0.6s\n",
      "[CV 3/5] END logreg__C=0.001, logreg__penalty=l1, logreg__solver=sag;, score=nan total time=   0.5s\n",
      "[CV 2/5] END logreg__C=0.001, logreg__penalty=l1, logreg__solver=sag;, score=nan total time=   0.6s\n",
      "[CV 4/5] END logreg__C=0.001, logreg__penalty=l1, logreg__solver=sag;, score=nan total time=   0.5s\n",
      "[CV 5/5] END logreg__C=0.001, logreg__penalty=l1, logreg__solver=sag;, score=nan total time=   0.5s\n",
      "[CV 1/5] END logreg__C=0.001, logreg__penalty=l2, logreg__solver=liblinear;, score=0.776 total time=   1.1s\n",
      "[CV 5/5] END logreg__C=0.001, logreg__penalty=l2, logreg__solver=liblinear;, score=0.771 total time=   1.1s\n",
      "[CV 2/5] END logreg__C=0.001, logreg__penalty=l2, logreg__solver=liblinear;, score=0.776 total time=   1.3s\n",
      "[CV 3/5] END logreg__C=0.001, logreg__penalty=l2, logreg__solver=liblinear;, score=0.773 total time=   1.3s\n",
      "[CV 4/5] END logreg__C=0.001, logreg__penalty=l2, logreg__solver=liblinear;, score=0.776 total time=   1.3s\n",
      "[CV 2/5] END logreg__C=0.001, logreg__penalty=l2, logreg__solver=lbfgs;, score=0.777 total time=   1.4s\n",
      "[CV 1/5] END logreg__C=0.001, logreg__penalty=l2, logreg__solver=lbfgs;, score=0.776 total time=   1.4s\n",
      "[CV 3/5] END logreg__C=0.001, logreg__penalty=l2, logreg__solver=lbfgs;, score=0.773 total time=   1.4s\n",
      "[CV 4/5] END logreg__C=0.001, logreg__penalty=l2, logreg__solver=lbfgs;, score=0.776 total time=   1.4s\n",
      "[CV 1/5] END logreg__C=0.01, logreg__penalty=l1, logreg__solver=liblinear;, score=0.785 total time=   0.9s\n",
      "[CV 5/5] END logreg__C=0.001, logreg__penalty=l2, logreg__solver=lbfgs;, score=0.772 total time=   1.3s\n",
      "[CV 2/5] END logreg__C=0.01, logreg__penalty=l1, logreg__solver=liblinear;, score=0.787 total time=   1.0s\n",
      "[CV 3/5] END logreg__C=0.01, logreg__penalty=l1, logreg__solver=liblinear;, score=0.783 total time=   0.9s\n",
      "[CV 1/5] END logreg__C=0.01, logreg__penalty=l1, logreg__solver=lbfgs;, score=nan total time=   0.4s\n",
      "[CV 4/5] END logreg__C=0.01, logreg__penalty=l1, logreg__solver=liblinear;, score=0.787 total time=   1.4s\n",
      "[CV 2/5] END logreg__C=0.01, logreg__penalty=l1, logreg__solver=lbfgs;, score=nan total time=   0.4s\n",
      "[CV 3/5] END logreg__C=0.01, logreg__penalty=l1, logreg__solver=lbfgs;, score=nan total time=   0.4s\n",
      "[CV 5/5] END logreg__C=0.01, logreg__penalty=l1, logreg__solver=liblinear;, score=0.783 total time=   1.1s\n",
      "[CV 4/5] END logreg__C=0.01, logreg__penalty=l1, logreg__solver=lbfgs;, score=nan total time=   0.4s\n",
      "[CV 1/5] END logreg__C=0.01, logreg__penalty=l1, logreg__solver=sag;, score=nan total time=   0.4s\n",
      "[CV 5/5] END logreg__C=0.01, logreg__penalty=l1, logreg__solver=lbfgs;, score=nan total time=   0.4s\n",
      "[CV 2/5] END logreg__C=0.01, logreg__penalty=l1, logreg__solver=sag;, score=nan total time=   0.4s\n",
      "[CV 3/5] END logreg__C=0.01, logreg__penalty=l1, logreg__solver=sag;, score=nan total time=   0.4s\n",
      "[CV 4/5] END logreg__C=0.01, logreg__penalty=l1, logreg__solver=sag;, score=nan total time=   0.5s\n",
      "[CV 5/5] END logreg__C=0.01, logreg__penalty=l1, logreg__solver=sag;, score=nan total time=   0.4s\n",
      "[CV 1/5] END logreg__C=0.01, logreg__penalty=l2, logreg__solver=liblinear;, score=0.777 total time=   1.1s\n",
      "[CV 3/5] END logreg__C=0.01, logreg__penalty=l2, logreg__solver=liblinear;, score=0.774 total time=   1.1s\n",
      "[CV 2/5] END logreg__C=0.01, logreg__penalty=l2, logreg__solver=liblinear;, score=0.779 total time=   1.3s\n",
      "[CV 4/5] END logreg__C=0.01, logreg__penalty=l2, logreg__solver=liblinear;, score=0.777 total time=   1.0s\n",
      "[CV 5/5] END logreg__C=0.01, logreg__penalty=l2, logreg__solver=liblinear;, score=0.775 total time=   1.1s\n",
      "[CV 1/5] END logreg__C=0.01, logreg__penalty=l2, logreg__solver=lbfgs;, score=0.778 total time=   2.0s\n",
      "[CV 2/5] END logreg__C=0.01, logreg__penalty=l2, logreg__solver=lbfgs;, score=0.778 total time=   1.9s\n",
      "[CV 3/5] END logreg__C=0.01, logreg__penalty=l2, logreg__solver=lbfgs;, score=0.774 total time=   2.1s\n",
      "[CV 4/5] END logreg__C=0.01, logreg__penalty=l2, logreg__solver=lbfgs;, score=0.777 total time=   2.1s\n",
      "[CV 5/5] END logreg__C=0.01, logreg__penalty=l2, logreg__solver=lbfgs;, score=0.775 total time=   2.0s\n",
      "[CV 1/5] END logreg__C=0.01, logreg__penalty=l2, logreg__solver=sag;, score=0.777 total time=  13.7s\n",
      "[CV 2/5] END logreg__C=0.01, logreg__penalty=l2, logreg__solver=sag;, score=0.778 total time=  14.9s\n",
      "[CV 3/5] END logreg__C=0.01, logreg__penalty=l2, logreg__solver=sag;, score=0.774 total time=  17.1s\n",
      "[CV 1/5] END logreg__C=0.1, logreg__penalty=l1, logreg__solver=liblinear;, score=0.789 total time=   3.1s\n",
      "[CV 5/5] END logreg__C=0.01, logreg__penalty=l2, logreg__solver=sag;, score=0.775 total time=   8.5s\n",
      "[CV 2/5] END logreg__C=0.1, logreg__penalty=l1, logreg__solver=liblinear;, score=0.790 total time=   4.5s\n",
      "[CV 4/5] END logreg__C=0.1, logreg__penalty=l1, logreg__solver=liblinear;, score=0.790 total time=   1.4s\n",
      "[CV 3/5] END logreg__C=0.1, logreg__penalty=l1, logreg__solver=liblinear;, score=0.786 total time=   4.4s\n",
      "[CV 1/5] END logreg__C=0.1, logreg__penalty=l1, logreg__solver=lbfgs;, score=nan total time=   0.4s\n",
      "[CV 4/5] END logreg__C=0.01, logreg__penalty=l2, logreg__solver=sag;, score=0.777 total time=  15.8s\n",
      "[CV 2/5] END logreg__C=0.1, logreg__penalty=l1, logreg__solver=lbfgs;, score=nan total time=   0.4s\n",
      "[CV 3/5] END logreg__C=0.1, logreg__penalty=l1, logreg__solver=lbfgs;, score=nan total time=   0.4s\n",
      "[CV 4/5] END logreg__C=0.1, logreg__penalty=l1, logreg__solver=lbfgs;, score=nan total time=   0.4s\n",
      "[CV 5/5] END logreg__C=0.1, logreg__penalty=l1, logreg__solver=lbfgs;, score=nan total time=   0.4s\n",
      "[CV 1/5] END logreg__C=0.1, logreg__penalty=l1, logreg__solver=sag;, score=nan total time=   0.4s\n",
      "[CV 2/5] END logreg__C=0.1, logreg__penalty=l1, logreg__solver=sag;, score=nan total time=   0.4s\n",
      "[CV 3/5] END logreg__C=0.1, logreg__penalty=l1, logreg__solver=sag;, score=nan total time=   0.4s\n",
      "[CV 4/5] END logreg__C=0.1, logreg__penalty=l1, logreg__solver=sag;, score=nan total time=   0.4s\n",
      "[CV 5/5] END logreg__C=0.1, logreg__penalty=l1, logreg__solver=sag;, score=nan total time=   0.4s\n",
      "[CV 5/5] END logreg__C=0.1, logreg__penalty=l1, logreg__solver=liblinear;, score=0.786 total time=   4.2s\n",
      "[CV 1/5] END logreg__C=0.1, logreg__penalty=l2, logreg__solver=liblinear;, score=0.783 total time=   1.3s\n",
      "[CV 2/5] END logreg__C=0.1, logreg__penalty=l2, logreg__solver=liblinear;, score=0.785 total time=   1.7s\n",
      "[CV 3/5] END logreg__C=0.1, logreg__penalty=l2, logreg__solver=liblinear;, score=0.782 total time=   1.5s\n",
      "[CV 4/5] END logreg__C=0.1, logreg__penalty=l2, logreg__solver=liblinear;, score=0.785 total time=   1.9s\n",
      "[CV 5/5] END logreg__C=0.1, logreg__penalty=l2, logreg__solver=liblinear;, score=0.781 total time=   1.4s\n",
      "[CV 1/5] END logreg__C=0.1, logreg__penalty=l2, logreg__solver=lbfgs;, score=0.783 total time=   4.4s\n",
      "[CV 3/5] END logreg__C=0.1, logreg__penalty=l2, logreg__solver=lbfgs;, score=0.782 total time=   3.9s\n",
      "[CV 2/5] END logreg__C=0.1, logreg__penalty=l2, logreg__solver=lbfgs;, score=0.785 total time=   4.6s\n",
      "[CV 4/5] END logreg__C=0.1, logreg__penalty=l2, logreg__solver=lbfgs;, score=0.785 total time=   4.4s\n",
      "[CV 5/5] END logreg__C=0.1, logreg__penalty=l2, logreg__solver=lbfgs;, score=0.781 total time=   4.6s\n"
     ]
    },
    {
     "name": "stderr",
     "output_type": "stream",
     "text": [
      "/Users/karine_real/Neue_Fische/ml_project_kickstarter/.venv/lib/python3.9/site-packages/sklearn/linear_model/_sag.py:352: ConvergenceWarning: The max_iter was reached which means the coef_ did not converge\n",
      "  warnings.warn(\n"
     ]
    },
    {
     "name": "stdout",
     "output_type": "stream",
     "text": [
      "[CV 4/5] END logreg__C=0.001, logreg__penalty=l2, logreg__solver=sag;, score=0.776 total time= 1.4min\n"
     ]
    },
    {
     "name": "stderr",
     "output_type": "stream",
     "text": [
      "/Users/karine_real/Neue_Fische/ml_project_kickstarter/.venv/lib/python3.9/site-packages/sklearn/linear_model/_sag.py:352: ConvergenceWarning: The max_iter was reached which means the coef_ did not converge\n",
      "  warnings.warn(\n"
     ]
    },
    {
     "name": "stdout",
     "output_type": "stream",
     "text": [
      "[CV 1/5] END logreg__C=0.001, logreg__penalty=l2, logreg__solver=sag;, score=0.776 total time= 1.4min\n"
     ]
    },
    {
     "name": "stderr",
     "output_type": "stream",
     "text": [
      "/Users/karine_real/Neue_Fische/ml_project_kickstarter/.venv/lib/python3.9/site-packages/sklearn/linear_model/_sag.py:352: ConvergenceWarning: The max_iter was reached which means the coef_ did not converge\n",
      "  warnings.warn(\n"
     ]
    },
    {
     "name": "stdout",
     "output_type": "stream",
     "text": [
      "[CV 5/5] END logreg__C=0.001, logreg__penalty=l2, logreg__solver=sag;, score=0.772 total time= 1.4min\n"
     ]
    },
    {
     "name": "stderr",
     "output_type": "stream",
     "text": [
      "/Users/karine_real/Neue_Fische/ml_project_kickstarter/.venv/lib/python3.9/site-packages/sklearn/linear_model/_sag.py:352: ConvergenceWarning: The max_iter was reached which means the coef_ did not converge\n",
      "  warnings.warn(\n"
     ]
    },
    {
     "name": "stdout",
     "output_type": "stream",
     "text": [
      "[CV 2/5] END logreg__C=0.001, logreg__penalty=l2, logreg__solver=sag;, score=0.776 total time= 1.5min\n"
     ]
    },
    {
     "name": "stderr",
     "output_type": "stream",
     "text": [
      "/Users/karine_real/Neue_Fische/ml_project_kickstarter/.venv/lib/python3.9/site-packages/sklearn/linear_model/_sag.py:352: ConvergenceWarning: The max_iter was reached which means the coef_ did not converge\n",
      "  warnings.warn(\n"
     ]
    },
    {
     "name": "stdout",
     "output_type": "stream",
     "text": [
      "[CV 3/5] END logreg__C=0.001, logreg__penalty=l2, logreg__solver=sag;, score=0.773 total time= 1.5min\n",
      "[CV 2/5] END logreg__C=1, logreg__penalty=l1, logreg__solver=liblinear;, score=0.790 total time=   6.8s\n",
      "[CV 3/5] END logreg__C=1, logreg__penalty=l1, logreg__solver=liblinear;, score=0.787 total time=   9.3s\n",
      "[CV 4/5] END logreg__C=1, logreg__penalty=l1, logreg__solver=liblinear;, score=0.791 total time=   8.2s\n",
      "[CV 1/5] END logreg__C=1, logreg__penalty=l1, logreg__solver=lbfgs;, score=nan total time=   0.4s\n",
      "[CV 2/5] END logreg__C=1, logreg__penalty=l1, logreg__solver=lbfgs;, score=nan total time=   0.4s\n",
      "[CV 3/5] END logreg__C=1, logreg__penalty=l1, logreg__solver=lbfgs;, score=nan total time=   0.6s\n",
      "[CV 4/5] END logreg__C=1, logreg__penalty=l1, logreg__solver=lbfgs;, score=nan total time=   0.6s\n",
      "[CV 5/5] END logreg__C=1, logreg__penalty=l1, logreg__solver=lbfgs;, score=nan total time=   0.5s\n",
      "[CV 1/5] END logreg__C=1, logreg__penalty=l1, logreg__solver=liblinear;, score=0.789 total time=  18.3s\n",
      "[CV 1/5] END logreg__C=1, logreg__penalty=l1, logreg__solver=sag;, score=nan total time=   0.4s\n",
      "[CV 5/5] END logreg__C=1, logreg__penalty=l1, logreg__solver=liblinear;, score=0.787 total time=   8.4s\n",
      "[CV 2/5] END logreg__C=1, logreg__penalty=l1, logreg__solver=sag;, score=nan total time=   0.4s\n",
      "[CV 3/5] END logreg__C=1, logreg__penalty=l1, logreg__solver=sag;, score=nan total time=   0.4s\n",
      "[CV 4/5] END logreg__C=1, logreg__penalty=l1, logreg__solver=sag;, score=nan total time=   0.7s\n",
      "[CV 5/5] END logreg__C=1, logreg__penalty=l1, logreg__solver=sag;, score=nan total time=   0.5s\n",
      "[CV 1/5] END logreg__C=1, logreg__penalty=l2, logreg__solver=liblinear;, score=0.787 total time=   2.3s\n",
      "[CV 2/5] END logreg__C=1, logreg__penalty=l2, logreg__solver=liblinear;, score=0.789 total time=   2.4s\n",
      "[CV 3/5] END logreg__C=1, logreg__penalty=l2, logreg__solver=liblinear;, score=0.786 total time=   2.5s\n",
      "[CV 4/5] END logreg__C=1, logreg__penalty=l2, logreg__solver=liblinear;, score=0.790 total time=   2.2s\n",
      "[CV 5/5] END logreg__C=1, logreg__penalty=l2, logreg__solver=liblinear;, score=0.786 total time=   2.3s\n",
      "[CV 1/5] END logreg__C=0.1, logreg__penalty=l2, logreg__solver=sag;, score=0.782 total time= 1.1min\n",
      "[CV 1/5] END logreg__C=1, logreg__penalty=l2, logreg__solver=lbfgs;, score=0.787 total time=   5.1s\n",
      "[CV 2/5] END logreg__C=1, logreg__penalty=l2, logreg__solver=lbfgs;, score=0.789 total time=   5.1s\n",
      "[CV 3/5] END logreg__C=1, logreg__penalty=l2, logreg__solver=lbfgs;, score=0.786 total time=   5.1s\n",
      "[CV 4/5] END logreg__C=1, logreg__penalty=l2, logreg__solver=lbfgs;, score=0.790 total time=   5.0s\n",
      "[CV 5/5] END logreg__C=1, logreg__penalty=l2, logreg__solver=lbfgs;, score=0.786 total time=   4.6s\n",
      "[CV 2/5] END logreg__C=0.1, logreg__penalty=l2, logreg__solver=sag;, score=0.785 total time= 1.2min\n",
      "[CV 3/5] END logreg__C=0.1, logreg__penalty=l2, logreg__solver=sag;, score=0.781 total time= 1.2min\n",
      "[CV 1/5] END logreg__C=10, logreg__penalty=l1, logreg__solver=liblinear;, score=0.789 total time=   6.6s\n",
      "[CV 5/5] END logreg__C=0.1, logreg__penalty=l2, logreg__solver=sag;, score=0.781 total time=  45.8s\n",
      "[CV 2/5] END logreg__C=10, logreg__penalty=l1, logreg__solver=liblinear;, score=0.790 total time=   1.0s\n",
      "[CV 4/5] END logreg__C=10, logreg__penalty=l1, logreg__solver=liblinear;, score=0.790 total time=   1.1s\n",
      "[CV 5/5] END logreg__C=10, logreg__penalty=l1, logreg__solver=liblinear;, score=0.787 total time=   0.9s\n",
      "[CV 1/5] END logreg__C=10, logreg__penalty=l1, logreg__solver=lbfgs;, score=nan total time=   0.5s\n",
      "[CV 2/5] END logreg__C=10, logreg__penalty=l1, logreg__solver=lbfgs;, score=nan total time=   0.4s\n",
      "[CV 3/5] END logreg__C=10, logreg__penalty=l1, logreg__solver=lbfgs;, score=nan total time=   0.4s\n",
      "[CV 4/5] END logreg__C=10, logreg__penalty=l1, logreg__solver=lbfgs;, score=nan total time=   0.4s\n",
      "[CV 5/5] END logreg__C=10, logreg__penalty=l1, logreg__solver=lbfgs;, score=nan total time=   0.4s\n",
      "[CV 1/5] END logreg__C=10, logreg__penalty=l1, logreg__solver=sag;, score=nan total time=   0.4s\n",
      "[CV 2/5] END logreg__C=10, logreg__penalty=l1, logreg__solver=sag;, score=nan total time=   0.4s\n",
      "[CV 3/5] END logreg__C=10, logreg__penalty=l1, logreg__solver=liblinear;, score=0.787 total time=   6.6s\n",
      "[CV 3/5] END logreg__C=10, logreg__penalty=l1, logreg__solver=sag;, score=nan total time=   0.5s\n",
      "[CV 4/5] END logreg__C=10, logreg__penalty=l1, logreg__solver=sag;, score=nan total time=   0.4s\n",
      "[CV 5/5] END logreg__C=10, logreg__penalty=l1, logreg__solver=sag;, score=nan total time=   0.4s\n",
      "[CV 1/5] END logreg__C=10, logreg__penalty=l2, logreg__solver=liblinear;, score=0.789 total time=   1.9s\n",
      "[CV 2/5] END logreg__C=10, logreg__penalty=l2, logreg__solver=liblinear;, score=0.790 total time=   1.9s\n",
      "[CV 3/5] END logreg__C=10, logreg__penalty=l2, logreg__solver=liblinear;, score=0.787 total time=   2.0s\n",
      "[CV 4/5] END logreg__C=10, logreg__penalty=l2, logreg__solver=liblinear;, score=0.790 total time=   2.1s\n",
      "[CV 5/5] END logreg__C=10, logreg__penalty=l2, logreg__solver=liblinear;, score=0.787 total time=   1.9s\n",
      "[CV 1/5] END logreg__C=10, logreg__penalty=l2, logreg__solver=lbfgs;, score=0.789 total time=   4.8s\n",
      "[CV 2/5] END logreg__C=10, logreg__penalty=l2, logreg__solver=lbfgs;, score=0.790 total time=   5.2s\n",
      "[CV 3/5] END logreg__C=10, logreg__penalty=l2, logreg__solver=lbfgs;, score=0.787 total time=   4.7s\n",
      "[CV 4/5] END logreg__C=10, logreg__penalty=l2, logreg__solver=lbfgs;, score=0.790 total time=   4.6s\n",
      "[CV 5/5] END logreg__C=10, logreg__penalty=l2, logreg__solver=lbfgs;, score=0.787 total time=   4.2s\n",
      "[CV 4/5] END logreg__C=0.1, logreg__penalty=l2, logreg__solver=sag;, score=0.785 total time= 1.3min\n",
      "[CV 5/5] END logreg__C=1, logreg__penalty=l2, logreg__solver=sag;, score=0.785 total time= 1.4min\n"
     ]
    },
    {
     "name": "stderr",
     "output_type": "stream",
     "text": [
      "/Users/karine_real/Neue_Fische/ml_project_kickstarter/.venv/lib/python3.9/site-packages/sklearn/linear_model/_sag.py:352: ConvergenceWarning: The max_iter was reached which means the coef_ did not converge\n",
      "  warnings.warn(\n"
     ]
    },
    {
     "name": "stdout",
     "output_type": "stream",
     "text": [
      "[CV 1/5] END logreg__C=1, logreg__penalty=l2, logreg__solver=sag;, score=0.787 total time= 1.5min\n"
     ]
    },
    {
     "name": "stderr",
     "output_type": "stream",
     "text": [
      "/Users/karine_real/Neue_Fische/ml_project_kickstarter/.venv/lib/python3.9/site-packages/sklearn/linear_model/_sag.py:352: ConvergenceWarning: The max_iter was reached which means the coef_ did not converge\n",
      "  warnings.warn(\n"
     ]
    },
    {
     "name": "stdout",
     "output_type": "stream",
     "text": [
      "[CV 2/5] END logreg__C=1, logreg__penalty=l2, logreg__solver=sag;, score=0.788 total time= 1.5min\n"
     ]
    },
    {
     "name": "stderr",
     "output_type": "stream",
     "text": [
      "/Users/karine_real/Neue_Fische/ml_project_kickstarter/.venv/lib/python3.9/site-packages/sklearn/linear_model/_sag.py:352: ConvergenceWarning: The max_iter was reached which means the coef_ did not converge\n",
      "  warnings.warn(\n"
     ]
    },
    {
     "name": "stdout",
     "output_type": "stream",
     "text": [
      "[CV 4/5] END logreg__C=1, logreg__penalty=l2, logreg__solver=sag;, score=0.789 total time= 1.5min\n"
     ]
    },
    {
     "name": "stderr",
     "output_type": "stream",
     "text": [
      "/Users/karine_real/Neue_Fische/ml_project_kickstarter/.venv/lib/python3.9/site-packages/sklearn/linear_model/_sag.py:352: ConvergenceWarning: The max_iter was reached which means the coef_ did not converge\n",
      "  warnings.warn(\n"
     ]
    },
    {
     "name": "stdout",
     "output_type": "stream",
     "text": [
      "[CV 3/5] END logreg__C=1, logreg__penalty=l2, logreg__solver=sag;, score=0.785 total time= 1.5min\n"
     ]
    },
    {
     "name": "stderr",
     "output_type": "stream",
     "text": [
      "/Users/karine_real/Neue_Fische/ml_project_kickstarter/.venv/lib/python3.9/site-packages/sklearn/linear_model/_sag.py:352: ConvergenceWarning: The max_iter was reached which means the coef_ did not converge\n",
      "  warnings.warn(\n"
     ]
    },
    {
     "name": "stdout",
     "output_type": "stream",
     "text": [
      "[CV 1/5] END logreg__C=10, logreg__penalty=l2, logreg__solver=sag;, score=0.787 total time= 1.3min\n"
     ]
    },
    {
     "name": "stderr",
     "output_type": "stream",
     "text": [
      "/Users/karine_real/Neue_Fische/ml_project_kickstarter/.venv/lib/python3.9/site-packages/sklearn/linear_model/_sag.py:352: ConvergenceWarning: The max_iter was reached which means the coef_ did not converge\n",
      "  warnings.warn(\n"
     ]
    },
    {
     "name": "stdout",
     "output_type": "stream",
     "text": [
      "[CV 2/5] END logreg__C=10, logreg__penalty=l2, logreg__solver=sag;, score=0.789 total time= 1.3min\n"
     ]
    },
    {
     "name": "stderr",
     "output_type": "stream",
     "text": [
      "/Users/karine_real/Neue_Fische/ml_project_kickstarter/.venv/lib/python3.9/site-packages/sklearn/linear_model/_sag.py:352: ConvergenceWarning: The max_iter was reached which means the coef_ did not converge\n",
      "  warnings.warn(\n"
     ]
    },
    {
     "name": "stdout",
     "output_type": "stream",
     "text": [
      "[CV 3/5] END logreg__C=10, logreg__penalty=l2, logreg__solver=sag;, score=0.786 total time= 1.2min\n"
     ]
    },
    {
     "name": "stderr",
     "output_type": "stream",
     "text": [
      "/Users/karine_real/Neue_Fische/ml_project_kickstarter/.venv/lib/python3.9/site-packages/sklearn/linear_model/_sag.py:352: ConvergenceWarning: The max_iter was reached which means the coef_ did not converge\n",
      "  warnings.warn(\n",
      "/Users/karine_real/Neue_Fische/ml_project_kickstarter/.venv/lib/python3.9/site-packages/sklearn/linear_model/_sag.py:352: ConvergenceWarning: The max_iter was reached which means the coef_ did not converge\n",
      "  warnings.warn(\n"
     ]
    },
    {
     "name": "stdout",
     "output_type": "stream",
     "text": [
      "[CV 5/5] END logreg__C=10, logreg__penalty=l2, logreg__solver=sag;, score=0.786 total time=  53.7s\n",
      "[CV 4/5] END logreg__C=10, logreg__penalty=l2, logreg__solver=sag;, score=0.790 total time=  54.4s\n"
     ]
    },
    {
     "data": {
      "text/plain": [
       "GridSearchCV(cv=5,\n",
       "             estimator=Pipeline(steps=[('preprocessor',\n",
       "                                        ColumnTransformer(transformers=[('num',\n",
       "                                                                         Pipeline(steps=[('imputer_num',\n",
       "                                                                                          SimpleImputer(strategy='median')),\n",
       "                                                                                         ('std_scaler',\n",
       "                                                                                          StandardScaler())]),\n",
       "                                                                         ['blurb_length',\n",
       "                                                                          'usd_goal',\n",
       "                                                                          'name_length',\n",
       "                                                                          'creation_to_launch_days',\n",
       "                                                                          'campaign_days',\n",
       "                                                                          'launch_day',\n",
       "                                                                          'deadline_day',\n",
       "                                                                          'launch_month',\n",
       "                                                                          'deadline_month',\n",
       "                                                                          'launch_t...\n",
       "                                                                                          SimpleImputer(fill_value='missing',\n",
       "                                                                                                        strategy='constant')),\n",
       "                                                                                         ('1hot',\n",
       "                                                                                          OneHotEncoder(handle_unknown='ignore'))]),\n",
       "                                                                         ['category',\n",
       "                                                                          'country',\n",
       "                                                                          'is_starrable',\n",
       "                                                                          'staff_pick'])])),\n",
       "                                       ('logreg',\n",
       "                                        LogisticRegression(max_iter=1000))]),\n",
       "             n_jobs=-1,\n",
       "             param_grid={'logreg__C': [0.001, 0.01, 0.1, 1, 10],\n",
       "                         'logreg__penalty': ('l1', 'l2'),\n",
       "                         'logreg__solver': ['liblinear', 'lbfgs', 'sag']},\n",
       "             scoring='f1', verbose=5)"
      ]
     },
     "execution_count": 81,
     "metadata": {},
     "output_type": "execute_result"
    }
   ],
   "source": [
    "grid_logreg.fit(X_train, y_train)"
   ]
  },
  {
   "cell_type": "code",
   "execution_count": 82,
   "metadata": {},
   "outputs": [
    {
     "name": "stdout",
     "output_type": "stream",
     "text": [
      "Best score:\n",
      "0.79\n",
      "Best parameters:\n",
      "{'logreg__C': 10, 'logreg__penalty': 'l1', 'logreg__solver': 'liblinear'}\n"
     ]
    }
   ],
   "source": [
    "# Show best parameters\n",
    "print('Best score:\\n{:.2f}'.format(grid_logreg.best_score_))\n",
    "print(\"Best parameters:\\n{}\".format(grid_logreg.best_params_))"
   ]
  },
  {
   "cell_type": "code",
   "execution_count": 83,
   "metadata": {},
   "outputs": [
    {
     "data": {
      "text/plain": [
       "Pipeline(steps=[('preprocessor',\n",
       "                 ColumnTransformer(transformers=[('num',\n",
       "                                                  Pipeline(steps=[('imputer_num',\n",
       "                                                                   SimpleImputer(strategy='median')),\n",
       "                                                                  ('std_scaler',\n",
       "                                                                   StandardScaler())]),\n",
       "                                                  ['blurb_length', 'usd_goal',\n",
       "                                                   'name_length',\n",
       "                                                   'creation_to_launch_days',\n",
       "                                                   'campaign_days',\n",
       "                                                   'launch_day', 'deadline_day',\n",
       "                                                   'launch_month',\n",
       "                                                   'deadline_month',\n",
       "                                                   'launch_time',\n",
       "                                                   'deadline_time']),\n",
       "                                                 ('cat',\n",
       "                                                  Pipeline(steps=[('imputer_cat',\n",
       "                                                                   SimpleImputer(fill_value='missing',\n",
       "                                                                                 strategy='constant')),\n",
       "                                                                  ('1hot',\n",
       "                                                                   OneHotEncoder(handle_unknown='ignore'))]),\n",
       "                                                  ['category', 'country',\n",
       "                                                   'is_starrable',\n",
       "                                                   'staff_pick'])])),\n",
       "                ('logreg',\n",
       "                 LogisticRegression(C=10, max_iter=1000, penalty='l1',\n",
       "                                    solver='liblinear'))])"
      ]
     },
     "execution_count": 83,
     "metadata": {},
     "output_type": "execute_result"
    }
   ],
   "source": [
    "# Save best model (including fitted preprocessing steps) as best_model \n",
    "best_model = grid_logreg.best_estimator_\n",
    "best_model"
   ]
  },
  {
   "attachments": {},
   "cell_type": "markdown",
   "metadata": {},
   "source": [
    "---\n",
    "## <span style=\"color:navy\">__Evaluation after Grid Search__\n",
    "\n",
    "Finally we have a good model. Let's see if it also passes the final evaluation on the test data. Therefore we have to prepare the test set in the same way we did with the training data. Thanks to our pipeline it's done in a blink and we can be sure no data-leakage happened at any step through the whole data preprocessing.\n",
    "\n",
    "When we saved the best model in the cell above, we did not only save the trained model but also the fitted preprocessing pipeline. Thus, transforming the test data the same way as the train data happens also when calling the .predict method on the best_model."
   ]
  },
  {
   "cell_type": "code",
   "execution_count": 84,
   "metadata": {},
   "outputs": [
    {
     "name": "stdout",
     "output_type": "stream",
     "text": [
      "Accuracy: 0.72\n",
      "Recall: 0.86\n",
      "Precision: 0.73\n",
      "f1: 0.79\n"
     ]
    }
   ],
   "source": [
    "# Calculating the accuracy, recall and precision for the test set with the optimized model\n",
    "y_test_predicted = best_model.predict(X_test)\n",
    "\n",
    "print(\"Accuracy: {:.2f}\".format(accuracy_score(y_test, y_test_predicted)))\n",
    "print(\"Recall: {:.2f}\".format(recall_score(y_test, y_test_predicted)))\n",
    "print(\"Precision: {:.2f}\".format(precision_score(y_test, y_test_predicted)))\n",
    "print(\"f1: {:.2f}\".format(f1_score(y_test, y_test_predicted)))"
   ]
  },
  {
   "cell_type": "code",
   "execution_count": 85,
   "metadata": {},
   "outputs": [],
   "source": [
    "y_train_predicted = best_model.predict(X_train)\n",
    "\n",
    "accuracy_cvgridsearch = accuracy_score(y_train, y_train_predicted)\n",
    "recall_cvgridsearch = recall_score(y_train, y_train_predicted)\n",
    "precision_cvgridsearch = precision_score(y_train, y_train_predicted)\n",
    "f1_cvgridsearch = f1_score(y_train, y_train_predicted)"
   ]
  },
  {
   "cell_type": "code",
   "execution_count": 86,
   "metadata": {},
   "outputs": [
    {
     "data": {
      "text/html": [
       "<div>\n",
       "<style scoped>\n",
       "    .dataframe tbody tr th:only-of-type {\n",
       "        vertical-align: middle;\n",
       "    }\n",
       "\n",
       "    .dataframe tbody tr th {\n",
       "        vertical-align: top;\n",
       "    }\n",
       "\n",
       "    .dataframe thead th {\n",
       "        text-align: right;\n",
       "    }\n",
       "</style>\n",
       "<table border=\"1\" class=\"dataframe\">\n",
       "  <thead>\n",
       "    <tr style=\"text-align: right;\">\n",
       "      <th></th>\n",
       "      <th>accuracy</th>\n",
       "      <th>recall</th>\n",
       "      <th>precision</th>\n",
       "      <th>f1</th>\n",
       "    </tr>\n",
       "  </thead>\n",
       "  <tbody>\n",
       "    <tr>\n",
       "      <th>logreg</th>\n",
       "      <td>0.718259</td>\n",
       "      <td>0.856775</td>\n",
       "      <td>0.728764</td>\n",
       "      <td>0.787602</td>\n",
       "    </tr>\n",
       "    <tr>\n",
       "      <th>gridsearchCV_logreg</th>\n",
       "      <td>0.719782</td>\n",
       "      <td>0.858545</td>\n",
       "      <td>0.729622</td>\n",
       "      <td>0.788851</td>\n",
       "    </tr>\n",
       "    <tr>\n",
       "      <th>random_forest</th>\n",
       "      <td>0.770834</td>\n",
       "      <td>0.877229</td>\n",
       "      <td>0.776082</td>\n",
       "      <td>0.823561</td>\n",
       "    </tr>\n",
       "    <tr>\n",
       "      <th>xgboost</th>\n",
       "      <td>0.756094</td>\n",
       "      <td>0.858625</td>\n",
       "      <td>0.768482</td>\n",
       "      <td>0.811057</td>\n",
       "    </tr>\n",
       "  </tbody>\n",
       "</table>\n",
       "</div>"
      ],
      "text/plain": [
       "                     accuracy    recall  precision        f1\n",
       "logreg               0.718259  0.856775   0.728764  0.787602\n",
       "gridsearchCV_logreg  0.719782  0.858545   0.729622  0.788851\n",
       "random_forest        0.770834  0.877229   0.776082  0.823561\n",
       "xgboost              0.756094  0.858625   0.768482  0.811057"
      ]
     },
     "execution_count": 86,
     "metadata": {},
     "output_type": "execute_result"
    }
   ],
   "source": [
    "validation_scores_X_train = pd.DataFrame([\n",
    "                                  [accuracy_logreg, recall_logreg,precision_logreg,f1_logreg],\n",
    "                                  [accuracy_cvgridsearch, recall_cvgridsearch,precision_cvgridsearch,f1_cvgridsearch],\n",
    "                                  [accuracy_rf,recall_rf,precision_rf ,f1_rf],\n",
    "                                  [accuracy_xgb,recall_xgb,precision_xgb ,f1_xgb]],\n",
    "                                        columns= ['accuracy','recall','precision','f1']\n",
    "                                        )\n",
    "validation_scores_X_train.index = ['logreg','gridsearchCV_logreg','random_forest','xgboost']\n",
    "validation_scores_X_train"
   ]
  },
  {
   "cell_type": "code",
   "execution_count": 87,
   "metadata": {},
   "outputs": [],
   "source": [
    "y_test_predicted = best_model.predict(X_test)\n",
    "y_test_predicted_logreg = cross_val_predict(pipe_logreg, X_test, y_test, cv=5)\n",
    "y_test_predicted_rf = cross_val_predict(pipe_rf, X_test, y_test, cv=5)\n",
    "y_test_predicted_xgb = cross_val_predict(pipe_xgb, X_test, y_test, cv=5)"
   ]
  },
  {
   "attachments": {},
   "cell_type": "markdown",
   "metadata": {},
   "source": [
    "\n",
    "### <span style=\"color:black\">__> Performance of the models:__"
   ]
  },
  {
   "cell_type": "code",
   "execution_count": 88,
   "metadata": {},
   "outputs": [],
   "source": [
    "accuracy_logreg = accuracy_score(y_test, y_test_predicted_logreg)\n",
    "recall_logreg = recall_score(y_test, y_test_predicted_logreg)\n",
    "precision_logreg = precision_score(y_test, y_test_predicted_logreg)\n",
    "f1_logreg = f1_score(y_test, y_test_predicted_logreg)\n",
    "\n",
    "accuracy_rf = accuracy_score(y_test, y_test_predicted_rf)\n",
    "recall_rf = recall_score(y_test, y_test_predicted_rf)\n",
    "precision_rf = precision_score(y_test, y_test_predicted_rf)\n",
    "f1_rf = f1_score(y_test, y_test_predicted_rf)\n",
    "\n",
    "accuracy_xgb = accuracy_score(y_test, y_test_predicted_xgb)\n",
    "recall_xgb = recall_score(y_test, y_test_predicted_xgb)\n",
    "precision_xgb = precision_score(y_test, y_test_predicted_xgb)\n",
    "f1_xgb = f1_score(y_test, y_test_predicted_xgb)\n",
    "\n",
    "accuracy_cvgridsearch = accuracy_score(y_test, y_test_predicted)\n",
    "recall_cvgridsearch = recall_score(y_test, y_test_predicted)\n",
    "precision_cvgridsearch = precision_score(y_test, y_test_predicted)\n",
    "f1_cvgridsearch = f1_score(y_test, y_test_predicted)"
   ]
  },
  {
   "cell_type": "code",
   "execution_count": 94,
   "metadata": {},
   "outputs": [
    {
     "data": {
      "text/html": [
       "<div>\n",
       "<style scoped>\n",
       "    .dataframe tbody tr th:only-of-type {\n",
       "        vertical-align: middle;\n",
       "    }\n",
       "\n",
       "    .dataframe tbody tr th {\n",
       "        vertical-align: top;\n",
       "    }\n",
       "\n",
       "    .dataframe thead th {\n",
       "        text-align: right;\n",
       "    }\n",
       "</style>\n",
       "<table border=\"1\" class=\"dataframe\">\n",
       "  <thead>\n",
       "    <tr style=\"text-align: right;\">\n",
       "      <th></th>\n",
       "      <th>accuracy</th>\n",
       "      <th>recall</th>\n",
       "      <th>precision</th>\n",
       "      <th>f1</th>\n",
       "    </tr>\n",
       "  </thead>\n",
       "  <tbody>\n",
       "    <tr>\n",
       "      <th>logreg</th>\n",
       "      <td>0.717581</td>\n",
       "      <td>0.856569</td>\n",
       "      <td>0.728152</td>\n",
       "      <td>0.787157</td>\n",
       "    </tr>\n",
       "    <tr>\n",
       "      <th>gridsearchCV_logreg</th>\n",
       "      <td>0.720259</td>\n",
       "      <td>0.860894</td>\n",
       "      <td>0.729190</td>\n",
       "      <td>0.789587</td>\n",
       "    </tr>\n",
       "    <tr>\n",
       "      <th>random_forest</th>\n",
       "      <td>0.750467</td>\n",
       "      <td>0.858918</td>\n",
       "      <td>0.762047</td>\n",
       "      <td>0.807588</td>\n",
       "    </tr>\n",
       "    <tr>\n",
       "      <th>xgboost</th>\n",
       "      <td>0.746066</td>\n",
       "      <td>0.843969</td>\n",
       "      <td>0.764160</td>\n",
       "      <td>0.802084</td>\n",
       "    </tr>\n",
       "  </tbody>\n",
       "</table>\n",
       "</div>"
      ],
      "text/plain": [
       "                     accuracy    recall  precision        f1\n",
       "logreg               0.717581  0.856569   0.728152  0.787157\n",
       "gridsearchCV_logreg  0.720259  0.860894   0.729190  0.789587\n",
       "random_forest        0.750467  0.858918   0.762047  0.807588\n",
       "xgboost              0.746066  0.843969   0.764160  0.802084"
      ]
     },
     "execution_count": 94,
     "metadata": {},
     "output_type": "execute_result"
    }
   ],
   "source": [
    "validation_scores_X_train = pd.DataFrame([\n",
    "                                  [accuracy_logreg, recall_logreg,precision_logreg,f1_logreg],\n",
    "                                  [accuracy_cvgridsearch, recall_cvgridsearch,precision_cvgridsearch,f1_cvgridsearch],\n",
    "                                  [accuracy_rf,recall_rf,precision_rf ,f1_rf],\n",
    "                                  [accuracy_xgb,recall_xgb,precision_xgb ,f1_xgb]],\n",
    "                                        columns= ['accuracy','recall','precision','f1']\n",
    "                                        )\n",
    "validation_scores_X_train.index = ['logreg','gridsearchCV_logreg','random_forest','xgboost']\n",
    "validation_scores_X_train"
   ]
  },
  {
   "attachments": {},
   "cell_type": "markdown",
   "metadata": {},
   "source": [
    "\n",
    "### <span style=\"color:black\">__> Confusion Matrices:__"
   ]
  },
  {
   "attachments": {},
   "cell_type": "markdown",
   "metadata": {},
   "source": [
    "> Logistic Regression:"
   ]
  },
  {
   "cell_type": "code",
   "execution_count": 95,
   "metadata": {},
   "outputs": [
    {
     "data": {
      "image/png": "[encoded data removed]",
      "text/plain": [
       "<Figure size 640x480 with 2 Axes>"
      ]
     },
     "metadata": {},
     "output_type": "display_data"
    }
   ],
   "source": [
    "cm = confusion_matrix(y_test, y_test_predicted)\n",
    "sns.heatmap(cm, cmap=\"YlGnBu_r\", annot=True, fmt=\".0f\");"
   ]
  },
  {
   "attachments": {},
   "cell_type": "markdown",
   "metadata": {},
   "source": [
    "> XGBoost:"
   ]
  },
  {
   "cell_type": "code",
   "execution_count": 96,
   "metadata": {},
   "outputs": [
    {
     "data": {
      "image/png": "[encoded data removed]",
      "text/plain": [
       "<Figure size 640x480 with 2 Axes>"
      ]
     },
     "metadata": {},
     "output_type": "display_data"
    }
   ],
   "source": [
    "cm = confusion_matrix(y_test, y_test_predicted_xgb)\n",
    "sns.heatmap(cm, cmap=\"YlGnBu_r\", annot=True, fmt=\".0f\");"
   ]
  },
  {
   "attachments": {},
   "cell_type": "markdown",
   "metadata": {},
   "source": [
    "> Random Forest:"
   ]
  },
  {
   "cell_type": "code",
   "execution_count": 97,
   "metadata": {},
   "outputs": [
    {
     "data": {
      "image/png": "[encoded data removed]",
      "text/plain": [
       "<Figure size 640x480 with 2 Axes>"
      ]
     },
     "metadata": {},
     "output_type": "display_data"
    }
   ],
   "source": [
    "cm = confusion_matrix(y_test, y_test_predicted_rf)\n",
    "sns.heatmap(cm, cmap=\"YlGnBu_r\", annot=True, fmt=\".0f\");"
   ]
  },
  {
   "attachments": {},
   "cell_type": "markdown",
   "metadata": {},
   "source": [
    "---\n",
    "## <span style=\"color:navy\">__Final Performance Metrics Comparison__"
   ]
  },
  {
   "cell_type": "code",
   "execution_count": 98,
   "metadata": {},
   "outputs": [
    {
     "data": {
      "text/html": [
       "<div>\n",
       "<style scoped>\n",
       "    .dataframe tbody tr th:only-of-type {\n",
       "        vertical-align: middle;\n",
       "    }\n",
       "\n",
       "    .dataframe tbody tr th {\n",
       "        vertical-align: top;\n",
       "    }\n",
       "\n",
       "    .dataframe thead th {\n",
       "        text-align: right;\n",
       "    }\n",
       "</style>\n",
       "<table border=\"1\" class=\"dataframe\">\n",
       "  <thead>\n",
       "    <tr style=\"text-align: right;\">\n",
       "      <th></th>\n",
       "      <th>accuracy</th>\n",
       "      <th>recall</th>\n",
       "      <th>precision</th>\n",
       "      <th>f1</th>\n",
       "    </tr>\n",
       "  </thead>\n",
       "  <tbody>\n",
       "    <tr>\n",
       "      <th>base model</th>\n",
       "      <td>0.578437</td>\n",
       "      <td>0.527447</td>\n",
       "      <td>0.706712</td>\n",
       "      <td>0.604060</td>\n",
       "    </tr>\n",
       "    <tr>\n",
       "      <th>logreg</th>\n",
       "      <td>0.717581</td>\n",
       "      <td>0.856569</td>\n",
       "      <td>0.728152</td>\n",
       "      <td>0.787157</td>\n",
       "    </tr>\n",
       "    <tr>\n",
       "      <th>gridsearchCV_logreg</th>\n",
       "      <td>0.720259</td>\n",
       "      <td>0.860894</td>\n",
       "      <td>0.729190</td>\n",
       "      <td>0.789587</td>\n",
       "    </tr>\n",
       "    <tr>\n",
       "      <th>random_forest</th>\n",
       "      <td>0.750467</td>\n",
       "      <td>0.858918</td>\n",
       "      <td>0.762047</td>\n",
       "      <td>0.807588</td>\n",
       "    </tr>\n",
       "    <tr>\n",
       "      <th>xgboost</th>\n",
       "      <td>0.746066</td>\n",
       "      <td>0.843969</td>\n",
       "      <td>0.764160</td>\n",
       "      <td>0.802084</td>\n",
       "    </tr>\n",
       "  </tbody>\n",
       "</table>\n",
       "</div>"
      ],
      "text/plain": [
       "                     accuracy    recall  precision        f1\n",
       "base model           0.578437  0.527447   0.706712  0.604060\n",
       "logreg               0.717581  0.856569   0.728152  0.787157\n",
       "gridsearchCV_logreg  0.720259  0.860894   0.729190  0.789587\n",
       "random_forest        0.750467  0.858918   0.762047  0.807588\n",
       "xgboost              0.746066  0.843969   0.764160  0.802084"
      ]
     },
     "execution_count": 98,
     "metadata": {},
     "output_type": "execute_result"
    }
   ],
   "source": [
    "validation_scores_X_test = pd.DataFrame([\n",
    "                                  [accuracy_base, recall_base,precision_base,f1_base],\n",
    "                                  [accuracy_logreg, recall_logreg,precision_logreg,f1_logreg],\n",
    "                                  [accuracy_cvgridsearch, recall_cvgridsearch,precision_cvgridsearch,f1_cvgridsearch],\n",
    "                                  [accuracy_rf,recall_rf,precision_rf ,f1_rf],\n",
    "                                  [accuracy_xgb,recall_xgb,precision_xgb ,f1_xgb]],\n",
    "                                        columns= ['accuracy','recall','precision','f1']\n",
    "                                        )\n",
    "validation_scores_X_test.index = ['base model','logreg','gridsearchCV_logreg','random_forest','xgboost']\n",
    "validation_scores_X_test"
   ]
  }
 ],
 "metadata": {
  "colab": {
   "collapsed_sections": [],
   "name": "DIabetes.ipynb",
   "provenance": []
  },
  "kernelspec": {
   "display_name": ".venv",
   "language": "python",
   "name": "python3"
  },
  "language_info": {
   "codemirror_mode": {
    "name": "ipython",
    "version": 3
   },
   "file_extension": ".py",
   "mimetype": "text/x-python",
   "name": "python",
   "nbconvert_exporter": "python",
   "pygments_lexer": "ipython3",
   "version": "3.9.13"
  },
  "vscode": {
   "interpreter": {
    "hash": "73872533fea0d9378bff65e2ec9c1a2d14bc25ca78114f0e9c45ae8ccb550c5a"
   }
  }
 },
 "nbformat": 4,
 "nbformat_minor": 4
}
